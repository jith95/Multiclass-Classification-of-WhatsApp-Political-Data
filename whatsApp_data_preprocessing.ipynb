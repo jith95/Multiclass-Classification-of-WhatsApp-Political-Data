{
  "nbformat": 4,
  "nbformat_minor": 0,
  "metadata": {
    "kernelspec": {
      "display_name": "Python 3",
      "language": "python",
      "name": "python3"
    },
    "language_info": {
      "codemirror_mode": {
        "name": "ipython",
        "version": 3
      },
      "file_extension": ".py",
      "mimetype": "text/x-python",
      "name": "python",
      "nbconvert_exporter": "python",
      "pygments_lexer": "ipython3",
      "version": "3.7.3"
    },
    "colab": {
      "name": "whatsApp_data_preprocessing.ipynb",
      "provenance": []
    }
  },
  "cells": [
    {
      "cell_type": "code",
      "metadata": {
        "id": "YE9rIuKthmBl",
        "colab_type": "code",
        "outputId": "e1832b83-f5b2-4c55-873f-52de7e8c6780",
        "colab": {
          "base_uri": "https://localhost:8080/",
          "height": 306
        }
      },
      "source": [
        "!pip install scikit-plot\n",
        "import warnings\n",
        "warnings.filterwarnings('ignore')\n",
        "import pandas as pd\n",
        "from bs4 import BeautifulSoup\n",
        "import re\n",
        "import os\n",
        "from bs4 import BeautifulSoup\n",
        "import nltk\n",
        "from nltk.corpus import indian\n",
        "nltk.download('indian')\n",
        "from nltk.tokenize import word_tokenize\n",
        "from sklearn.model_selection import train_test_split\n",
        "from sklearn.feature_extraction.text import TfidfVectorizer\n",
        "import scikitplot as skplt"
      ],
      "execution_count": 0,
      "outputs": [
        {
          "output_type": "stream",
          "text": [
            "Collecting scikit-plot\n",
            "  Downloading https://files.pythonhosted.org/packages/7c/47/32520e259340c140a4ad27c1b97050dd3254fdc517b1d59974d47037510e/scikit_plot-0.3.7-py3-none-any.whl\n",
            "Requirement already satisfied: joblib>=0.10 in /usr/local/lib/python3.6/dist-packages (from scikit-plot) (0.13.2)\n",
            "Requirement already satisfied: scikit-learn>=0.18 in /usr/local/lib/python3.6/dist-packages (from scikit-plot) (0.21.3)\n",
            "Requirement already satisfied: scipy>=0.9 in /usr/local/lib/python3.6/dist-packages (from scikit-plot) (1.3.1)\n",
            "Requirement already satisfied: matplotlib>=1.4.0 in /usr/local/lib/python3.6/dist-packages (from scikit-plot) (3.0.3)\n",
            "Requirement already satisfied: numpy>=1.11.0 in /usr/local/lib/python3.6/dist-packages (from scikit-learn>=0.18->scikit-plot) (1.16.5)\n",
            "Requirement already satisfied: kiwisolver>=1.0.1 in /usr/local/lib/python3.6/dist-packages (from matplotlib>=1.4.0->scikit-plot) (1.1.0)\n",
            "Requirement already satisfied: cycler>=0.10 in /usr/local/lib/python3.6/dist-packages (from matplotlib>=1.4.0->scikit-plot) (0.10.0)\n",
            "Requirement already satisfied: python-dateutil>=2.1 in /usr/local/lib/python3.6/dist-packages (from matplotlib>=1.4.0->scikit-plot) (2.5.3)\n",
            "Requirement already satisfied: pyparsing!=2.0.4,!=2.1.2,!=2.1.6,>=2.0.1 in /usr/local/lib/python3.6/dist-packages (from matplotlib>=1.4.0->scikit-plot) (2.4.2)\n",
            "Requirement already satisfied: setuptools in /usr/local/lib/python3.6/dist-packages (from kiwisolver>=1.0.1->matplotlib>=1.4.0->scikit-plot) (41.2.0)\n",
            "Requirement already satisfied: six in /usr/local/lib/python3.6/dist-packages (from cycler>=0.10->matplotlib>=1.4.0->scikit-plot) (1.12.0)\n",
            "Installing collected packages: scikit-plot\n",
            "Successfully installed scikit-plot-0.3.7\n",
            "[nltk_data] Downloading package indian to /root/nltk_data...\n",
            "[nltk_data]   Package indian is already up-to-date!\n"
          ],
          "name": "stdout"
        }
      ]
    },
    {
      "cell_type": "code",
      "metadata": {
        "id": "44tX4cU7ho8G",
        "colab_type": "code",
        "outputId": "0a36420c-bc89-477d-c75e-535b74f8db9e",
        "colab": {
          "base_uri": "https://localhost:8080/",
          "height": 122
        }
      },
      "source": [
        "from google.colab import drive\n",
        "drive.mount(\"/content/drive\")"
      ],
      "execution_count": 0,
      "outputs": [
        {
          "output_type": "stream",
          "text": [
            "Go to this URL in a browser: https://accounts.google.com/o/oauth2/auth?client_id=947318989803-6bn6qk8qdgf4n4g3pfee6491hc0brc4i.apps.googleusercontent.com&redirect_uri=urn%3Aietf%3Awg%3Aoauth%3A2.0%3Aoob&scope=email%20https%3A%2F%2Fwww.googleapis.com%2Fauth%2Fdocs.test%20https%3A%2F%2Fwww.googleapis.com%2Fauth%2Fdrive%20https%3A%2F%2Fwww.googleapis.com%2Fauth%2Fdrive.photos.readonly%20https%3A%2F%2Fwww.googleapis.com%2Fauth%2Fpeopleapi.readonly&response_type=code\n",
            "\n",
            "Enter your authorization code:\n",
            "··········\n",
            "Mounted at /content/drive\n"
          ],
          "name": "stdout"
        }
      ]
    },
    {
      "cell_type": "code",
      "metadata": {
        "id": "r6dMmEc-htf4",
        "colab_type": "code",
        "colab": {}
      },
      "source": [
        "data = pd.read_csv('drive/My Drive/Colab Notebooks/final.csv')\n",
        "\n",
        "#print(tweets_csv)"
      ],
      "execution_count": 0,
      "outputs": []
    },
    {
      "cell_type": "code",
      "metadata": {
        "id": "Hm-Qt6u6hmBs",
        "colab_type": "code",
        "colab": {}
      },
      "source": [
        "data_hindi = data.loc[data['language'] == 'Hindi']"
      ],
      "execution_count": 0,
      "outputs": []
    },
    {
      "cell_type": "code",
      "metadata": {
        "id": "LULePCIYhmBu",
        "colab_type": "code",
        "outputId": "1cc03ab5-86f8-4c20-f24b-688b9e79f543",
        "colab": {
          "base_uri": "https://localhost:8080/",
          "height": 34
        }
      },
      "source": [
        "data_hindi.shape"
      ],
      "execution_count": 0,
      "outputs": [
        {
          "output_type": "execute_result",
          "data": {
            "text/plain": [
              "(2068, 7)"
            ]
          },
          "metadata": {
            "tags": []
          },
          "execution_count": 4
        }
      ]
    },
    {
      "cell_type": "code",
      "metadata": {
        "id": "LVKuWPZ8hmBw",
        "colab_type": "code",
        "outputId": "dd942cd3-ed25-405e-ac19-e786a4c0daa4",
        "colab": {
          "base_uri": "https://localhost:8080/",
          "height": 221
        }
      },
      "source": [
        "data['data'].values[1].split()"
      ],
      "execution_count": 0,
      "outputs": [
        {
          "output_type": "execute_result",
          "data": {
            "text/plain": [
              "['इस',\n",
              " 'औरत',\n",
              " 'के',\n",
              " 'दिमाग',\n",
              " 'के',\n",
              " 'आगे',\n",
              " 'तो',\n",
              " 'लुटेरे',\n",
              " 'भी',\n",
              " 'फैल',\n",
              " 'हो',\n",
              " 'गये।']"
            ]
          },
          "metadata": {
            "tags": []
          },
          "execution_count": 5
        }
      ]
    },
    {
      "cell_type": "code",
      "metadata": {
        "id": "NbaMmC1RhmBy",
        "colab_type": "code",
        "outputId": "747d4c19-7623-4130-9c43-416e0c1e27d5",
        "colab": {
          "base_uri": "https://localhost:8080/",
          "height": 204
        }
      },
      "source": [
        "data_hindi.head()"
      ],
      "execution_count": 0,
      "outputs": [
        {
          "output_type": "execute_result",
          "data": {
            "text/html": [
              "<div>\n",
              "<style scoped>\n",
              "    .dataframe tbody tr th:only-of-type {\n",
              "        vertical-align: middle;\n",
              "    }\n",
              "\n",
              "    .dataframe tbody tr th {\n",
              "        vertical-align: top;\n",
              "    }\n",
              "\n",
              "    .dataframe thead th {\n",
              "        text-align: right;\n",
              "    }\n",
              "</style>\n",
              "<table border=\"1\" class=\"dataframe\">\n",
              "  <thead>\n",
              "    <tr style=\"text-align: right;\">\n",
              "      <th></th>\n",
              "      <th>favour</th>\n",
              "      <th>against</th>\n",
              "      <th>sentements</th>\n",
              "      <th>data</th>\n",
              "      <th>isPolitical</th>\n",
              "      <th>user</th>\n",
              "      <th>language</th>\n",
              "    </tr>\n",
              "  </thead>\n",
              "  <tbody>\n",
              "    <tr>\n",
              "      <th>1</th>\n",
              "      <td>[]</td>\n",
              "      <td>[]</td>\n",
              "      <td>[\"Offensive\"]</td>\n",
              "      <td>इस औरत के दिमाग के आगे तो  लुटेरे भी फैल हो गये।</td>\n",
              "      <td>False</td>\n",
              "      <td>anshuman</td>\n",
              "      <td>Hindi</td>\n",
              "    </tr>\n",
              "    <tr>\n",
              "      <th>2</th>\n",
              "      <td>[]</td>\n",
              "      <td>[]</td>\n",
              "      <td>[\"Offensive\"]</td>\n",
              "      <td>Bagaladesi aur ghuspaithi nhi chahiye</td>\n",
              "      <td>True</td>\n",
              "      <td>anshuman</td>\n",
              "      <td>Hindi</td>\n",
              "    </tr>\n",
              "    <tr>\n",
              "      <th>3</th>\n",
              "      <td>[]</td>\n",
              "      <td>[]</td>\n",
              "      <td>[\"Spam\",\"Offensive\"]</td>\n",
              "      <td>*O. M. G full HD sex*\\n \\n\\n*WATCH LIVE BOOBS*...</td>\n",
              "      <td>False</td>\n",
              "      <td>anshuman</td>\n",
              "      <td>Hindi</td>\n",
              "    </tr>\n",
              "    <tr>\n",
              "      <th>4</th>\n",
              "      <td>[]</td>\n",
              "      <td>[]</td>\n",
              "      <td>[]</td>\n",
              "      <td>Democracy ka fayda ap bhi uthao</td>\n",
              "      <td>True</td>\n",
              "      <td>anshuman</td>\n",
              "      <td>Hindi</td>\n",
              "    </tr>\n",
              "    <tr>\n",
              "      <th>5</th>\n",
              "      <td>[]</td>\n",
              "      <td>[]</td>\n",
              "      <td>[\"Others\"]</td>\n",
              "      <td>सूत्रों के मुताबिक भारतीय वायुसेना ने पहले करी...</td>\n",
              "      <td>False</td>\n",
              "      <td>anshuman</td>\n",
              "      <td>Hindi</td>\n",
              "    </tr>\n",
              "  </tbody>\n",
              "</table>\n",
              "</div>"
            ],
            "text/plain": [
              "  favour against            sentements  ... isPolitical      user language\n",
              "1     []      []         [\"Offensive\"]  ...       False  anshuman    Hindi\n",
              "2     []      []         [\"Offensive\"]  ...        True  anshuman    Hindi\n",
              "3     []      []  [\"Spam\",\"Offensive\"]  ...       False  anshuman    Hindi\n",
              "4     []      []                    []  ...        True  anshuman    Hindi\n",
              "5     []      []            [\"Others\"]  ...       False  anshuman    Hindi\n",
              "\n",
              "[5 rows x 7 columns]"
            ]
          },
          "metadata": {
            "tags": []
          },
          "execution_count": 6
        }
      ]
    },
    {
      "cell_type": "code",
      "metadata": {
        "id": "xsltE4P9hmBz",
        "colab_type": "code",
        "outputId": "687c8341-6e80-4da9-e6e9-a2039469f874",
        "colab": {
          "base_uri": "https://localhost:8080/",
          "height": 34
        }
      },
      "source": [
        "data_hindi['data'].values[0][-1]"
      ],
      "execution_count": 0,
      "outputs": [
        {
          "output_type": "execute_result",
          "data": {
            "text/plain": [
              "'।'"
            ]
          },
          "metadata": {
            "tags": []
          },
          "execution_count": 7
        }
      ]
    },
    {
      "cell_type": "markdown",
      "metadata": {
        "id": "ZsykPlOohmB2",
        "colab_type": "text"
      },
      "source": [
        "## Stop words in the dataset"
      ]
    },
    {
      "cell_type": "code",
      "metadata": {
        "id": "JhXHs4kjhmB2",
        "colab_type": "code",
        "colab": {}
      },
      "source": [
        "stopwords =set(['अत','अपना','अपनी','अपने','अभी','अंदर','आदि','आप','इस'])"
      ],
      "execution_count": 0,
      "outputs": []
    },
    {
      "cell_type": "code",
      "metadata": {
        "id": "wqI5LZf3hmB4",
        "colab_type": "code",
        "colab": {}
      },
      "source": [
        "v = data_hindi['data'].values[20]"
      ],
      "execution_count": 0,
      "outputs": []
    },
    {
      "cell_type": "code",
      "metadata": {
        "id": "L5rdr3CXhmB6",
        "colab_type": "code",
        "outputId": "ec25d7bf-33c8-45f7-be4c-d6713d689e98",
        "colab": {
          "base_uri": "https://localhost:8080/",
          "height": 34
        }
      },
      "source": [
        "v"
      ],
      "execution_count": 0,
      "outputs": [
        {
          "output_type": "execute_result",
          "data": {
            "text/plain": [
              "'जल कर रहेगी भाजपा की लंका \\nपूरे देश में बजेगा अखिलेश यादव जी का डंका\\n'"
            ]
          },
          "metadata": {
            "tags": []
          },
          "execution_count": 10
        }
      ]
    },
    {
      "cell_type": "code",
      "metadata": {
        "id": "zlTElCKuhmB-",
        "colab_type": "code",
        "colab": {}
      },
      "source": [
        "re.sub('[^0-9]+', ' ', v)"
      ],
      "execution_count": 0,
      "outputs": []
    },
    {
      "cell_type": "code",
      "metadata": {
        "id": "gDyTzlNchmCA",
        "colab_type": "code",
        "colab": {}
      },
      "source": [
        "# Combining all the above stundents \n",
        "from tqdm import tqdm\n",
        "preprocessed_reviews = []\n",
        "# tqdm is for printing the status bar\n",
        "for sentance in tqdm(data_hindi['data'].values):\n",
        "    sentance = re.sub(r\"http\\S+\", \"\", sentance)\n",
        "    sentance = BeautifulSoup(sentance, 'lxml').get_text()\n",
        "    #sentance = decontracted(sentance)\n",
        "    sentance = re.sub(\"\\n*\", \"\", sentance).strip()\n",
        "    #sentance = re.sub('[^A-Za-z]+', ' ', sentance)\n",
        "    # https://gist.github.com/sebleier/554280\n",
        "    #sentance = ' '.join(e.lower() for e in sentance.split() if e.lower() not in stopwords)\n",
        "    preprocessed_reviews.append(sentance.strip())"
      ],
      "execution_count": 0,
      "outputs": []
    },
    {
      "cell_type": "code",
      "metadata": {
        "id": "zPszTX5ChmCC",
        "colab_type": "code",
        "outputId": "9b8ba625-b0ef-4205-cfe9-aee1cf8fe74b",
        "colab": {
          "base_uri": "https://localhost:8080/",
          "height": 34
        }
      },
      "source": [
        "preprocessed_reviews"
      ],
      "execution_count": 0,
      "outputs": [
        {
          "output_type": "execute_result",
          "data": {
            "text/plain": [
              "[]"
            ]
          },
          "metadata": {
            "tags": []
          },
          "execution_count": 13
        }
      ]
    },
    {
      "cell_type": "code",
      "metadata": {
        "id": "avxht9ythmCD",
        "colab_type": "code",
        "colab": {}
      },
      "source": [
        "nltk.download('punkt')\n",
        "tokenized = []\n",
        "for line in preprocessed_reviews:\n",
        "    x = nltk.tokenize.word_tokenize(line)\n",
        "    tokenized.append(x)"
      ],
      "execution_count": 0,
      "outputs": []
    },
    {
      "cell_type": "markdown",
      "metadata": {
        "id": "RSaFy25LhmCG",
        "colab_type": "text"
      },
      "source": [
        "## Removing all the special characters"
      ]
    },
    {
      "cell_type": "code",
      "metadata": {
        "id": "-WBYv9ZYhmCG",
        "colab_type": "code",
        "colab": {}
      },
      "source": [
        "bad_chars = [';', ':', '!', \"*\",',','#','``','...','..','.','**','?','(',')','@','$','&','।','%','}','{','[',']',';']\n",
        "clean_text = []\n",
        "for line in tokenized:\n",
        "    text = \"\"\n",
        "    for word in line:\n",
        "        if word not in bad_chars:\n",
        "            text = text+\" \"+word\n",
        "    clean_text.append(text)"
      ],
      "execution_count": 0,
      "outputs": []
    },
    {
      "cell_type": "code",
      "metadata": {
        "id": "0W1qcfW9hmCI",
        "colab_type": "code",
        "colab": {}
      },
      "source": [
        "tokenized = []\n",
        "for line in clean_text:\n",
        "    x = nltk.tokenize.word_tokenize(line)\n",
        "    tokenized.append(x)"
      ],
      "execution_count": 0,
      "outputs": []
    },
    {
      "cell_type": "markdown",
      "metadata": {
        "id": "mvGMc-p8hmCK",
        "colab_type": "text"
      },
      "source": [
        "## Removing all the special character from in between the word"
      ]
    },
    {
      "cell_type": "code",
      "metadata": {
        "id": "LpTu3GcYhmCL",
        "colab_type": "code",
        "colab": {}
      },
      "source": [
        "clean_text = []\n",
        "for line in tokenized:\n",
        "    text = \"\"\n",
        "    for word in line:\n",
        "        for i in bad_chars: \n",
        "            word = word.replace(i, '')\n",
        "        text = text+' '+word\n",
        "    clean_text.append(text)"
      ],
      "execution_count": 0,
      "outputs": []
    },
    {
      "cell_type": "markdown",
      "metadata": {
        "id": "7MMomaLphmCO",
        "colab_type": "text"
      },
      "source": [
        "### Removing whitespaces from every sentence"
      ]
    },
    {
      "cell_type": "code",
      "metadata": {
        "id": "oGM2JRvdhmCP",
        "colab_type": "code",
        "colab": {}
      },
      "source": [
        "final_text = []\n",
        "for line in clean_text:\n",
        "    final_text.append(line.strip()) "
      ],
      "execution_count": 0,
      "outputs": []
    },
    {
      "cell_type": "markdown",
      "metadata": {
        "id": "PVwdgUbKhmCR",
        "colab_type": "text"
      },
      "source": [
        "### Remove all the words of single length\n"
      ]
    },
    {
      "cell_type": "code",
      "metadata": {
        "id": "Hd2Bg_AFhmCS",
        "colab_type": "code",
        "colab": {}
      },
      "source": [
        "clean_text = []\n",
        "for line in final_text:\n",
        "    text = ''\n",
        "    for word in line.split():\n",
        "        if len(word)>1:\n",
        "            text = text+' '+word\n",
        "    clean_text.append(text)\n",
        "            "
      ],
      "execution_count": 0,
      "outputs": []
    },
    {
      "cell_type": "code",
      "metadata": {
        "id": "YcxW4d8JhmCT",
        "colab_type": "code",
        "outputId": "9f7b76b7-137c-4c55-bfb0-6456d174e5a1",
        "colab": {
          "base_uri": "https://localhost:8080/",
          "height": 1000
        }
      },
      "source": [
        "clean_text"
      ],
      "execution_count": 0,
      "outputs": [
        {
          "output_type": "execute_result",
          "data": {
            "text/plain": [
              "[' इस औरत के दिमाग के आगे तो लुटेरे भी फैल हो गये',\n",
              " ' Bagaladesi aur ghuspaithi nhi chahiye',\n",
              " ' full HD sex WATCH LIVE BOOBSकमरे के बाहर कीया सेक्स देखिए वीडियोGirlfriend hot videosFADU SEXxxAWESOME FUCK',\n",
              " ' Democracy ka fayda ap bhi uthao',\n",
              " ' सूत्रों के मुताबिक भारतीय वायुसेना ने पहले करीब किलो टमाटर फेंके और जैसे ही कंगले बाहर टमाटर लूटने निकले बम मार दिए',\n",
              " ' कहाँ से इनको पकड़ा है भाई तुम लोगो ने',\n",
              " ' Teri oukat nhi be',\n",
              " \" पुलवामा झड़प में पत्थरबाजों की मौत की हालत गंभीर 50 से ज्यादा घायल आतंकी भी ढेरSource Tech Duniya '' via Dailyhuntडाउनलोड करें\",\n",
              " ' कांग्रेस मे ऐसे महिलाओं को न्याय सम्मान और सुरक्षा मिलेगी',\n",
              " ' तुम जल जल के मर जाओगेजलजला हम रुकने देगेमोदी देश नही झुकने देगाहम मोदी को नही झुकने देगे NamoAgain2019',\n",
              " ' इस लिए टारगेट हिसाब से लेना चाहिए',\n",
              " ' आगे तो ईंट घिसते ही थे अब पीछे पत्थर घिसने की आदत भी डाल लो मियां पानी_बंद',\n",
              " ' Ache se ghum sakti thi',\n",
              " ' जय श्री रामरामनवमी के पावन पर्व पर आप सभी को बहुत बहुत बधाईमा दुर्गा भवानी आप सभी की मनोकामना पूर्ण करे',\n",
              " ' इतिहासरावण ने भी अपनी बहन शूर्पणखा को आगे किया था परिणाम क्या हुआ बहन की नाक कट गई और अंत में भाई पराजित हुआ हरि',\n",
              " ' ये जो कांग्रेस का तुम लोग मजाक बनाते हो ना देख लेना एक दिन ये विलुप्त हो जायेगी और फिर कभी अपनी शक्ल भी नहीं दिखायेगी',\n",
              " ' eduction news Ntv time Janata ko bat janta ke sath',\n",
              " ' नीतीश भैय्या 18 पॉइंट्स और उनके लिंक्स हैं जिनमे ही सिर्फ हिंदुस्तान टाइम्स और हिन्दू से है और बाकी',\n",
              " ' मोदी live भागलपुर बिहार सुरज निकलेगा कमल खिलेगा मोदी जीतेगा विप्र',\n",
              " ' Dhyan se sunna dosto',\n",
              " ' जल कर रहेगी भाजपा की लंका पूरे देश में बजेगा अखिलेश यादव जी का डंका',\n",
              " ' कफननाथ पर जल्द गिरेगी गाज इतना छोटा घोटाला कर कांग्रेस की गरिमा को ठेश पहुंचाने के लिये',\n",
              " ' चौकीदार चोर है बाबा हरामखोर है सीबीआई रिश्वतखोर है बोलो चौकीदार चोर है चौकीदार चोर है भक्त हराम खोर है',\n",
              " ' किसी को पता है गलतियों पर डालने वाला पर्दा कहाँ मिलता है और कितना मीटर लेना पड़ेगा जस्ट पुछिँग',\n",
              " \" जॉन अब्राहम की फिल्म 'रॉः रोमियो अकबर वाल्टर का टीजर हुआ रिलीजvia Dailyhuntडाउनलोड करें\",\n",
              " ' बार बार कांग्रेस सरकार ही सफाई कर्मचारी का Samman karti hai',\n",
              " ' 1975 इमरजेंसी1984 सिख दंगे1989 कश्मीर पंडितों का कत्ल तब देश में सब ठीक थाजैसे ही 800आतंकी मारे गए साला संविधान खतरे मे पड गया',\n",
              " ' राहुल गाँधी कहते हैं भाजपा को हराना है और खुद वायनाड जाते हैं जहां भाजपा है ही नही काग्रेंस अपने सेनापति की बहादुरी तो देखे',\n",
              " ' Jal gayi kya bhosdiwale',\n",
              " ' बंगाल मे भारतीय सेना कोई अभ्यास नही कर सकती CBI कोई कार्यवाही नही कर सकती क्या बंगाल अघोसित तौर पर काश्मिर की तरह विषेश राज्य का दर्जा ले चुका हैं',\n",
              " ' Sunny pa ji ki road so',\n",
              " ' मुझे अभी भी जानकारी मिली है कि कोई पाकिस्तानी मादर चोद गया इस ग्रुप से',\n",
              " ' सभी कांग्रेसियों को खुली चुनौती है राहुल गांधी को वायनाड से भारत माता की जय बुलवादोजमानत जब्त होगी',\n",
              " ' Kuch galat mat bajo bhai log',\n",
              " ' किसी को राहुल गांधी पर भरोसा हो तो मुझे 50000 रू दे दो 72000 मिलते ही वापस कर दूंगी',\n",
              " ' Jai jagan jai bonthu',\n",
              " ' सुप्रभातम जी रिश्ते जब मज़बूत होते हैं तो बिना बोले महसूस होते हैंशुभममंगलम',\n",
              " ' Namoagain लिखा टी-शर्ट पहन कर प्रियंका गाँधी के कार्यक्रम में पहुँची छात्रा के साथ कांग्रेसियों की हरकत क्या जायज थी',\n",
              " ' भाई वह ग्रुप का लिंक भेजा था इसलिए बाहर किया',\n",
              " ' Har group me',\n",
              " ' Jhanta denga sale kutte man',\n",
              " ' ना से Csk आयी ना से congress आयेगी से मुंबई आयी है ओर से मोदी ही आएगा',\n",
              " ' आलु से सोना बनाया पानी से करंट निकाला 2020 तक गधे से डीजल मुतवा दे तो इसका नाम का़ँग्रेस नही',\n",
              " \" मैसेज फॉर राहुल गांधीजब तू सो रहा था '' चौकीदार '' पाकिस्तान को धो रहा था\",\n",
              " ' हाहाहा',\n",
              " ' बड़ी खबर अमेरिका ने अपने सभी नागरिकों को पाकिस्तान छोड़ने को कहा उम्मीद है कुछ बड़ा होगा',\n",
              " ' विदेशी मुद्रा भंडार 400 अरब डॉलर के पार पहुंचने की खबर पढ़ता व्यक्ति पूछता है मोदी ने क्या किया',\n",
              " ' पोस्टर से गायब अनंत सिंह क्या बारहवें खिलाड़ी बन जिताएंगे मैच',\n",
              " ' Jio kya bat',\n",
              " ' बड़ा हुआ तो क्या हुआ जैसे मायावती का हाथीसंसद में एक सांसद नहींप्रधानमंत्री के लिए ठोक रही है छाती काफिर',\n",
              " ' एक लोकसभा सीट हैं जहां पर खड़गवंशी समाज लाख की संख्या में निवास करता है',\n",
              " ' गृपचे नाव भारी आहे',\n",
              " ' Jo mohabata dikhaya tha Kasab ko bap bnakr sb janta hai',\n",
              " ' ye ye bali lonk hai',\n",
              " ' फ़ौज बदला लेने की तैयारी कर चुकी हैक्या आपमें महंगा पेट्रोल डीजल आलू टमाटर प्याज खरीदने की हिम्मत है इतना कर सकते हैं आप',\n",
              " ' ये हाल है चमचों के',\n",
              " ' पूरा देश झुक जाऐगा राहुल गांधी तेरे सम्मान मेंसीने पे बारूद बांधकर कूद जा पाकिस्तान में',\n",
              " ' इस देश का',\n",
              " ' सर्जिकल स्ट्राइक पर फ्रांस ने दिया भारत का साथ पाकिस्तान को दी नसीहतvia Dailyhuntडाउनलोड करें',\n",
              " ' आज सर्वे के आंकड़ा से कांग्रेसी बेहोश हो गएहोश में आयेगे तब जब बीजेपी 350+ 23 को परिणाम आयेंगे',\n",
              " ' देखो दोस्तो सनी देओल और राहुल गांधी की विडियो विडियो बनाने वाले को 21 तोपो की सलामी',\n",
              " ' जय श्री महाकाल श्री महाकालेश्वर ज्योतिर्लिंग का आज का भस्मआरती श्रृंगार दर्शन4 मार्च 2019 सोमवार विशेष महाशिवरात्रि महापर्व',\n",
              " ' Modi tumhara ma behen chodyga bhanky lodo',\n",
              " ' अजय टमटा है मजबूरी मोदी जी जरूरी',\n",
              " ' Grup me send kare',\n",
              " ' Pappu mutra khao kasam',\n",
              " ' Juta or chor he ye',\n",
              " ' Dimple bhabhi',\n",
              " ' Tum ho ndtv ka chashma pehne',\n",
              " ' सुना है पापियों को दोजख भी देर से नसीब होती है',\n",
              " ' Google mai search karo bhai Ur educated dont share fake news',\n",
              " ' छप्पर फाड़ के मोदी भक्त बने है सिर्फ साल में इतने तो तुम मिलकर 75 साल में कार्यकर्ता भी नही बना पाए और बराबरी करते है मोदी से',\n",
              " ' बारातियों का स्वागत पानपराग से हो या होलेकिन इन कांग्रेसियों का स्वागत हर जगह मोदी-मोदी के नारों से जरूर होता है',\n",
              " ' इस चुनाव में मोदी की हार का कारण क्या होगा बेलगाम बेरोजगारी या अनियंत्रित भ्रष्टाचार हमें कमेंट करके बताएं ModiMehangaPada',\n",
              " \" शौपिया मे सेना ने काग्रेंस के दो वोट अब्बदुला परिवार के दो सदस्य कम किएदो आतंकी ढ़ेर सेना का शौर्य मोदी56 ''\",\n",
              " ' Yah fake hai kya',\n",
              " ' _850 साल बाद हिन्दू शाषक मिला हैनाम है नरेंद्र मोदीकदर करोवरना पतन के लिए तैयार रहो_',\n",
              " ' jay_bhim_',\n",
              " ' गर्मी बहुत है ठंडी बियर पी ली जाएप्रधानमंत्री पद का दावेदार ऐश अय्याशी करते हुए',\n",
              " ' Iska jawab do',\n",
              " ' Naya toh koi aayega hi nai',\n",
              " ' Esko bahar nikalo group mese',\n",
              " ' मादरचोद',\n",
              " ' शुक्र है किन्नरों का वोट बैंक नहीं है नहीं तो कांग्रेस वाले किन्नरों के वोट के लिए यह भी कह देते की पप्पू बचपन से हिजड़ा ही है',\n",
              " ' हम नए भारत के लोग हैं अब सब समझते हैं',\n",
              " ' Tu apna manmani chalarahai',\n",
              " ' election se pahle Jarur Dekhen aapka Neta kaisa Ho',\n",
              " ' ग्रुप का नाम सही नहीं है',\n",
              " ' Circleकेवटाही मे निकाली गई मतदाता जागरूकता रैलीअपने शहर का अपना ऐप अभी डाउनलोड करें-',\n",
              " ' साल 1953 में सरकार से बिना परमिट लिए अपनी कश्मीर की यात्रा में डॉ श्यामा प्रसाद मुखर्जी ने अटल बिहारी वाजपेयी जी से लौट जाने को कयों कहा',\n",
              " ' nehru darpok',\n",
              " ' Sabki send kar bhai',\n",
              " ' Ye apne bhai he harpal bahut acche inshan he',\n",
              " ' हिम्मत है तो चुनाव उन मुद्दों पर लड़िये जो जिन पर विपक्ष चुनौती दे रहा हैअधकचरे इतिहास ज्ञान से क्यों देश को भृमित कर रहे है',\n",
              " ' देखो मैंने क्या भेजा है special-msgcom/ n=Sakib-Rajput-',\n",
              " ' हिमाचल प्रदेश भाजपा प्रदेश अध्यक्ष ने राहुल गांधी को माँ की गाली दी',\n",
              " ' सबसे खतरनाक प्रचार प्रसार bjp का',\n",
              " ' ये है कांग्रेस का न्याय',\n",
              " ' नजर_लक्ष्य_पर_थी गिरे_और_संभलते_रहे हवाओं_ने_पूरा ज़ोर_लगा_दिया फ़िर_भी_चिराग़_जलते_रहेएक बार फिर मोदी सरकारNamo-Namoठीक है',\n",
              " ' कौन कहता है कि खुशबू सिर्फ गुलाब के फूल में होती है जरा पतंग का बटन दबा के देख पूरा हिन्दुस्तान महकेगा',\n",
              " ' झूठा है तेरा वादा',\n",
              " ' आईएस टॉपर शाह फैसल को हिजबुल की धमकी राजनीति में एंट्री को लेकर चेताया',\n",
              " ' Fir bje supreme court khulegi Pakistan liye',\n",
              " ' प्रियंका गाँधी की गंगा यात्रा',\n",
              " ' महीने पहले मध्यप्रदेश बिजली बेचता थाआज सरकार बदलने से मध्यप्रदेश की ही पूर्ति नही हो रही है इसी बदलाव की बोल रहे थे कांग्रेसी',\n",
              " ' तख्त बदल दो ताज बदल दो जुमलेबाजों का ये राज बदल दो',\n",
              " ' पाकिस्तान वालों को समझ में तो गया होगा जो खाने को टमाटर नहीं दे रहे वो कश्मीर क्या घंटा देंगे',\n",
              " ' गद्दारी के किले ढह गए राष्ट्रवाद की तोप सेसांप -नेवले एक हो गए मोदी तेरे खौफ से',\n",
              " ' यह वीडियो जरूर देखें मैं आपको चैलेंज करता हूं कि इतनी बढ़िया बात आज तक किसी ने नहीं कहीं होगी और यह बात हर जगह पहुंचने चाहिए',\n",
              " ' बहुत बहुत अच्छी बात कही इन महिला एकदम सच्चाई बता दी सारी खोल के',\n",
              " ' JNU मे देशद्रोही कन्हैया कुमार 11वीं बार फेल क्लास बदली नहीं जाती है और निकला है देश बदलने',\n",
              " ' भारत ने पुलवामा हमले का लिया बदला PAK के आतंकी ठिकानों पर गिराए 1000 किलो बमvia Dailyhuntडाउनलोड करें',\n",
              " ' Oh What brilliant speech by Karnataka girl which made our proud PM to bow before her',\n",
              " ' बहुत ही अच्छी सलाह दे गया ये बंदासमझने वाले समझेंगे वैसे समझते तो सभी हैं',\n",
              " ' पुरे हरामी के ओलांद को निकाला ना जो गलत पोज कर्णेवालोको',\n",
              " ' अभी तक दुनिया की नजरें अमेरिकी चुनाव पर ही रहती थीं पर आज पहली बार दुनिया की निगाहें भारत के आम चुनावों पर है उभरता-सशक्त भारत',\n",
              " ' इंदिरा गाँधी 1966-भारत मे कोई भूखा नही रहेगा2019 राहुल गांधी भारत मे कोई भूखा नही रहेगाजुमला इसे कहते है चरणदासों',\n",
              " ' शुभ काम में देरी नहीं है भाई निकाल दिया',\n",
              " ' Big Breaking क्या अब सिरमौर के चौकीदार सुखराम भी हुए नाराज मनाते रह गए कार्यकर्ताकफोटा में सीएम की जनसभा बीच में छोड़कर क्यों निकले',\n",
              " ' Chor modi',\n",
              " ' घोडी बनाकर मुझे चोदा special fuck style of horse',\n",
              " ' जवानों की शहादत परबूथ संवारे जाते हैंनेताओं की मौत परतिरंगे उतारे जाते हैं',\n",
              " ' Phle padho likho smajhdaar bano fir lead kro ye thodi ki speech mein khe ki hm zada padhe likhe to hai nai',\n",
              " ' हमने चूड़ियां नहीं पहन रखी- इमरान खानक्यों मियाँ सलवार तो पहन रखी है ना धैर्य रखो चूड़ियाँ भी पहनाएंगे और जूता भी देंगे',\n",
              " ' पप्पू अपने खानदान की परम्परागत सीट अमेठी से चुनाव नही लड़ पा रहा है और चमचे कहते है कि मोदी ने किया क्या है',\n",
              " ' Pls like share subscribe kijiye',\n",
              " ' चेतावनीगर्भवती महिलाएं19 मई तक राहुल गांधी का भाषण ना सुनें बच्चा मंदबुद्धि पैदा हो सकता है',\n",
              " ' इसे कहते हैं महा गटबंधन कुर्सी के लालच में नहीं खडा होपारहे है नहीं खापा रहे हैंओर जनता को भी लालच देरही है कोग्रेस',\n",
              " ' कांग्रेसी नेता बीडी कल्ला को नमन करता कांग्रेसी कार्यकर्ता अबे चमचे जहां तू हाथ रखा है वहां पैर नही होते',\n",
              " ' जै हिंद',\n",
              " ' दुसरे ग्रुप की लिंक भेजो जिसमें अब भी कांग्रेसी वायरस हो',\n",
              " ' इस लड़की ने राहुल गांधी को कहीं का नहीं छोड़ा वीडियो रुकना नहीं चाहिए अधिक से अधिक शेयर जरूर करें एक भारती के नाते',\n",
              " ' Galat photu and video na bheje please',\n",
              " ' भारतीय जूता पार्टी बीजेपी पर सपा अध्यक्ष अखिलेश यादव ने ली चुटकी',\n",
              " ' Aaj group slien kya bat vai log',\n",
              " ' Khagadiya सीट पर दावेदारी ठोक Congress ने Tejashwi का पारा बढ़ाया',\n",
              " ' कन्हैया कुमार को वोट देना इसलिए सही है क्योंकि उसके पास असली डिग्री है',\n",
              " ' केला खाकर छिलके कोई ग्रुप में ना फेंके हमारी पोस्ट फ़िसल कर दुसरे ग्रुप में चली जाती है',\n",
              " ' जनता को सेटेलाइट से क्या मतलब कोंग्रेसपर हाँ रॉफेल से रोज किसान अपने खेतो को जोतने जाता है',\n",
              " ' 56 hi hota',\n",
              " \" जिस दाल को ठुकराकर तेजबहादुर '' सपा का नेता बना वो ही दाल खाकरअभिनन्दनजी ने पाक में कोहराम मचा दियाफर्क दाल में नही खून में है काफिर\",\n",
              " ' दिल्ली की लाल मस्ज़िद निज़ामुद्दीन पर CRPF का कब्ज़ा मगरिब और ईशा की नमाज़ नही होने दी',\n",
              " ' किसी मादरजात गद्दार को पाकिस्तान पर हमले का सबूत चाहिए हो तो न्यूज चैनल खोल ले इस बार दिन मे मारा है अब ना कहना कि मोदी फेकू है',\n",
              " ' मच्छर को कोई क्या मारेगा',\n",
              " ' कृपया जादा से जादा शेयर करे',\n",
              " ' जिस देश में पप्पू और मायावती जैसे लोग PM के उम्मीदवार हो वहां अप्रैल फूल मनाने की कोई आवश्यकता है क्या',\n",
              " ' Sahi bat hai',\n",
              " \" कटरा में नवजोत सिंह सिद्धू का भारी विरोध श्रद्धालुओं ने लगाए 'मोदी-मोदी के नारे भागे मुह बना करठोको ताली\",\n",
              " ' मोदी गोडसे का पुजारी हैअपने मन की बात प्रज्ञा आतंकी से कहलवा रहा हैं',\n",
              " ' Ilmul ki Gand marne liye',\n",
              " ' इन फूलों को टच करो और अपने शहीदों को श्रद्धांजलि दे जल्दी मैने तो दे दी Indian-choicecom/ n=Tushar-dave',\n",
              " ' सुप्रभात',\n",
              " ' Tum jaise hai jo Desh ke gadaaro ka saath dete ho',\n",
              " ' Jai Ho Neta ji',\n",
              " \" BJP को लम्बी अवधि की योजनाएं बनाना ही नहीं आताकाँग्रेस को देखो 50 साल पहले गरीबी हटाओ '' योजना बनाई थी आज तक वो यथावत चल रही है\",\n",
              " ' साबित कर दिया तो',\n",
              " ' ये है सुअर की औलाद आतंकी जिसने दिया है पुलवामा आतंकी हमले को अंजाम अब पाकिस्तान को सुअर की मौत मारो मोदी जी फ्री कर दो आर्मी को',\n",
              " ' ये है असलियत फेसबुकिया व्हाट्सएप वाले बहादुरों की',\n",
              " ' फिलहाल एनडीटीवी को बस यही चिंता है कि यूपी मे कांग्रेस कितनी सीटे जीतेगी भले ही परसो देश मे बडे आतंकी हमले मे देश ने 40 जवान खोए है PulwamaAttack',\n",
              " ' आज शाम को श्री अरविंदर सिंह लवली जी का प्रचार करते हुए पटपड गंज के सभी कार्यकर्ता',\n",
              " ' 2014 से पहले जामा मस्जिद के इमाम बुखारी कांग्रेस के पक्ष में वोट करने का फरमान जारी करता था अब फरमान बन्द हैयही अच्छे दिन हैNAMO AGAIN',\n",
              " ' हर हाथ मे तिरंगा लेकरइनक्लाब की बोली हो जो देश विरोधी भाषा बोलेउसके सीने मे गोली होवन्देमातरम्',\n",
              " ' अब तो खुश ना',\n",
              " ' जा तल्वे चाट बोल रहा हूँ समझ नही आता है क्या या हिंदी समझ नही आता है बरकार इंसान',\n",
              " ' असंगठित मजदूरों को 3000 रू प्रतिमाह पेसंन',\n",
              " ' मैं जपदी मोदी मोदी करदी हाँ मोदी मोदी करदी हाय रब्बा हाय रब्बा हाय रब्बा दलेर मेंहदी हुए भाजपा में शामिल',\n",
              " ' देखे वीडियो दुनिया की पहली पानी पर तैरती सुरंग',\n",
              " ' Maine diya mc',\n",
              " ' कृपया आप सब ग्रुप की मरियादा बना कर रखे',\n",
              " ' Kuldeep ने आपके लिये कुछ भेजा है ओपन करने के बाद इस को टच करे socialpowerclub/ n=Kuldeep',\n",
              " ' मुझे गर्व है अपने इस ग्रुप में जिसमे 90 लोगनमो सपोर्टर हैबाकी10 पप्पू तो हर ग्रुप मे होते ही है',\n",
              " ' जितना हो सके उतना शेयर करो ताकि यह कुत्ता पकड़ा जाए बहुत बोलता है',\n",
              " ' विपक्ष के साथ कैसा व्यवहार करते हैं यह मोदीजी यदि प० बंगाल की ममता बानो से सीख लें तो देश की आधी समस्याएँ ख़त्म',\n",
              " ' Desh ko hindu vs musalman bana de logo mein dushmani',\n",
              " ' avinash gupta tumhari atankwadi jo desh bhakt ko gaddar kehti hai unka vakil chamche',\n",
              " ' बजट नही खुशियों का पिटारा हैनरेन्द्र मोदी फिर से एक बार बोल रहा देश हमारा हैं',\n",
              " ' पप्पु भाजपा को हराना चाहता है और खुद वायनाड से चुनाव लड़ रहा हैं जहां भाजपा है ही नही चमचे अपने सेनापति की बहादुरी तो देखे',\n",
              " ' पहले पाकिस्तान कह रहा था कि उसके पास दो भारतीय पायलट है',\n",
              " ' मस्जिद-चर्च को मुफ़्त बिजली मिलेगी काँग्रेस का घोषणा-पत्र मन्दिर अंधेरे में ही रहेंगेअब स्वयं निर्णय कीजिये कि धर्म की राजनीति कौन कर रहा है',\n",
              " ' डॉक्टर अब आप खतरे से बहार है फिर भी आप ईतना डर क्यों रहे हैंमरीज जिस ट्रक से मेरा दुर्घटना हुआ था उसपे लिखा था जिंदगी रही तो फिर मिलेंगे',\n",
              " ' मेरे और मेरे परिवार की और से भक्तो को मोदी दिन की ढेर सारी बधाईया',\n",
              " ' मोदी ने अर्थव्यवस्था बेहाल की हम नयी जान फूंकेंगे राहुल गांधीभई तू गांजा फूँक देश हमारा है हम देख लेंगे',\n",
              " ' चप्पा चप्पा खंडहर हो गली गली श्मशान लगेइतना बारूद उड़ा डालो पूरा पाक कब्रिस्तान लगे',\n",
              " ' Jai Modi',\n",
              " ' इसमे सिद्धू भी शामिल है',\n",
              " ' योगी जी का बयान कहा कि अगर मोहर्रम के नाम पर हिंसा भड़का ओगे तो ये आखिरी जूलूस होगा इन महाराज का मूड अलग ही रहता हैं',\n",
              " ' इंडिया टुडे Exit Poll दिल्ली में बीजेपी को से सीटें मिलने के आसार',\n",
              " ' उस टाइम सरदार पटेल को चुना होता तो आज भारत महासत्ता होतागलती हुई थी उस बार वो अब सुधारनी हैमोदी और भाजपा की मजबूत सरकार वापस लानी है',\n",
              " ' हम चाहते हैं कि भाजपा के लोग भी झूठ बोलने का संकल्प लें yadavakhilesh संभल MahaGathbandhan से MahaParivartan',\n",
              " ' ये सब क्या बकवास है ये राजनीतिक ग्रुप है की निजी एडमिन ध्यान दें',\n",
              " ' आप किसके साथ',\n",
              " ' 216 सीट थी तो रामसेतु काल्पनिक था 44 पर आये तो पूजा करने लगे इनको पर भेज दो मंदिर वहीं बनायेंगे चिल्लाते नज़र आयेगेकोई शक',\n",
              " ' Baaki to bheja hi check kia jata',\n",
              " ' हिन्दू धर्म स्थल को सरकारी नियंत्रण से मुक्त करवायें अर्थात् हिन्दू धर्म दान एैक्ट 1951 महाभिशाप की समाप्ति करवायें NHDMT लागू करें',\n",
              " ' यह किस लिए',\n",
              " ' अगर प्रियंका चुनाव लड़ जाती तो मोदी के पैरों तले जमीन खिसक जाती-राबर्ट वाड्राये जब भी बात करता है जमीन की ही बात करता है',\n",
              " ' भाई ने 17 लाख 50 हजार का हिसाब दे दिया कांग्रेसियों के मुंह पर इस वीडियो को मारा जा सकता है जो 15 लाख रुपये के लिए रुदन मचाये हुए है',\n",
              " ' क्या भेजेंकोई भी व्यक्तिगत फोटो व्यक्तिगत ऑडियो वीडियो भेजने की अनुमति बिल्कुल भी नहीं है अखण्ड संकल्प समिति',\n",
              " ' सिद्दू की तरह मेरी भी अपील है सब हिन्दुओ से एक जुट हो जाओ सुलटा दो ठगबंधन को हम भी 80 है',\n",
              " ' भाई देश दुनिया कहां से कहां पहुंच गई और आप',\n",
              " ' मेरा मोदी-मीटर 10 है आपका मोदी-मीटर क्या है इस लिंक पर अभी जांचें और नमो टी-शर्ट जीतने का मौका पाएं',\n",
              " ' उसके घर फ्रिज नहीं हैं मैंने बर्फ भेज दी अब वो नाराज हैं पड़ोसन',\n",
              " ' Urs mubarak hai kaha',\n",
              " ' Mai ye bhi Chahta hu ki meri post aapko bhi buri lagey Jaise Hamm sab ki Lagta hai',\n",
              " ' हमारे चैनल को जरूर सब्सक्राइब करें',\n",
              " ' कायराना हरकतें अब बहुत हुई अब गोली का जवाब गोली से दिया जायेगा लाल आंतक हारेगा लोकतंत्र और छत्तीसगढ़ की जनता जीतेगी Fight Back Bastar',\n",
              " ' तो Akhilesh Mayawati ka jitne gathbandhan Kiya isme kya problem hai',\n",
              " \" अगर ऊपर वाले '' के साथ आपके सम्बन्ध मजबूत है तो '' धरती वाले '' आपका कुछ नहीं बिगाड़ सकते है जय श्री कृष्णा\",\n",
              " ' मेरी शान है कांग्रेस मेरा मान है कांग्रेस जय कांग्रेस',\n",
              " ' कांग्रेस के घोषणा पत्र ने अच्छा माहौल बना दिया हैबस मणि शंकर अय्यर आकर तड़का लगा दे तो मजा जायेगावैसे वो है कहां',\n",
              " ' वोट के लिए नौटँकी कोई भी कर लेलेकिन नवरात्रि के नौ दिन व्रत सिर्फ मोदी-योगी ही रखते हैं जय माता दी',\n",
              " ' NDTV वाले कोई एक्ज़िट पोल नहीं दे रहे उनका कहना है हमारे रविश कुमार की शक्ल ही बता देगी की कौन रहा है',\n",
              " ' ये वीडियो जरुर देखें और शेयर करे जरूर करें',\n",
              " ' भारतीय जनता पार्टी का स्वागत शुरू हो गया है आप भी कर लो',\n",
              " ' जी जो आगिया प्रभु',\n",
              " ' तुम कांगी बताओगे वह वीडियो फेक है या सही है',\n",
              " ' Personal gali mat do',\n",
              " ' वाह मोदी जी-हर वर्ग को ढ़ेरों रियायतें दीं फिर भी बज़ट घाटा 33 से बढ़ने नही दिया विकास भी-सुविधाएं भी-देश की आर्थिक सेहत का ध्यान भी',\n",
              " ' बात कोई भी गलत नहीं है जो दिल में है खुल कर कहिए जय श्री राम',\n",
              " ' कमल हासन को देवकीनंदन ठाकुर ने दिया करारा जवाब ओर साथ मे सोये हुए हिन्दुओ को भी दे डाला सबक',\n",
              " ' राम नाम की चादर तन पे अन्तिम वस्त्र हमारा होअन्तिम सफर में मै जब निकलूजय श्री राम का नारा हो',\n",
              " ' Unke chamche bhi Pakistan jayege',\n",
              " ' पिंकी आज रोड शो में अपने दोनों बच्चों को लेके आयी चमचो को ये बताने के लिए कि आगे तुमको इनकी गुलामी भी करनी है',\n",
              " ' 72 हूरो में से एक बनेंगी ये',\n",
              " ' महाठन्गबन्धन की रैलीशरद जी बोफोर्स बोफोर्स पिछे वाले अंकल जी बगल से जाते हुए कान में कहते हुए शरद जी कम से कम आज तो गांजा नहीं मारते',\n",
              " ' घुंगरु की तरह बजता ही रहा हूँ मैं कभी इस पथ में कभी उस पथ में पिटता ही रहा हूँ मैंबताओ कौन',\n",
              " ' सपथ ग्रहण करवा रहे हो क्या',\n",
              " ' क्या आपको पता है ग्राहम बेल ने टेलीफोन का आविष्कार नेहरू के कहनेपे ही किया थाताकि वो एडविना को फोन लगा सकें थैंक्स टू नेहरू',\n",
              " \" मोदी जी इस बार नहीं बोलोगे अच्छे दिन आएंगे कालाधन लाऊंगा 100 स्मार्ट सिटी बनाऊंगा 10 करोड़ नौकरिया दूंगा '' निकल गयी हेकड़ी\",\n",
              " ' Ghochu hai kyaa',\n",
              " ' आओ और मुझे इस बढ़िया लुडो गेम में मिलें',\n",
              " ' 72000के लिए कौन सा पेड़ लगा दिया है',\n",
              " ' आतंकी मसूद अजहर को बड़ा झटका हमले में दो भाई मारे गएvia Dailyhuntडाउनलोड करें',\n",
              " ' आप को खुले दिमाग़ से मात्र इतना सोचना है कि पाकिस्तान जैसा हरामी देशहिंदुस्तान में काँग्रेस की सरकार क्यों चाहता है',\n",
              " ' एयर स्ट्राइक के सदमें में डूबे बुद्धिजीवी महाशिवरात्रि परदूध चढ़ाने का विरोध करना भी भूल गए',\n",
              " \" ममता बनर्जी बोलीं- लोकसभा चुनाव से पहले हो सकती है एक और स्ट्राइकSource News18 '' via Dailyhuntडाउनलोड करें\",\n",
              " ' Survey chod 23 tak ruk Modi hi jitega',\n",
              " ' Bhaiyo sbhi Neta ese hi Hote',\n",
              " ' मिस्टर kanahiyakumar को भी पता चल गयाबाप का नाम लिये बिना देश की राजनीति ही अधुरी है Asaduddin_oawisi',\n",
              " ' 4-5 महीने हो गए राजस्थान मध्यप्रदेश छत्तीसगढ़ के बेरोजगारो से पूछना था कलेक्टर बन गए क्या',\n",
              " ' जय श्री श्याम जी',\n",
              " ' रोड़ शो देख कर सबसे लंबी सुकून की सांसप्रियंका गांधी ने ली होगीबच गई',\n",
              " ' 23 may ke bad Rahul ka reaction',\n",
              " ' बाबा राम रहीम बन के रह जाएंगे 23 मई के बाद से tensan मत लो आप',\n",
              " ' To ja gaand gu khale',\n",
              " ' DIDI LIVE FBLIVE বারোবিশায় জনসভা ALIPURDUARSHARE LIKE COMMENT SPREAD ALL OUT',\n",
              " ' Congress mukt bharat',\n",
              " ' लड़कियां अकेले में ये सब सर्च करती है इंटरनेट पर देखकर चौंक जायेंगे आप',\n",
              " ' मजबूर थे तो परिवार में किसी के भी पिछवाड़े डाल देते दूसरों को क्यों प्रभावित करते हो',\n",
              " ' लगता है भक्त का दिमाग नही है sam को सलीम पढ़ रहे है',\n",
              " ' अररिया फारबिसगंज प्रखंड/नगर क्षेत्र में तेज हवाओं के साथ हो रही बारिश सबसे तेज़ खबर दिनभर',\n",
              " ' फेकू का भाषण सुनकर ऐसा लगता है जैसे बचपन मे उनका उठना बैठना मोहल्ले की चुगलखोर औरतों के साथ रहा होगा सबकी बुराई बस अपनी बड़ाई',\n",
              " ' Is link ko zarur dekhe',\n",
              " ' चौकीदार अगर चोर होता तो करोड़ो के घोटालों में गांधी परिवार की तरह वो भी जमानत पर बाहर होतासोचेबात में है दम कोई शक',\n",
              " ' मोदी नफरत में ममता बनर्जी ने बंगाल में क्या हाल कर रखा है हर एक के ग्रुप में पहुंचाए',\n",
              " ' Pakistani bhi hai is grp me',\n",
              " ' Bjp mane bjp',\n",
              " ' जिनको तीन-तीन महीनें चक्कर लगाने पडते थे अब 15 दिन में जिनके पासपोर्ट बन रहे हैं वो पूछतें हैं मोदी ने क्या किया',\n",
              " \" एक सुन्दर सी लड़की मेरी तरफ बढ़कर आईऔर बोली '' मेरी हर एक सांस परहर कोई मरता है मैने कहा कोई अच्छा सा टूथपेस्ट ले ले पगली ''\",\n",
              " ' English aati hai chamche',\n",
              " ' Bahut sunder bhai ji',\n",
              " ' Congress kahan tak pahunch gayi',\n",
              " ' भाजपा का एक और विकास अभी-अभी खरवा मसूदा में भागीरथ चौधरी की सभा में पलाडा Vsनवीन शर्मा के बीच चले जम कर लाते -घुस्ते यह तो होना ही था',\n",
              " ' पाकिस्तान से जैश-ए-मोहम्मद चिल्ला के कह रहा मैने किया है मगर ममता और सिद्दू जैसे दल्ले कह रहेहैं इसमें पाकिस्तान का हाथ नहीं है',\n",
              " ' चिनुक हेलिकॉप्टर की पहली डिलीवरी',\n",
              " ' वीरेंद्र सहवाग ने शहीद के परिवार की पूर्ण शिक्षा की जिम्मेदारी ली',\n",
              " ' सर्दी ने भी कस्सम कहा रखी है इस बार तो भाजपा को साथ ले कर ही जाउंगी',\n",
              " \" Read Article 'शहडोल सीधी लोकसभा के संचालन समिति की बैठक संपन्न'Using app 'आयुष इंडिया न्यूज़'Source\",\n",
              " ' Wha ankita ji',\n",
              " ' कांग्रेसी और बाकी लोगो से निवेदन है कि priyankagandhi को गांधी नहीं वाड्रा कहिए वो शादीशुदा है तलाकशुदा नहीं',\n",
              " ' hahahamodi ke spane dikhrhe hai ambani aur modi ke news channels walee',\n",
              " ' आज एक Nayi खोज कर दीGroup में K+ टाईप करने पर ग्रुप के सभीसदस्य दिखाई पड़ जाते है Sirf type kijiye send nahiTry Kar ke dekhiye',\n",
              " ' एयर स्ट्राइक वायुसेना चीफ बीएस धनोवा बोले- हम टारगेट हिट करते हैं लाशें नहीं गिनते',\n",
              " ' मई 2019इतवार को चुनाव है छुट्टी है बहुत धूप भी होगी लेकिन घर मत बैठ जाना वोट देने जरुर जाना अरविंद केजरीवाल',\n",
              " ' ये वीडियो देखकर सोचिए अगर इस आदमी के पास पूरी पावर जाए तो अफसरों की हिम्मत नहीं होगी कि वो पब्लिक का काम रोक पाएं बंदा तो ये है कमाल का',\n",
              " ' भाड़ में जाये दुनियादारीमैंने तो मेरी रजाई का नाम ही जानू रख लिया',\n",
              " ' चुनाव की तारीखों में अगर विपक्ष को धर्म दिख रहा है तो क्या हमें भी धर्म के अनुसार ही वोट करना चाहिये',\n",
              " ' Modi jete GA 100 Mera wada',\n",
              " ' बुरहानपुर कांग्रेश भाजपा का आरोप प्रत्यारोप दौर जारी दोनों ने एक दूसरे पर लगाया आरोप खबर IBN9 पर जिला सवाददाता शकीलखान',\n",
              " ' 23/59 तिलक नगर 1st फ्लोर से कोई आदमी रोज पाकिस्तान जिंदाबाद के नारे लगाता है आज भी लगा रहा है',\n",
              " ' Is madhar chod ko niklo group sa bhosari bala Pakistani',\n",
              " ' रात्रि बजे आतंकी मरवाने हो तो भाजपा को वोट दें रात्रि बजे सुप्रीम कोर्ट खुलवाकर आतंकी को छुड़वाना हो तो आप जानते ही हो',\n",
              " ' आज महाशिवरात्रि हैं सेना किसी भी समय कर सकती हैं तांडव',\n",
              " ' मोदी हां करें मैं घर आकर कर लूंगा भ्रष्टाचार पर बहस राहुल गांधी',\n",
              " ' नचनिया थी दुनिया जानती है भाई',\n",
              " ' 2014 जैसा पूर्ण बहुमत 2019 में भी आएगापूरा विपक्ष मिलकर भी मोदी की मूंछ का बाल भी उखाड़ पायेगाठीक है',\n",
              " ' रहस्यमयी सूत्रों से पता चला है कि अब टोंटीचोर हेमपुष्पा पीने की सोच रहा हैंक्योंकि वो मुश्किल दिनों के लिये होती है',\n",
              " ' केवल एक वादा छोड दिया मसूद जी और हाफ़िज जी को भारत रत्न देने का shamecongress',\n",
              " ' Jai Hind',\n",
              " ' एक बार वीडियो देख ले फिर आपको समझ आएगाइन आंसुओ की कीमत',\n",
              " ' Ye sab kya bhai log kis liye bnaya gya hai group jo baate ho wo batao kya sab jo ji me aaya sab uthaa ke send kar diye',\n",
              " ' सभी मुस्लमान-एक होकर वोट दे तो-मोदी का हारना तय नवजोत हिन्दुओ इस बार तो हिंदू एकता का एहसास दिलाओ नमो अगेन',\n",
              " ' झाडू आप का है लगा मोदी जी रहे है साफ कांग्रेस हो रही है पेट में दर्द चमचो के हो रहा है मज्जा हमे रहा है',\n",
              " ' 44 बलिदानियों का बदला जल्द ही पूरे विश्व में गूंजेगा हमे पूर्ण विश्वास है अपनी सेना और सरकार पर अश्रुपूर्ण_श्रद्धांजलि',\n",
              " ' Bhai tum bahut galat kat rhe ho',\n",
              " ' 5-5 मिनट पर मोबाईल चेक कर रहा हूं क्या पता कब बोल देंमेरे प्यारे भाइयों- बहनों और मित्रों पाकिस्तान अब नहीं रहा',\n",
              " ' But parde ke pichhe ki mat dikhao',\n",
              " ' Khali jikyq',\n",
              " ' इन्सान हमेशातकलीफ में ही कुछ सीखता है खुशी में तो वो पिछलेसबक भी भूल जाता है शुभ प्रभात',\n",
              " ' चुनाव गए हैं मतभेद के कारण आपसी संबंध खराब करें कमल का बटन दबाएं वरना संबंध खराब होना तय है नमो अगेन',\n",
              " ' कुछ ख्वाहिशों का अधूरा रहना ही ठीक है जिन्दगी जीने की चाहत तो बनी रहती है Good Morning',\n",
              " ' Ya to dekhiye google pr',\n",
              " ' में तो रख ही रहा हु',\n",
              " ' Even France Britain America prstav laega un me Jaish khilaf',\n",
              " ' राजगढ़ रामपुरिया वेयर हाउस में रखे गेंहू में लगी कीट जिम्मेदार झाड़ रहे पल्लाताजा खबर पाने के लिए हमारे इस चैनल को सब्सक्राइब करे',\n",
              " ' सही कहा आपने',\n",
              " ' जब से पता चला है कि प्रियंका दूसरी इंदिरा गांधी है हमारे सिख भाई बंदूक की सफाई करने बैठ गए',\n",
              " \" बुढापे मे हर बार अनशन '' के बहाने '' अन्ना हजारे '' अपने सारे 'मैडिकल टेस्ट फ्री में करा जाते हैं\",\n",
              " ' धन्यवाद सभी भाइयों का मैं सभी भाइयों का आभार व्यक्त करता हूं जी जय जय श्री राम',\n",
              " ' Jai ho modi ji',\n",
              " ' Inka group',\n",
              " ' कांग्रेस के पास ना कोई विज़न है ना कोई रीजन हैना ही कांग्रेसियों का सीज़न है बस गधे को PM बनाना एक मात्र डिसीजन है',\n",
              " \" '' हाँ मैं भी चौकीदार हूं '' काॅलर ट्यून सेट करने के लिए 7237904676 इस नं पर मिस्डकाॅल करें और मोदी जी का प्रचार करें\",\n",
              " ' Modi ji Kedarnath mai Dayan laganey gai vo leave per they ya duty per',\n",
              " ' राहुल गांधी के सगे अब्बू मसूद अजहर को अंतरराष्ट्रीय आतंकी घोषित किया गयाआज तो फूट फूट के रो रही होगी पप्पू की अम्मा काफिर',\n",
              " ' RSS का खौफ देखें आपको खुशी मिलेगी',\n",
              " ' सिंगल लड़कियों में शोक की लहर TikTok हुआ बैन',\n",
              " ' दिग्विजय के खिलाफ लड़ने पर बोली साध्वी प्रज्ञासिंह ठाकुर पहले किगंमेकर थी अब किंग बनूँगी स्वागत हे दीदी आपका',\n",
              " ' Me to yha new aai hu',\n",
              " ' आपको गुड न्यूज़ मिल गई हो तो दूसरों को मत दो ठीक है अपना ज्ञान अपने ही पास रखो',\n",
              " ' बारिश ने आकर कीचड़ कर दिया कमल खिलने का इशारा कर दियाElection2019',\n",
              " ' गुड़ी पड़वा स्पेसेल',\n",
              " ' आदत थी रिश्तों में दूध-शक्कर की तरह घुल मिल जाने की पर याद ही नहीं रहा कि ज़माना तो शुगर फ़्री हो गया है सुप्रभात',\n",
              " ' Chor bhai chor',\n",
              " ' बचके चल कटवे क्योकिपहले तो हम सिर्फ हिन्दू थे लेकिन अब कट्टर हिन्दू हो गए',\n",
              " ' Tum Google modi aalochna search karte ho tumhari samsya ye',\n",
              " \" BIGO LIVE अनजान लड़कियों '' से लाइव वीडियो कॉल करे यह एप कीजिए इंस्टॉल\",\n",
              " ' भाई आग लगा दी इस लडके ने राहुल गांधी को सीधी चुनोती2minनिकालकर ऑडियो को पूरा सुने share करने से रोक नही पाओगे100',\n",
              " ' Nhi यार लगती हो गी',\n",
              " ' पप्पू ने किसान कर्ज माफ करते ही फसल उड़ने लग गई',\n",
              " ' कांग्रेस के जितने सांसदों को टिकट नही मिला वो निराश हों जिनको मिला है वो भी कुछ उखाड़ नही पाएंगे',\n",
              " ' ऊपर दिए गए लिंक पर जाकर उसकी औकात बताना है कुत्ते कोकौन कौन आयेगा',\n",
              " ' इन्दिरा को किसने मारा यह तो कांग्रेसियों ने बता दिया पर सुभाचन्द्र बोष को किसने मरवाया था यह आज तक इन्होंने नहीं बताया',\n",
              " ' फालतू पोस्ट नहीं',\n",
              " ' Hum nhi kah rhe modi harenge',\n",
              " ' पोस्ट को रिपीट मत करें जी',\n",
              " ' देखो भाई हम लोग पड़े लिखे हैं समझ सकते है अभी तक किसी भी पार्टी किसी भी नेता ने अपने baade pure nahin kiye',\n",
              " ' चिटफंड घोटाले में आरोपी रहे कोलकाता पुलिस कमिश्नर गायब है सीबीआई इसे ढूंढ़ने घर आई थी लेकिन अफसरों क़ो ही गिरफ्तार कर लिया गया',\n",
              " ' मोदी जी की यही खासियत है बम पाकिस्तान में फोड़ें या अंतरिक्ष में धुंआ कांग्रेसियों के पिछवाड़े से ही निकालता हैं',\n",
              " \" कोई साथ दे या दे मोदीजी का में जरूर उनका साथ दूंगा क्योकि उनकी बात आज भी दिल में बसी है मै देश नही झुकने दूंगा '' जय श्री राम\",\n",
              " ' साथियो यह लोग मंदिर में भी बलात्कार कर देते है',\n",
              " ' जन अपेक्षाओं पर उतरुंगा खरा दें सेवा का मौका होगा भदोही लोकसभा का सर्वांगीण होगा विकास-रमेश बिंद',\n",
              " \" प्रश्न- सिरदर्द का क्या हाल है '' '' '' '' '' '' '' '' '' '' '' '' उत्तर-फिलहाल दो-तीन दिन से ग्रुप में नहीं दिख रही\",\n",
              " ' थाईलैण्ड की सैक्स वर्कर टूरिस्ट विजा की आड में दा मीरा स्पा सेंटर में चल रहा था देह व्यापार का धंधा paliwalwani via Paliwalwani',\n",
              " ' गीता प्रेस जो UPA के कार्यकाल में बंद होने के कगार पर थी आज वो 22 करोड़ रुपये का सलाना टर्नओवर कर रही है',\n",
              " ' ठगबंधन में किसी की हिन्दी कमजोर किसी की इंग्लिशकिसी की सोचकिसी की बुद्धिलेकिन घोटालों-भ्रष्टाचार में सब चैम्पियन है',\n",
              " ' नेहरू परिवार की कोख धन्य है वह अध्यक्ष और महासचिव से नीचे कुछ पैदा ही नहीं करती है',\n",
              " ' जितने देश प्रेमी अभी नजर रहे हैं उनसे इतनी गुज़ारिश है बस यहां वहां गुटखा खा कर ना थूकें बस इतनी देश भक्ति दिखाएं',\n",
              " ' शत्रुघ्न सिन्हा जिस पप्पू को देश के लिए सही बता रहे हैं जब उनसे पूछा क्या पप्पू सोनाक्षी के लिए ठीक है तो बुरा मान गए',\n",
              " ' शत्रुघन जी ने कह दिया कि अखिलेश यादव भविष्य का बड़ा चेहरा होंगे',\n",
              " ' रफेल से भी बड़ा घुटाला किसान बीमा योजना समझो मेरे वोटरों ज़्यादा से ज़्यादा शेयर करना दोसतो',\n",
              " ' युवा के नेता सोनू यादव अमरौख',\n",
              " ' संभल से समाजवादी उम्मीदवार डॉक्टर शफीक उल रहमान वर्क पुरानी यादें जिंदा कर रहे हैं अपनी',\n",
              " ' Bol na ab',\n",
              " ' वो क्रांतिकारीगोली से नही डरताथप्पड़ से क्या डरेगावो लड़ता रहेगा-वो लड़ता रहेगा BJPScaredOfKejriwal',\n",
              " ' वो तुम्हे जुमला देकर जातिबाद ओर धर्म का पाठ पढ़ाकर फिर से वोट मांगेंगे तुम पंजाउनके मुंह पर छाप देना',\n",
              " ' कौन कौन बहुजन संगठन संविधान को बचाने के लिए मार्च 2019 के भारत बन्द का समर्थन करते हैं',\n",
              " ' यदि आपके पास ऐसे दोस्त है तो आपको महँगी बाइक लेने की जरूरत ही नही',\n",
              " ' 7567227289add kro',\n",
              " ' बेचारे कांगियो की लोग कह के ले रहे है',\n",
              " ' Dono ki izzat me din raat ka fasla beta',\n",
              " ' पहले ही चरण में भाजपा की हवा निकल चुकी है और संभल आते आते हवा पता भी नहीं चलेगी yadavakhilesh संभल MahaGathbandhan से MahaParivartan',\n",
              " ' रतलाम में RSS के कार्यकर्ता की गला रेत कर हत्या जो कलंक नाथ ने कहा हमारी सरकार आने दो एक एक को निपटा देगें वही हो रहा है',\n",
              " ' मजा गया बस इसी न्यूज़ का इंतजार था कि',\n",
              " ' रे सुवरो ये तो सिर्फ 200 किलो RDX का बदला था दोगलो परमाणु बम की बात करोगे तोकराची का समंदर इस्लामाबाद मे मिला देगे',\n",
              " ' साला इसलिए तो में कांग्रेसी चमचे से हाथ नहीं मिलाता हूँ',\n",
              " ' इंडिया टुडे Exit Poll बिहार में NDA को 38 से 40 सीटें मिलने के आसार',\n",
              " \" 'आप सांसद ने की कश्मीरियों को निशाना नहीं बनाने की अपील\",\n",
              " ' पाक में कोई हिंदुस्तान जिंदाबाद बोले तो वहां से उसकी लाश ही उठे पर हमारे यहाँ पाकिस्तान जिंदाबाद बोलने पे कांग्रेस टिकट दे देती है',\n",
              " ' राम राम जी',\n",
              " ' जब भी कान मे ये आवाज़ आयेसंविधान या लोकतंत्र खतरे मे है तो समझ लेनाचौकीदार ने एक चोर और पकड़ लिया है ठीक है',\n",
              " ' Asif bhai Rahul Gandhi ji ki sath',\n",
              " ' नकली भेंडीया कि जमात है',\n",
              " ' रणदिप सुरजेवाला की हार के पिछे अमेरिका वाला EVM हैकर सईद सुजा हैं सुजी हैं jindbypoll सुजा',\n",
              " ' Ham Kali Ribbon Rakhe Mera Desh Ye Dp Rakhega Ankhe Naam Hui Hai Din To Hindustani Hai',\n",
              " ' हिना रब्बानी की धमकी- हम भी दिखायेंगे अपना 56 इंच का सीना ये सुनते ही शशि थरुर और दिग्विजय बॉर्डर की ओर रवाना',\n",
              " ' पप्पू खान को बहुत सबूत मांगने की आदत है बताओ पप्पू का बाप मुसलमान माँ इसाई फिर ये गांधी कैसे हो गया',\n",
              " ' Hindu sanskrit ke lie BJP jindabad',\n",
              " ' नाम भाजपाजन्म -1980मृत्यु 2019मृत्यु का कारण -पाकिस्तान के साथ मिलकर अपने सैनिको की हत्या',\n",
              " ' नखरे देख लो इस हीरोइन के यह वोट मांगने आयी है',\n",
              " ' क्या बातें हुई घाई जी के साथ',\n",
              " \" लोग इतने कट्टर हो गए है कि क्या बताऊँ एक से मैंने बोला ''काँग्रेचुलेशन्स '' तो उसने मेरे को घूरा और कहा ''भाजपाचुलेशन्स ''\",\n",
              " ' इस लिये आज लिख रहा हूँ',\n",
              " ' हम भक्तो से इतना कहना चाहेगें कि प्रधानमंत्री योग्यता के अनुसार चुने बड़ी बड़ी बात तो पीने के बाद बेवड़ा भी करता है',\n",
              " ' feku chamacha koun ha',\n",
              " ' भाजपा फिर असहज स्थिति में',\n",
              " ' पूरा विश्व हैपाकिस्तान उस से अलग है⁉आंतकी रखवाले पाकिस्तान का ग्रुप में भी कोई स्थान नही',\n",
              " ' Kanah per',\n",
              " ' जब तक सारे पाईलेट सुरक्षित नहीं लोटे तब तक मोदी ने खाना नहीं खाया और पुरी रात नहीं सोए और कैसा चोकिदार चाहिए',\n",
              " ' Bjp jayanin',\n",
              " ' Are to koi ek pakki khabar to de kamsekam',\n",
              " ' भीड़ में चलना मेरी आदत नहीं बस भंडारा देखकर खुद को रोक नहीं पाता हूँ',\n",
              " ' Vote Kesari',\n",
              " ' इन फूलों को टच करो और अपने शहीदों को श्रद्धांजलि दे जल्दी मैने तो दे दी Indian-choicecom/ n=केवल-राज-खिवसर-जैसलमेर-',\n",
              " ' Sb Congressi madarchod hai',\n",
              " ' GOOD NEWS -तमिलनाडु के सुपरस्टार रजनीकांत ने मोदी को आज अपना समर्थन दे दियाएक बार फिर मोदी सरकार',\n",
              " ' India news 81+ पूरी खबर पढ़ने के लिए नीचे दिए गए लिंक पर क्लिक करें',\n",
              " ' 5-5 मिनट पर टीवी चेक कर रहा हूं पता नही कब मोदी जी बोल दे मित्रों पाकिस्तान अब नहीं रहा',\n",
              " ' ये सभ्य समाज जाग्रुत लोगो ने बनाई हुवी पाटीँ हैअेसी पोस्ट को हम ईज्जत नही देते',\n",
              " ' Hey Check out this cool video made by Nithish Click here',\n",
              " ' Didi ki fati is liye hamla karvana sharu kardiyavinash kale viprit budhi23 may ko didi ki jalegi',\n",
              " ' fat gyi kya',\n",
              " ' Dala gaya tha Par Nahin Aaya',\n",
              " ' Debate should be like this Kabul TV',\n",
              " ' राष्ट्रपति के आॅर्डीनेंस के जरिए धारा 370 हटने वाली है सुब्रमण्यम स्वामी',\n",
              " ' जितना काँग्रेंस का मज़ाक उड़ाते हो ना तुमलोग देख लेना एक दिन तरस जाओगे काँग्रेंस को देखने के लिए',\n",
              " ' Bas jo sach hai wahi bol dete',\n",
              " ' Booloo',\n",
              " ' Yaha bhi sub Bhagwa may ho gaye hai',\n",
              " ' भाजपा सल्ट युवा मोर्चा',\n",
              " ' INMAIN SE 50 KAAM CONGRESS NE KARWAYE HAI',\n",
              " ' जय श्री राम',\n",
              " ' अापकी बुद्धिमत्ता की तीक्ष्ण शक्ति को सौ तोपों की सलामी',\n",
              " ' Chowkidaar Chor hai',\n",
              " ' मोदी लहर',\n",
              " ' कसाब को कांग्रेस ने फाँसी नहीं दी है बल्कि उसे गूपचुप तरीक़े से पाकिस्तान भेजाकिसी ने उसकी लाश देखी क्या कांग्रेस सबूत दो',\n",
              " \" 1990 में बर्बाद हुआ रूस आज मिसाइलें बेच रहा है और यहां 60 साल का हिसाब पूछो तो बोलते हैं'लाजीव धांदी तम्प्यूतल लाये थे\",\n",
              " ' जय श्री राम जय बजरंगी जय भारत जय हिन्द की सेना',\n",
              " ' चोकिदारो से सबसे जादा दिक्कत गली के कुत्तो को ही होती है जब जब चोकीदार हमे जगाता है तब तब कुत्ते भोंकते हैबात में है दम कोई शक',\n",
              " ' टीचर राहुल गांधी और मायावती ने गठबन्धन क्यों नहीं किया स्टूडेंट जो लड़का घोड़ी पर अभी तक नहीं चढ़ा वो हाथी पर क्या चढ़ेगा',\n",
              " ' कांग्रेस हर प्रेस कॉन्फ्रेंस कोई अखबार में छपी डिटेल को लेकर ही करती है यानी पहले झूठ छपवाती है फिर उस झूठ को फैलाती है',\n",
              " ' Indian Beautiful Girl Hot Romance With Boyfriend Boyfriend And Girlfrind Hot Romance',\n",
              " ' Usski jagah wadra be sabse bada ghotala Kar Diya hai',\n",
              " ' कांग्रेसी चोर है',\n",
              " ' जब सभी राजनीतिक पार्टियो को चुनाव आयोग ने बुलाया था आओ हैक करो तो सब मूत्र पीने वाले इटली गए थे',\n",
              " ' बीजेपी को लाना हे',\n",
              " ' ममता को समझ गया मोदी और भाजपा पश्चिम बंगाल में पूरी तरह से घुस गए हैंबाकी सब राजनीतिक तमाशा और फ्रस्ट्रेशन ही है',\n",
              " ' सर्व काश्मिरी नेते हुरीयत नेते यांची सुरक्षा व्यवस्था ताबडतोब काढा ही नम्र विनंतीभारत सरकारलावंदे मातरम',\n",
              " ' अंधभक्तों से अगर पूछ लो कि मोदी ने 5साल में क्या कियातो ऐसे शर्माते हैं जैसे सुहागरात वाली रात दूध देते वक्त दुल्हन शर्माती है',\n",
              " ' Ye log aise hi hai',\n",
              " ' इसमें कोई संदेह नही',\n",
              " ' कहाँ गए हिन्दू मुस्लिम भाई भाई का पाठ पढ़ाने वाले',\n",
              " ' राशिफल १७ फरवरी २०१९',\n",
              " ' काश्मीर के शोपियां में आंतकी सूअरों को CRPF ने किया ढेर जिसका दिल गार्डन गार्डन हुआ हो वो ही बोले भारत माता की जय जयहिन्द',\n",
              " ' मेरे सभी प्यारे भाइयो को गणतंत्र दिवस की शुभकामनाएं जय हिंद जय भारत वन्दे मातरम',\n",
              " ' सुप्रीम कोर्ट ने कश्मीरी छात्रों व्यापारियों की सुरक्षा का निर्देश दिया हैसात लाख कश्मीरी हिंदुओ का घर छीनते वक़्त कहा था सुप्रीम कोठा',\n",
              " ' वादे तो कब के उड़ चुके साहब अब तो बस चेहरा रह गया है बात समझ आए तो इस तस्वीर को ध्यान से देख लोयही कुदरत का इंसाफ है',\n",
              " ' आलू नहीं सोना खा रहा है',\n",
              " \" दादी की नाक '' से शुरू हुई कहानी बाप की नाक '' कटवा कर समाप्त हुई\",\n",
              " ' मनोहर पर्रिकर के मरने पर तीन दिन का राष्ट्रीय शोक और 56 जवानों की शहादत पर दनादन रैलियांशर्म हे कि आती नही',\n",
              " ' What type message',\n",
              " ' गठबंधन का भरोसा अली में तो हमारा भरोसा बजरंगबली मे है-योगी आदित्यनाथ',\n",
              " ' कुत्ता पाल लेना बिल्ली पाल लेनाभले ही सांप भी पाल लेनापरन्तु ये गलतफहमी मत पाल लेना कि मोदी हारेगा',\n",
              " ' Follow this link to join my WhatsApp group जुड़ते ही जय श्री राम का नारा लगाये जय श्री राम',\n",
              " ' पाकिस्तान आर्मी कैम्प में बम धमाका पाकिस्तानी जन्नत की सैर पर 11 घायलचाय पिलाओ रे',\n",
              " ' Khufiya kaam jab koi prrooof nai to yahi sab khte',\n",
              " ' jab Bjp is mandir ko nahi bacha saki to fir babri masjid kiyun nahi bana ne de rahi hy ye sir vot lene ka mudda hy',\n",
              " ' चार admin है इस grup मे lekin कोई इस ओर ध्यान नहीं दे रहा',\n",
              " ' Ashokkugouda',\n",
              " ' Warna MrModi ji ko chai bhej kar ghar chalana hoga',\n",
              " ' अब कोई हमारे एक गाल पे चाटा मरेगा तो हम उसके दोनों गाल पर चप्पल मार मार कर टमाटर बना देंगे कायर गाँधी का ज़माना नहीं है',\n",
              " ' यह घटना असहनीय है बस अब और नहीं गोलियों का जवाब गोलियों से ही दिया जाएगाFight Back Bastar',\n",
              " \" जब तक हिन्दुत्व '' जीवित है तभी तक भारत है अन्यथा पाकिस्तान बंग्लादेश भी कभी भारत ही हुआ करते थेगर्व से कहो हम हिन्दू है\",\n",
              " \" प्रियंका नहीं वो आंधी है बस यही समझ लो कि साड़ी '' पहने दूसरी राहुल गांधी है\",\n",
              " ' कट्टरपंथी लोंगो के लिए बुरी खबर मोदीजी के भक्त काबा भी पहुंच गए हैं',\n",
              " ' अकेले अकेले मत पीया कराे अशाेक जी',\n",
              " ' क्या Rahul Gandhi पर था Sniper Gun का निशाना ग्रह मंत्रालय को सुरक्षा में चूक पर लिखी गई चिट्ठी',\n",
              " ' Agla pm Narendra Modi hi hoga aur bhai Tarah Banaye rakho Koi galat message mat dalo',\n",
              " ' मुद्दा live से जुड़ने के लिए संपर्क करें साथ ही हमारे चैनल को like और subscribe करें9336953194',\n",
              " ' राजश्री प्रोडक्शन के मालिक राजकुमार बड़जात्या का निधनvia Dailyhuntडाउनलोड करें',\n",
              " ' please share',\n",
              " ' वंदे मातरम ट्रेन में खराबी पर मेक इन इंडिया का मजाक बनाकर राहुल गाँधी ने साबित कर दिया कि एक विदेशी औरत का बेटा कभी देशहित नही सोच सकता',\n",
              " ' मैं तो मानता हु मोदीराज में मंहगाई बढ़ी है पहले ढाई सौ रुपये में हरामखोर पत्थरबाज मिलते थे अब पाँच हजार में भी नहीं मिल रहे',\n",
              " ' 919129655153 तू बोला नही रे',\n",
              " ' दिनांक 3/02/2019उल्हासनगर भाजपा युवा मोर्चा अध्यक्ष श्री सुनील राणा जी अपने कार्यकर्ताओं के साथ सोमैया मैदान सायन मुंबई पहुचे',\n",
              " ' Pakistan cala jao',\n",
              " ' मोदी जी ने जो 2014 मैं जो बोला था वो कर दिखाया 2019ModiAgain',\n",
              " ' क्या आपने कभी गऊ माता को आशीर्वाद देते देखा है यह वीडियो देखे',\n",
              " ' Dkho esa ki ap jalte raho',\n",
              " ' चौकीदार 15साल CM और 5साल PM रहा करोड़ की सेविंग नहीं कर पायापप्पू सिर्फ 10 साल सांसद रहा 92 करोड़ जोड़ लिए चोर कौन',\n",
              " ' वसुंधरा तेरी खेर नहीं कहने वाले आजकल पूछते हैं भाई जी लाईट कद आसी',\n",
              " ' कांग्रेस अपने मेनिफेस्टो में दो बातें लिखना भूल गई 1- आतंकी की विधवा को पेंशन2- पत्थरबाजों को पत्थरबाजी भत्ता',\n",
              " ' सभी से हाथ जोड़कर विनती है कांग्रेस कार्यकर्ताओं से अपनी व्हाट्सएप स्टेटस वीडियो को एक बार जरूर लगाएं',\n",
              " ' मुसलमानों ने राजपूत के बारे में क्या कहा आप भी सुनिए',\n",
              " ' Modi ji janhaa khatam ho Ta hai na Congress wahi se start kar ta hai',\n",
              " ' योगी आदित्यनाथ जी की बहन और जीजा जी से मिलिए और इसकी तुलना राहुल एवं वाड्रा परिवार से कीजिए बहुत फर्क पता चलेगा हर हर योगी',\n",
              " ' इसको भी पता है मोदी ही आयेगा',\n",
              " ' कभी हिन्दू बन जाता हूँ फिर अल्लाह-अल्लाह चिल्लाता हूँ सब कुछ मिला मुझे जन्म से अपने आप से कुछ नहीं कर पाता हूँ मैं',\n",
              " ' Aur hm hater nai',\n",
              " ' चुनाव आयोग ने बोल दिया कि उसका नामांकन वैध है',\n",
              " ' India ka internal matter hai',\n",
              " ' Churu loksbha se BJP Rahul lakh se bi jayada vote se jeete ge',\n",
              " ' कोइ भी छोटा व्यापारी या किसान ये सोचता हे 2019 मे मोदी जीतेगा तो पेंशन देगा तो 2014 मे जो मोदी ने जो वादा कीया था इस का ये का वीडियो देखे',\n",
              " \" इस लोकसभा चुनाव मे अत्याधुनिक ईवीएम मशीन आयी हैजिसमे कांग्रेस का बटन दबाते ही आवाज़ आएगी '' चूतिया हो का बे ''\",\n",
              " ' मैं मोदी और योगी के इसलिये भी साथ हूँ की कल को बड़े होकर बच्चे ये ना कहें कि जब देश बदल रहा था तो आप जयचंद बनकर क्यों घूम रहे थे',\n",
              " ' श्रीराम की पूजा एक मुसलमान नहीं कर सकता कासमीअब दरगाह पर चादर चढ़ाने वाले हिन्दुओं को मादरचोद ना कहूँ तो क्या कहूँ',\n",
              " ' मोदी की सहयोगी पार्टी ने ही खोली मोदीजी के जुमलों की पोल',\n",
              " ' Chokidaar apna pathni ke sath kya kiya ki usko chodna pada modi ka',\n",
              " ' इतनी बेज्जती के बाद भी लोग कांग्रेस मे कैसे रहते हैंएक ईज्जत दार आदमी अपनी बेईज्जती करा कर जी नही सकता',\n",
              " ' हर दिल्लीवासी इस वीडियो को देखने के बाद आगे शेयर कर रहा है मैंने भी कर दिया है अब आप की बारी है',\n",
              " ' गली से आवाज आई400 रुपये में जिंदगी भर बैठकर खाइये बाहर निकलकर देखा तो चटाई बेचने वाला था घोषणाएँ और वादों से सावधान रहें है Election',\n",
              " ' अखण्ड सनातन समिति_चलो शौर्य वही जगाते हैं __भारत को फिर से विश्व गुरु बनाते हैं _समस्याएं अनेक_ _उपाय मात्र एक हिन्दू सशक्तिकरण',\n",
              " ' कांग्रेस प्रत्याशी पंकज संघवी के जंजीर वाला चौराहा स्थित कार्यालय पर चुनाव आयोग की टीम ने मारा छापा कंबल बांटे जाने की मिली थी शिकायत जांच जारी',\n",
              " ' 19 मई चमचों की नींद गईExit Poll2019',\n",
              " ' 2019 में मेरा वोटिंग लिस्ट में नाम आने की वहज से मैने कांग्रेस को वोट देने का मन बना लिया है',\n",
              " ' Divya का आपके लिए स्पेशल मैसेज इसे टच करके देखो bhagwa-watsappcom/ n=Divya',\n",
              " ' 48 साल का पागल बच्चा',\n",
              " ' मुस्लिमो ने 26 सालो में भी नही कहा बाबरी मस्जिद नही तो कांग्रेस को वोट नहीहिंदू 45 साल में ही राममंदिर नही तो BJP को वोट नही',\n",
              " ' वोट देने से पहले ये झकझोरने वाला विडियो देखना ना भूलना सभी भाई शेयर जरूर कीजिये शानदार इंटरव्यू है पुरे दावे के साथ',\n",
              " ' महागठबंधन के लग गए काम BSP के कट्टर समर्थकों ने Bjp को किया वोट देखें दोनों वीडियो',\n",
              " \" जब भी प्रियंका गांधी बोलती है देश से भ्रष्टाचार मिटा दूंगी तो मुझे लगता है कि कहीं ये वाड्रा '' के खाने में जहर मिला दे\",\n",
              " ' तू किसको गाली दे रहा हे भाई',\n",
              " ' Is type ke vedio na dale',\n",
              " ' पड़ोसन बहन आपके बर्तन बड़े चमकते हैं इन्हें धोने के लिए क्या इस्तेमाल करती हो मैं पति',\n",
              " ' मेरा यह पोस्ट हुआ वायरलघमंड से चोर मोदी ने महादेव का किया अपमानअब तो ऐसे ब्रह्मांड की कोई शक्ति नहीं बचा सकतीkindly retweet',\n",
              " ' पाकिस्तान और जैश से भी बड़ा खतरा हमें मौजूदा विपक्ष् से हैं और इन्हें देश की जनता ही ठिकाने लगा सकती है',\n",
              " ' कैसे पता किया की फेक है अंध भक्ति से किया',\n",
              " ' आपके दोस्त का फ़ोन कॉल रेकॉर्डिंग करे डाउनलोड ऐप',\n",
              " ' जय श्री महाकालश्री महाकालेश्वर ज्योतिर्लिंग जी का भस्म श्रंगार आरती दर्शन 11 अप्रैल 2019 गुरूवार',\n",
              " ' कांग्रेस अध्य्क्ष राहुल की माता सोनिया ग़ांधी ने पुलवामा के शहीदों को श्रद्धांजलि दी क्या किसी के पास कोई जानकारी हो तो बताये',\n",
              " ' Firse Modi ji',\n",
              " ' घर में मातम होतो 13 दिन तक खाना भी नहीं बनतालेकिन आज पूरे देश में मातम हैफिर भी लोग उद्घाटन और चुनावी रैली करते घूम रहे हैं',\n",
              " ' प्रतापगढ़ से दयाशंकर पांडेय की रिपोर्ट by Jitendra Tiwari देखें एसपी प्रतापगढ़ की बाइट प्रधानमंत्री मोदी का आगमन कल प्रतापगढ़ में 11 बजे',\n",
              " ' हमारी सरकार बनी तो आतंकियो को देंगे एक एक करोड़ रुपये और नोकरी हाजी सगीर खान कोंग्रेसी नेता मतदान_से_पहले_याद_करले',\n",
              " ' Maulana sajjad nomani sahab mim parti ko vot dene ki Apil ki hy mosalmanau dekhiye aur bhi kre',\n",
              " ' भाई ये मुल्ला है',\n",
              " ' सुरजेवाला सूजी क्या आैर मोदी विरोधियो सूजी क्या',\n",
              " ' गरीबी हटाओ 1969-2019 नारे की सफलता के पचास साल पूरे हुए गोल्डन जुबली की सभी गरीबों को शुभकामनायें',\n",
              " ' देखे विस्फोटक न्यूज़ में सभी ताज़ा खबरे जानने के लिए देखते रहिये रोज विस्फोटक न्यूज़ डेली 800 बजे सब्सक्राइब जरूर करे और लाइक करे और शेयर रे',\n",
              " ' इस लिंक के जरिये पता चल जाएगा कि आप कितने सच्चे देश भक्त है यकीन नही है तो खुद देख लीजिये',\n",
              " ' इस तरह होता है राजनीतिक power का इस्तेमाल',\n",
              " ' कवर ट्विटर पेज फ़ोटो शेयर करो सभी साथियों के कवर पेज पर लागबाये',\n",
              " ' product kis name se hai',\n",
              " ' सभाएं दिग्गी की और नारे मोदी मोदी के बाह रे मेरे भोपाल मध्य प्रदेश के शेरों आपको कोटि कोटि नमनप्रज्ञा बहना जिंदाबादनमो again',\n",
              " ' गोरी गोरी लड़कियों के फोटो',\n",
              " ' आज का RGजोकबड़े एरपोर्ट बनेंगे किसान सीधा जाके एरपोर्ट पे अपना माल बेचेगा Video',\n",
              " \" PM ने ट्विटर पर बदला नाम अब 'चौकीदार नरेंद्र मोदी'लोगों ने पूछा- किसका अंबानी-अदानी का या देश का\",\n",
              " ' पहले हम संघी थे फिर BJP IT CELL वाले फिर अंधभक्त और अब लेटेस्ट HYPERNATIONALIST यानी ऊग्र राष्ट्रवादी प्रमोशन हो रहा है',\n",
              " ' लोगों के काम आते रहिये क्योंकि क़ुदरत का एक उसूल है कि जिस कुंवे से लोग पानी पीते रहे वो कभी सूखता नही है सुप्रभात',\n",
              " ' Rony sey Kam nehi benyga Ab Sirf modi serakar',\n",
              " ' बीजेपी कार्यकर्ताओं की ठुकाई',\n",
              " ' एक ही तीर से4 शिकार करना चाहते हो तो 2019 में कमल का बटन दबाइयेकांग्रेसी आतंकवादी वामपंथी देशद्रोही ये चारो स्वाहा',\n",
              " ' मोदी विरोधकांना जबरदस्त चपराक',\n",
              " ' कृपया पकोड़ा योजना वालो को हराए झाड़ू का बटन दबाए भारत हित मे जारी',\n",
              " \" '' अपनी सोच में छोटा सा बदलाव करे और आनंद पाये-कि सामने वाला गलत नही है सिर्फ हमारी उम्मीद से थोड़ा अलग हैं GOOD MORNING\",\n",
              " ' Radhe radhe ji',\n",
              " ' कांग्रेस ने 55 साल राज किया फिर भी खुद प्रचार कर रही हैमोदी जी ने सिर्फ 55 महीने काम किया परप्रचार जनता कर रही है',\n",
              " ' इस होर्डिंग पर तो केजरीवाल ने सारी बात खुलके लिखवा दी दिल्लीवालों को अपने खुद के लिए इस बंदे का साथ तो देना चाहिए यार',\n",
              " ' बात 1000000000000000000 सही है',\n",
              " ' देखिये यादवो के बारे मे लड़कियों ने किया अजीबो गरीबो खुलासे',\n",
              " ' आज यदि सजग सोशल मीडिया होता तो कांग्रेसी-वामपंथी कुटिलता से राफेल केस भी जॉर्ज साहब के झूठे ताबूत केस जैसा बड़ा केस होता',\n",
              " ' ममता बनर्जी',\n",
              " ' सबुत मागने वालो को इमरानखान चीख चीख के बोल रहा है झोपडी वालो भारत ने ही हमला किया हैसबूत के चक्कर मे हमारी क्यो मारे जा रहे हो',\n",
              " ' पाकिस्तान में गरजे भारतीय सेना के विमान',\n",
              " ' Group ke admin se nivedan hai ki group ko aage badhaye',\n",
              " ' पाकिस्तान ने शुरू की जंग की तैयारी लाख कब्र खोदने का दिया आदेश मुर्दाघर के कर्मचारियों की छुटियाँ रद्द',\n",
              " ' Isko nikalo',\n",
              " ' नानी तेरी मोरनी को मोर ले गए300+ सीट NDA वाले अपनी ओर ले गए EXIT_POLL',\n",
              " ' मार्च भारत बंद में सवर्ण आरक्षण का समर्थन करने वाले 131 भडुवे सांसदो का बैंड बजा सकती है जनता यदि वे बंद का समर्थन नहीँ करते',\n",
              " ' ये ले लिस्ट सारे इस्लामिक हैं',\n",
              " ' कांग्रेसी साले इतने फ़र्ज़ी हैं किफौजियों के फ़र्ज़ी साइन करके लेटर राष्ट्रपति को दे आए',\n",
              " ' मुझमे इतनी ताकत नही कि पूरा हिन्दुस्तान सुधार दूं मगर इतनी ताकत जरूर है कि जिसने बीड़ा उठाया देश सुधारने का उसका साथ दूं',\n",
              " ' जब मोदी जी को चोर बोल रहे थे तो वो फूल बरसा रहे थे वही फूल अब खुद पर बरसे तो तिलमिला रहे है अब कहानीयां याद रही है',\n",
              " ' को किया था तो को फिर करते क्यों किया',\n",
              " ' संघर्ष तकलीफें फिर क्या मजा है जीने मेंतूफान भी रूक जाएगा जब लक्ष्य रहेगा सीने में मिशन2019',\n",
              " ' Check out Faisal_snu Tweet फॉलो करे हमें ट्विटर पर',\n",
              " ' अब ये चुनाव बीजेपीऔर कौन्ग्रेस का नहीं रहा अब ये चुनाव देशभक्त और देशद्रोही के बीच हो गया है तय करों आप किसके साथ हो',\n",
              " ' मोदी के भाषण का खान्धी परिवार परकोई असर नही होगा-सूजे मुंहवाला असर होगा भी कैसेमाताजी को हिंदी समझ में नहीं आतीऔर बेटे को बात',\n",
              " ' IPL मैं भी नारे लगने लगे अब तो',\n",
              " ' मेजर रिटायर्ड विश्वंभर दयाल ने न्यूज़ चैनल पर बैठकर सच ही बोल दिया सुनिए सच्चाई',\n",
              " ' congress chor party hai priwarwad hai',\n",
              " ' हमें मुफ्त में नहीं चाहिएमेहनत कर के खायेगेमोदीजी को फिर से चौकीदार बनाएंगेठीक है कोई शक',\n",
              " ' `चाचा ने भतीजी को जबरदस्ती चौदा कमरे में लेजाकर देखिए सेक्स वीडियो चाची ने देख लिया',\n",
              " ' Tumko kya Mila Fekuse',\n",
              " ' कपिल सर सूत्रों से पता चला है केजरीवाल कह रहा है कि हम कैसे मान ले की बॉम्ब 1000 किलो के थे वज़न की गइ पर्ची दिखाओ',\n",
              " ' पहली बार अपने देश को ऐसा प्रधानमंत्री मिला है जिसनेदूसरे देश की महँगाई बढ़ा दी है',\n",
              " ' LIVE PAK सेना में भारतीय हमले की जवाब देने की कोशिश की लेकिन भारतीय ताकत देखकर भागे पाकिस्तानी फाइटर प्लेन',\n",
              " ' इक और आपका भाई लालू यादव का गाना आगया देखे लाइक और शेयर जरूर करे अपना प्यार और आशीर्वाद दे सभी अपने भाई कोजय माता दी',\n",
              " ' Bade bade duniya bhar ke',\n",
              " ' _चैत्र नवरात्र_ हिंदू नववर्ष अप्रैल विक्रम संवत 2076 कीआपको और आपके परिवार जनो को बहुत बहुत शुभ कामनाएँ_अमरसिंह राजपूत_',\n",
              " ' Modi ka bhai neerav modi',\n",
              " ' राहुल जी का संदेश हर अमेठी वासी तक पहुच जाना चाहिए',\n",
              " ' Bhag Madharchod bhosadi Pintu haldar',\n",
              " ' एक ने दाल पतली होने की वजह से सेना छोड़ दीदूसरी ने वहीं दाल पी कर पाकिस्तान का F_16 उड़ा दिया जय हिन्दशुभ रात्रि',\n",
              " ' जय श्री महाकाल श्री महाकालेश्वर ज्योतिर्लिंग जी का भस्म श्रंगार आरती दर्शन मार्च 2019 सोमवार महाशिवरात्रि',\n",
              " ' Bsnl hzar krorrr',\n",
              " \" सिब्बल की कमजोर पटकथा शुजा की खराब एक्टिंग की वजह से Pappu Producer '' की EVM Returns '' पहले ही दिन बॉक्स ऑफिस पर धड़ाम हुई\",\n",
              " ' राम नवमी के अवसर पर जोधपुर में पत्थरबाजी॥ धीरे-धीरे काश्मीर बनता हुआ राजस्थान',\n",
              " \" निंदा करना बदला लेना कोई ज्यादा बड़ी बात नही है प्रतिशोध का मजा तब है जब आने वाली पीढियां हमसे पूछें 'ये पाकिस्तान किधर था\",\n",
              " ' भगवान गये साहब बिना चश्मे के उन्हें पहचान पायें और वरदान में कोई गड़बर हो गई तो आजीवन पीएम के शुख से वंचित रह गये तो समझा करो',\n",
              " ' शांतिपूर्ण समुदाय रमज़ान का शांतिपूर्ण जश्न मना रहा हैशांतिपूर्ण तरीके से रोजा खोला जा रहा है',\n",
              " ' सेना से निवेदन है जब भी बदला लेने जाए तो केजरीवाल और राहुल को साथ लेकर जाए नहीं तो यह सबूत मांगेंगे',\n",
              " ' Jhansa Ram ko asaram ka ashirbad Bhakt bano Bhai andhbhakt mat bano Bande matarm',\n",
              " ' तेरी ख़ामोशी अगर तेरी मज़बूरी है तो रहने दे प्रेस कॉन्फ्रेंस कौन सी जरुरी है',\n",
              " ' Group me Aya tha',\n",
              " ' Tera Malik to 70 saal keh raha tha',\n",
              " ' पुलवामा हमले के मास्टरमाइंड और जैश कमांडर गाजी को सेना ने पहुंचाया जहन्नुम सर्च ऑपरेशन जारी बाकियों की भी आएगी बारी',\n",
              " ' विडियो अच्छा लगे तो लाईक subscribe jarur kijiye ताकि और गाने मिल सके',\n",
              " ' Aa gaya Hindustan share',\n",
              " ' BJP ko dosh kyo dete ho apna dimag use kro ye sb kon kr skta',\n",
              " ' मर्डर का वायरल वीडियो',\n",
              " ' आज दिल्ली मे ऐलीयन दिखा',\n",
              " ' जय श्री राम Hii का ग्रुप मे जवाब नहीं दिया जाए गा भाई',\n",
              " ' दिल दिया है जान भी देंगे वतन मोदी तेरे लिएहम मरेंगे हम जीयेंगे वतन मोदी तेरे लिएठीक है कोई शक',\n",
              " ' सर्म करो कांग्रेसी लोगो',\n",
              " ' 25 करोड़ आबादी के संरक्षण के लिए 22 पार्टी एकजुट और100 करोड़ आबादी के लिए सिर्फ BJP फर्क BJP को नहीं आपको समझना है',\n",
              " ' राहुल जी को सुनने समझने से पहले मैं भाजपाई हुआ करता था अब कट्टर भाजपाई हो गया हूँथैंक यू राहुल जी',\n",
              " ' साला आधे पाकिस्तानी तो अभिनंदन कि मुछे देख कर भाग गए क्यों कि वहा लोग मुछे नहीं दाढी रखते है',\n",
              " ' बीजेपी से निष्कासन के बाद शत्रुघ्न सिन्हा के पिछवाड़े से धुआं निकलना जारी हे बेचारा अब घर का हे और ही घाट का',\n",
              " ' ॐसज्जन पुरुष की वास्तविक परिभाषा यही हैकि वह कभी किसी पुरुष को पीड़ीक नहीं करता सुप्रभात',\n",
              " ' राहुल की उड़ीसा रैली में राफेल के दाम में भारी गिरावट दर्ज की गईआज का दाम था मात्र 1600₹',\n",
              " ' जिन्होंने गंगा मे स्नान किया वो अज्ञानी हैं तो जो शैतान पर पत्थर फेंकते हैंवो नासा के वैज्ञानिक हैंसेकुलर सुतियो का ज्ञान',\n",
              " ' Unko nao smajh aata',\n",
              " ' नेपाल फोन किया एक चौकीदार चाहिए…नेपाली बोला हम नहीं आएगा सापजी उधर चौकीदार को सब चोर बोलता है',\n",
              " ' Gf घर में कोई नहीं हैं जल्दी आओBhakt Bf आयेगा तो मोदी ही',\n",
              " ' आज एक चरणचाटक बोला प्रियंका गयी मोदी तो गयामैंने धीरे से कहा ऊंटनी के मूतने से रेगिस्तान में बाढ नहीं आती भड़क गया',\n",
              " ' हम सब सभी समाजवादी लोग इस घटना की घोर निन्दा करते हैं और अपने राष्ट्रीय अध्यक्ष जी को बहुत बहुत आभार धन्यवाद एवं बधाई हो',\n",
              " \" मीडिया बजरंग दल को हिन्दू संगठन कहती है पर जैश मुहम्मद को मुस्लिम संगठन नही कह पाती '' दोगलापन\",\n",
              " ' कृप्या किसी कांग्रेसी से बहस ना करें क्योंकिआप समझ ही सकते हैं कि जिसने राहुल को अपना नेता मान लिया हो उसमें कितनी समझ होगी',\n",
              " ' 50-50 रुपये जोड़ते थे ट्रांसफार्मर बदलवाने के लिए अब एक फोन पे बिजली विभाग वाले खुद लगाने आते हैंपूछते हैं मोदी ने किया क्या है',\n",
              " ' Pappumutra ka nasha utar ta nhi inka',\n",
              " ' मादर फादर',\n",
              " ' मोदी की तरफ से ट्रम्प बोलता है और इमरान की तरफ से कांग्रेसी सुरजेवाला औकात अपनी अपनी',\n",
              " ' अखण्ड संकल्प समिति अपनी जाती और समाज का रोना रोने वालो बताओ आतंकवादियों ने किस जाती पे हमला किया है',\n",
              " ' कौन कहता है गधे के सिर पर सिंग नहीं होते आज सबूत के साथ लाया हूं देख लो',\n",
              " ' Circleपाणुन्द जल संकट से झुझता पाणुन्दअपने शहर का अपना ऐप अभी डाउनलोड करें-',\n",
              " ' Ja re jhaatu bhakt kahike',\n",
              " ' Budget 2019 देखें पीयूष गोयल का पूरा बजट भाषण',\n",
              " ' अब वो सरकार नही है की सेना को कोई भी कशमीरी गाली देके निकल जाएगाअब तो सीधा भटाभट',\n",
              " ' यदि सभी एक नहीं हुए तो अपनी जिंदगी का आखरी चुनाव होगा -- -चंदू बाबू ना दूँ',\n",
              " ' मा भारती को नमन जय हिंद जय भारत वंदे मातरम् जय श्री राम शुप्रभात',\n",
              " ' ये सुअर मर चुका है क्या',\n",
              " ' सुभाष चंद्र की अलग आर्मी थी जिदक नाम था आजाद हिंद फौज',\n",
              " ' दोस्तों यही तो हैं अच्छे_दिन तभी तो हम कहते हैं कि मेरा_देश_बदल_रहा_है_आगे_बढ़_रहा_है नमो_नमो',\n",
              " ' ममता बनर्जी ने अपना धरना अपने आप ही खत्म किया ऐसी नौटंकी आपने किसी दूसरे राज्य या दूसरे मुख्यमंत्री का देखा हैं आपने याद हो तो जरुर बताना',\n",
              " ' ये रहा वो जो बच्ची को मार रहा था पकड़ा गया हरामखोर',\n",
              " ' मोदी आएगा देश बर्बाद कर जाएगा',\n",
              " ' मोदीजी राहुल को ज्यादा परेशान मत कीजिए कहीं उसने तंग आकर ये सच बोल दिया कि राजीव उसका बाप था ही नही तो आपकी भारी बेजज्ती होगी',\n",
              " ' ese dono no ko',\n",
              " ' Bhakton thodaa dimaag se gobar hataa ye video dekho aur samjho ki chaukidaar ne kaisi chaukidaari ki hai',\n",
              " ' वो तुम्हें 28-28 इंच के दो दिखा कर ललचाने की कोशिश करेंगे लेकिन तुम पूरे 56 इंच वाले पे अड़े रहना Priyanka Gandhi',\n",
              " \" आर्मी कैप पर बौखलाया पाक ICC ने कहा- टीम इंडिया को हमने दी इजाजतSource क्विंट '' via Dailyhuntडाउनलोड करें\",\n",
              " ' चाहे कुछ भी हो जाये लेकिन कांग्रेस के बहकावे में मत आना 72000 क्या वो 72 लाख भी दे फिर भी वोट bjp को देंगेyes',\n",
              " ' इसको निकाल दो',\n",
              " ' जिसके पीछे आग लगी है वो जाये पानी में',\n",
              " ' कांग्रेस पार्टी का सबसे बड़ा चुतिया यही है',\n",
              " ' Pakistan ka jhhnda ye hai jahil gwar Soch samjh dalo kuch bhi',\n",
              " ' इसको क्या समझा जाये भाई',\n",
              " ' मुझे इस देश में तीन पर भरोसा है1Rss2Army Modiइसको मिलाकर बनता है राम',\n",
              " ' आपका स्वागत है विंग कमांडर पीएम मोदी',\n",
              " ' कांग्रेस को दुबारा देश में सत्ता देना बिल्कुल वैसे ही हैजैसे एक मौलाना को बकरी के साथ अकेला छोड़ना',\n",
              " ' कांग्रेस आएगी तब होगा न्याय अरे भाई कांग्रेस कई बार चुकी है जिसे कांग्रेसी न्याय कहते हैं उसे आम भाषा में घोटाला कहा जाता है',\n",
              " ' एक्जिट पोल सेक्युलरों की छाती पर मिर्ची पीस रहा है एक बार फिर मोदी सरकार',\n",
              " ' गृहमंत्री राजनाथ पहुंचे महासमुंद कांग्रेस पर निशाना साधते कहा क्या राष्ट्रद्रोह माफ करना चाहिए',\n",
              " ' उसपे मेरी प्रतिक्रिया ठी',\n",
              " \" प्रणब मुखर्जी बोले- 'काल्पनिक बहादुरी से नहीं होगा देश का भला नेता ऐसा हो जो उम्मीदों पर खरा उतरेvia Dailyhunt\",\n",
              " ' Tum troll bhakt log ka baap ab jaane wala hai',\n",
              " ' गैंगस्टर तपन सरकार का गुर्गा बताकर BSP के रिटायर्ड अफसर के फ्लैट पर किया कब्जा छोडऩे मांगे लाख Bhilai_patrika',\n",
              " ' Ye kon hai yaar free mein subh se add kar rahe hain',\n",
              " ' Exit polls Rajasthan main BJP ko 22 seats congress ko rlp',\n",
              " ' कृपया झूठे खबरें ना भेजें',\n",
              " ' दिल्ली के वोटर्स की हालत उस साइकिल सवार जैसी हो गयी हे जो डंडे पर चढ़ कर जोर से पेडल मारता हे और अचानक चेन टूट जाती हे',\n",
              " ' चूज़ा जी सोरी चूज़ू जीगौर करने की बात है',\n",
              " ' मानवताकावीडीयोजरूर देखै',\n",
              " ' भोजपुरी सितारों का भी फूटा गुस्सा मुंहतोड़ जवाब दो विस्तार से खबर पढ़ने के लिए निचे किलिक करे',\n",
              " \" सुना है कि 2019 मे अत्याधुनिक EVM मशीने मगंवाई जा रही है जिसमें पंजे का बंटन दबाते ही आवाज आएगी '' चूतियाँ हो का बे\",\n",
              " ' जावेद अख्तर बोला यदि पाकिस्तान के कलाकारों का बहिष्कार हुआ तो हम भारत छोड़ देंगेकब जा रहे हो नाश्ते का पोटली भेज दूं क्या',\n",
              " ' Bhai ye video aage mt felana isme hindu muslim ki ekta pr asar pdta hai delete kr dena ye video hum bjp vale smjdar hai hindu Muslim sb bhai bhai hai',\n",
              " ' Sbse neutral channel',\n",
              " ' आज अयोध्या में प्रियंका गांधी जी के रोड शो में उमड़ा जनसैलाब वक्त है बदलाव का जय_काँग्रेस',\n",
              " \" Read Article 'शहडोल परिवाहन विभाग फिर हुआ सक्रिय गुरूवार की देर रात कई वाहनो हुई कार्यवाही'Using app 'आयुष इंडिया न्यूज़'Source\",\n",
              " ' मोदीजी बिजली का कनेक्शन देनेकी योजनाहै आपकी बिजली देने की नही जब बिजली नही तो कनेक्शन का क्या आचार डालेंगे लोग भ्रमित करना बंदकरो',\n",
              " ' मस्ती-मस्ती में ली गई vidio हो गई वायरल sex video',\n",
              " ' Ap Sabhi ko krantikari jay bheem',\n",
              " ' अगर मोदी आया तो दस साल तक पाकिस्तान खतम',\n",
              " ' कांग्रेसी नौटंकी पर ध्यान देने की जरूरत नहीं ये वही लोग हैं जो मुंबई हमले को आरएसएस की साजिश बता पाक को क्लीन चिट दे रहे थे',\n",
              " ' चौकीदार अगर चोर होता तो अपने उपहार को नीलाम करके पैसे गर्ल चाइल्ड एजुकेशन और नमामि गंगे अभियान के लिए दान नहीं करतासोचेबात में है दम कोई शक',\n",
              " ' 200 एकड़ मे नेहरू 140 एकड़ मे इंदिरा 220 एकड़ में राजीव की समाधि बनाने वालों40 एकड़ के युद्ध स्मारक तुम्हे फिजूलखर्ची लग रही है',\n",
              " ' नेहरू जी मकबरे पे फूल चढ़ाते हुए',\n",
              " ' मुरादाबाद मे Propose day का पहला विकेट गिरा',\n",
              " ' फटी पड़ी है',\n",
              " ' Sonu ने भेजा आंसुओं से भरा संदेश जम्मू से || ओपन करके देखे indianstyleclub/ n=Sonu',\n",
              " ' Kab ka',\n",
              " ' देख लो भाई राजस्थान के मुख्यमंत्री अशोक गहलोत',\n",
              " ' ममता सरकार अगर राजीव कुमार पर अनुशासात्मक कार्यवाही नहीं करती हैं तो गृह मंत्रालय कार्यवाही करेगा',\n",
              " ' देवासी से जुड़े कॉग्रेस के सग् लाइक एंड् सेर् करे',\n",
              " ' भारतीय सेना कि खुशी सुबह 430 बजे का माहौल जय हिन्द',\n",
              " ' मोदी हे पार्थ बाण चलाओ अमित शाह- परन्तु किस पर चलायें प्रभु मोदी पार्थ…तुम सिर्फ बाण चलाओ…केजरीवाल खुद उछल के बीच में जाएगा',\n",
              " ' गेहूं काटने के लिए लेबर भेज रहा हूं जिनको जो चाहिए ले जाना बाद में मत बोलना कि तुमने गेंहू काटने के लिए लेबर नहीं भेजें',\n",
              " ' Tum jis quora negative articles bhj rhe ho',\n",
              " ' इन फूलों को टच करो और अपने शहीदों को श्रद्धांजलि दे जल्दी मैने तो दे दी Indian-choicecom/ n=Vimal-kurmi',\n",
              " ' मिलिंद कुलकणीँ भाजपा जिल्हा कायँकारी सदस्य',\n",
              " ' ये मोदी है जो कहता है वो करके रहता है',\n",
              " ' 1947 बटवारे की दुर्लभ तस्वीर जो आपकी अन्तर आत्मा को झकझोर के रख देगीओर शायद इसी लिए नाथुराम गोडसे ने गांधी को गोली मारी',\n",
              " \" झाड़ू आप पार्टी '' का है लगा मोदीजी रहे हैं साफ\\u200c कांग्रेस हो \\u200cरही है पेट में दर्द ठगबंधन वालों को हो रहा है औरमजा हम भक्त ले रहे हैं\",\n",
              " \" '' बहत्तर '' के लालच में '' बेहतर '' को त्याग कर जिंदगी को '' बद्तर '' मत बना लेना लाभार्थी सिर्फ एक विशेष समुदाय के ही लोग होंगे समझे\",\n",
              " ' कया आप से कोई बार बार जूठ बोले तो आप को कैसा लगेगा',\n",
              " ' मोदी ने इतनी टेंशन पैदा कर दी कि उंगलिया से कब हो गई पता ही नहीं चला',\n",
              " ' रक्षा मंत्रालय ने दिया 114 धनुष तोप का ऑर्डर 38 किमी की रेंज में लगा सकती हैं निशानाvia Dailyhuntडाउनलोड करें',\n",
              " ' मेरे देशवासियोंआप अपनी जमीन वाड्रा को दे देनामैं आपको 72000 दूंगाआपका पप्पू',\n",
              " ' लक्ष्य हमारा मोदीजी दोबारा55 साल बनाम 55 महिने देश की जनता तय करेगी',\n",
              " ' Namaste',\n",
              " ' कोई भी लड़की का नाम लिखे और एड्रेसलोकेसन नंबरजानिए इस एप के जरिये',\n",
              " \" लोकसभा चुनाव पहले चरण की वोटिंग खत्म यूपी में 63 बंगाल में 81 मतदान त्रिपुरा सबसे आगेSource Zee News '' via Dailyhuntडाउनलोड करें\",\n",
              " ' राजीव गांधी एक आतंकवादी था जिसमें लाखों सिखों को मरवाया था नाथूराम गोडसे देशभक्त है नाथू गोडसे जिंदाबाद',\n",
              " ' दिग्विजय सिंह नरेंद मोदीजी को फिर से PM बनाने के लिए प्रचार प्रसार में लग गए',\n",
              " ' बच्चों के रिजल्ट आने वाले हैं',\n",
              " ' Sunil ने आपके लिये कुछ भेजा है ओपन करने के बाद इस को टच करे socialpowerclub/ n=sunil',\n",
              " ' Bjp bhakton ke moon pe marni hai',\n",
              " ' जो भी चैटिंग करेगा उसको एडमिन द्वारा बाहर किया जाएगा रिटर्न इस ग्रुप में ज्वाइन नहीं कर पाओगे',\n",
              " ' कांग्रेस महागठबंधन और मौलाना फतवा जारी करके मुस्लिमों को अपिल कर रहे हैं बिजेपी को वोट दे योगी जी ने कहा बिजेपी की साँस हिंदु धर्म में हैं',\n",
              " ' Welcome Nitesh VasavajiKindly introduce yourself',\n",
              " ' ईस भाई ग्रुप से हटा दिया',\n",
              " ' Assalamualaikum',\n",
              " ' Mast dance hai bhai slow motion ka',\n",
              " ' कश्मीरी पंडितों पर क्या गुज़री थी सुनो इस कश्मीरी लड़की जुबानी',\n",
              " ' Hello dosto kaise ho sab',\n",
              " ' राहुल गांधी जी पहले ऐसे नेता होंगे जिनका प्रचार पार्टी से ज्यादा पब्लिक कर रही हैवो भी बिना पैसा लिएमै भी समर्थक हूँ',\n",
              " ' भारत वासी अपने संस्कार नही भूलते 12 दिन का शोक था आज तेरहवीं को पाकिस्तान का उठावना कर दिया',\n",
              " ' अब इस बात पर भी तृणमूल कांग्रेस ने जताया ऐतराज कहा- यह दुर्भाग्यपूर्ण',\n",
              " ' भारत में करोड़ से ज्यादा लोग नि स्वार्थ मोदी जी का प्रचार कर रहें हैं क्या आप इनमें से एक हों तो तुरंत मुझे मित्र अनुरोध भेजें',\n",
              " ' सारे सवाल आउट ऑफ सिलेबस थे कोई आम के बारे में पूछ रहा था बटुए के बारे में और ना ही थकान के बारे मेंक्या जवाब देता',\n",
              " ' 2019 मे मुकाबला BJP और गठबंधन के बीच नही INDIA V/S PAKISTAN के बीच मे है बाकी आप होशियार हो',\n",
              " ' Atankwadi ki baat tu hi maan',\n",
              " ' माथे पर तिलक लगाने वालों से डर लगता है सिद्धारमैया कर्नाटक कांग्रेस',\n",
              " ' भारत दुनिया का वो अजीबो-गरीब लोकतंत्र है जहां वोट इस बात पर मांगा जाता है कि पोती की नाक दादी की नाक जैसी दिखती है',\n",
              " ' क्या लगता है इस बार मोदी जी क्या करने वाले है',\n",
              " ' IPL मे मे चौकों छक्को की जगह इस रिदम् पर ज़्यादा मज़ा ले रहे हैं दर्शक',\n",
              " ' नोटबन्दी से आतंकवाद की कमर तोड़ने का दावा करने वालों को शर्म से डूब मरना चाहिए नमन_वीर_सपूतों',\n",
              " ' टेंशन लेने की कोई बात नहीं इसको रिमूव कर दिया गया',\n",
              " \" Read Article 'PM मोदी की केदारनाथ यात्रा पर TMC ने EC से की शिकायत कहा-इस बार भगवान भी नहीं बचा पाएंगे'Using app 'आयुष इंडिया न्यूज़'Source\",\n",
              " ' Rajni sogarwal jii bina photo forward kiye bhi aap admin se sikhayat kar sakte ho',\n",
              " ' 12th पढ़ने वालों के रिज़ल्ट आज गए हैं 10th पढ़ने वालों के रिज़ल्ट पाँच मई तक आएँगे और कुछ ना पढ़ने वालों के रिज़ल्ट 23 मई को आएँगे',\n",
              " ' बहुत मुश्किल से ढूंढा है जरूर देखें बलात्कारी बाबा से किस किस ने आशीर्वाद लिया हैहँसना मना है',\n",
              " ' 24 मई को पार्टी है आइयेगा जरूर छोटू को भी साथ लाना थोड़ा मनोरंजन भी हो जायेगा',\n",
              " ' Hm to padhe likhe log jalti to aap jaise logo ki hai',\n",
              " \" आपका एक गलत 'वोट आपके बच्चों से 'पकौड़े तलवा सकता है\",\n",
              " ' पीएम मोदी अभी पहले आतंकी हमारे सैनकों को सोते हुऐ ही शहीद कर देते थे आज हमारे जवान उन्हें लड कर मार रहे हैं',\n",
              " ' उसने कहा-मोदी के आने से क्या हुआ है मैंने कहा-कुछ नहीं बस जो कश्मीर मांगते थे वो भीख मांग रहे हैंबुरा मान गया पगला',\n",
              " ' Love My India जो पूरी रात जागते हो यो जरूरी कोणी के वो आशिक होकुछ देश मिटन आले फौजी भी होया करैजय हिन्द Sudrshan patel',\n",
              " ' har har mahadev',\n",
              " ' Feku hi line me he',\n",
              " ' मैं मोदी का प्रचार करता हूँ क्योकि मुंबई हमले में 186 मरने के बाद कांग्रेस चुप थी पर मोदी 40 जवानों केलिए पाक में घुस कर ठोके है',\n",
              " ' Bjp aur uske bhakt hijde',\n",
              " ' ये क्या है',\n",
              " ' अब तो कांग्रेसी नेता अपने घर पर एशियन पैंट करवाने से भी डर रहे हैंक्या पता दीवारें भी बोल उठेMain bhi चौकीदार',\n",
              " ' Baki yha pe 45 jwan bi rajnit me mare gae',\n",
              " ' ये बंगाल का हाल है हिन्दू अब भी समझा तो इससे भी बुरा हाल है',\n",
              " ' तुम दारू मुर्गा पी खा के नए साल में प्रवेश करते होऔर हम धूप अगरबत्ती यज्ञ हवन कर के माथे पर तिलक लगा के प्रवेश करते है',\n",
              " ' झुंझुनूं लोकसभा चुनाव में भाजपा कांग्रेस पार्टी इनको उतारेगी चुनावी मैदान में देखे पूरी खबर',\n",
              " ' जितने आंतकवादी मारे जाएंगे इनको दफनाना मत इनको अग्नि दी जाएजय हिन्द',\n",
              " ' Group में पप्पू के चेले भी रहने चाहिए तभी तो मज़ा आएगा',\n",
              " ' Use yaad nahi joga tabhi yadav hai',\n",
              " ' तीन राज्यों मे कांग्रेस की सरकार बनीCHG- नक्सलियों के हमले शुरूMP-भ्रष्टाचार घोटाले शुरू RJ-टोल टैक्स बिजली पानी दरों मे बढ़ोतरी',\n",
              " ' Ji bhai sahi bole',\n",
              " ' मोदी है तो ही मुमकिन हैवरना तो गठबंधन से विनाश मुमकिन है',\n",
              " ' शौचालय योजना के तहत सब को चौकीदारी की रोजगार मिलेगी MBA PHD भी शामिल',\n",
              " ' तकलीफ होने पर जोव्यक्ति सबसे पहले यादआएवो हमारे जीवन का सबसेकीमती इंसान होता है',\n",
              " \" Read Article 'चक्रवात फोनी की वजह से भुवनेश्वर और कोलकाता हवाई अड्डों पर उड़ानों का परिचालन रद्द'Using app 'आयुष इंडिया न्यूज़'Source\",\n",
              " ' त्याग करना तो कोई गांधी परिवार से सीखेदेश की खातिर पूरे महीने के लिए जीन्स टॉप का त्याग कर दिया प्रियंका गांधी ने',\n",
              " ' Post buri nahi lagegi Jab post me koi logic ho',\n",
              " ' राहुल गांधी मन्दबुद्धि है उसको कुछ सिखाया नही जा सकता TIME Magazineकांग्रेसी बड़े टाइम टाइम कर रहे थे अब बोलो',\n",
              " ' वो कौन सी तरकीब है जिससे हर 10 साल में मायावती की संपत्ति 10 गुना हो जाती है',\n",
              " ' एक तरफ कमल का फूल औरदूसरी तरफ कमाल का Fool मर्जी आपकी जिसे चाहे चुन लें',\n",
              " ' नरेन्द्र मोदी के CM रहते 9-9 घन्टे CBI पूछताछ करती रही लेकिन कभी CBI के पूछताछ को विरोध कियाइमानदार को डर कैसा',\n",
              " ' भारत का कुछ नही बिगाड़ा दुश्मन के तलवारों ने भारत को बरबाद किया है भारत के गद्दारों नेjAi shree RAM नमो अगेन',\n",
              " ' देश का गद्दार केजरीवाल',\n",
              " ' Circleअटरू पंजाबी समाज को दिलाई मतदान करने की शपथअपने शहर का अपना ऐप अभी डाउनलोड करें-',\n",
              " ' Jai bharat',\n",
              " ' लेह में विकास परियोजनाओं का उद्घाटन करते हुए पीएम नरेंद्र मोदीTo follow PM Modi News on Duta Add to your group +917397686001',\n",
              " ' Rp ने आपके लिए कुछ खास भेजा है यहाँ से देखें openthisclub/ n=Rp',\n",
              " ' देश बड़ा या पार्टीहरामी कीऔलादमोदी को हटाने के लिए सब महागठबंधन करके एक हो गये लेकिन 370 हटाने के लिए नेता ने भी मुँह नही खोला',\n",
              " ' जीवन में कई मुसीबतें जल्दी से हाँ और देर से ना बोलने पर आती है हर हर महादेव',\n",
              " \" Read Article 'शहडोल बिजहा में कलापथक दल द्वारा दिया मतदान का संदेश'Using app 'आयुष इंडिया न्यूज़'Source\",\n",
              " ' मोदी जी से सम्पुर्ण कचरा साफ तो नहीं हुआ पर एक ढेर के रूप में इकट्ठा जरूर हो गया हैं अब जलाने का काम हम सब को करना होगा',\n",
              " \" पुलवामा_घातका समर्थन करने पर देश भर में अब तक 39 छात्र बेदखल 96 के खिलाफ मुकदमा और 43 गिरफ्तार इत्तेफाक ये है कि सारे मुसलमान ''\",\n",
              " ' अनिल अंबानी और चोर चौकीदार की पोल खोलते फ़्रांस के अखबार',\n",
              " ' देश नही सारी दुनिया पर मोदी छा रहा है कर लो तैयारी धूमधाम से 2019 में फिर मोदी रहा है',\n",
              " ' सत्संग प्रवचन संत समाज की संवैधानिक सुरक्षा पर फोकस करें जी',\n",
              " ' मुलायम सिंह ने लोकसभा में कहा -- मेरी इच्छा है नरेंद्र मोदी जी पुनः प्रधानमंत्री बने हम लोग तो बहुमत में नही सकते',\n",
              " ' सन47 की भी पूछो सिधु जैसे चमचे तो आज तक पाकिस्तान के ही गुण गाते हैं',\n",
              " ' Kun hai admin',\n",
              " ' बीजेपी बोलती थी की देश को जापान बना देंगे पर बीजेपी ने तो देश को नेपाल बना दिया कुछ तो शर्म करो तू भी चौकीदार',\n",
              " ' Nihal Siddiqui ने इन शहीदों को भावपूर्वक श्रद्धांजलि दी है आप भी मिनट ओपन करके श्रद्धांजलि देवे apna-styleclub/ n=Nihal-Siddiqui',\n",
              " ' Mere pass bhre huwe hai',\n",
              " ' गांधी को किसने मारा यह तो 70 साल से पढ़ा रहे हैं गुरु गोविंदसिंह के चार बच्चों को किसने मारा यह क्यों नहीं पढ़ाया जा रहा',\n",
              " ' Ye huwa na bat sab admin se bol rha hu group me jyad member Ko jodo kam se kam 2000 member hona chiya admin asliya',\n",
              " ' सैनिक कार्रवाई पर भाजपा वोट राजनीति ना करे विपक्षयाद होगा तेरे पूर्वज इंदिरा राजीव के लाश से भी वोट निकाल लिया करते थे पक्ष',\n",
              " ' भाजपा विधायक की हत्या में शामिल नक्सली हुआ गिरफ्तार लाख का था ईनाम',\n",
              " ' अल बदर का मुखिया ढेरजयहिंद की सेना',\n",
              " ' magar huye nhi',\n",
              " ' Kyu release hui kyaaa',\n",
              " ' इन फूलों को टच करो और अपने शहीदों को श्रद्धांजलि दे जल्दी मैने तो दे दी Indian-choicecom/ n=Hansraj-Singh-Jay-hind-Jay-Bharat-',\n",
              " ' 40 rs का डीजल कब मिलता था',\n",
              " ' Kyuki Chhindwara me abhi BSP nahi hai',\n",
              " ' Ye hai Rahul Gandhi ke Samar thak',\n",
              " ' नमस्कार भाइयों',\n",
              " ' सुप्रीम कोर्ट में कल तीन जजों की बेंच दिल्ली सरकार के सर्विसेस मैटर पर सुनवाई करेगी',\n",
              " ' Isko remove Koro bhiii Sex group nhi ha',\n",
              " ' Aaj gathbandhan ho gya tu',\n",
              " ' चमचे तो 72 हजार में ही टल्ली हो गएऔरभक्तों का दिल देखो वो 15 लाख भी ठुकरा कर मोदी जी को ही लाना चाहते हैं-जय जय श्री राम',\n",
              " ' सभी आई टी आई भाईयों से निवेदन है कि कोई BJPको वोट क्यों की करनाल आई टी आई वाले बच्चे को कोई इन्साफ नही मीला',\n",
              " ' मतदान में आयी एक सुन्दर महिला',\n",
              " ' ग़ाज़ियाबाद और गाजीपुर का नाम बदला जाए मुस्लिम खुद बता रहे हैं ग़ाज़ी का मतलब',\n",
              " ' क्यों नहीं संविधान की समीक्षा हो गद्दारी की परिभाषा तय हो गद्दारी की सजा फांसी हो सारी सम्पत्ति जप्त हो',\n",
              " ' और कुछ नही',\n",
              " ' Like or subscribe jarur kare',\n",
              " ' हमे मीडिया ने बताया मोदी पहले चाय बेचते थेकलाम पहले अखबार बेचते थे लेकिनकिसी ने ये नही बताया की सोनिया पहले क्या करती थीसोचेबात में है दम कोई शक',\n",
              " ' बीएसएनएल एयर इंडिया को पछाड़ते हुवे भारतीय डाक विभाग 15000 करोड़ घाटे के साथ नम्बर वन बना सब बेच डालेगा तेरा फैजलवा',\n",
              " ' जब वो पत्थर मार रहा था तभी मार देते तो आज वो बारूद लेकर नहीं आता',\n",
              " ' शाखा ने समाज को एक साथ खड़ा करने का काम किया',\n",
              " ' लोकसभा चुनाव में अगर पंजाब में कांग्रेस की हार हुई तो मैं इस्तीफा दे दूंगा- कैप्टन अमरिंदर सिंह',\n",
              " ' पहला सुख निरोगी काया शरीर का ध्यान रखें मोदी को रोकने की कोशिश में खून जलाने से कोई फायदा नही380+ आने वाली हैं',\n",
              " ' समय का फेर देखिए पहले भाई को बचाने केवल बहन ही आती थी स्मृति ईरानी ने आज पूरे खानदान को रोड पर ला दिया',\n",
              " ' Bhai aisi hi report time magzin me bhi aayi thi abhi Use bhi dimag me rakhna',\n",
              " ' उन भक्तों के लिए था जो कांग्रेस को मुस्लिम और भाजपा को हिंदू कहते कि हिंदू मुस्लिम करते रहते हैं चुनाव और यह सही न्यूज़ है अप्रैल 2018 का है',\n",
              " ' जब सरदार पटेल नही झुके थे गोरो सेतो मोदी कैसे झुकेगा इन 40 चोरो से',\n",
              " ' सर्वे बीजेपी को बहुमत नहीं यूपी मैं 46 सीटों पर सिमट सकती है भाजपा LIKE SHARE COMMENT',\n",
              " ' कल एक नई बात पता चली है सीबीआई CBI भी गिरफ्तार हो सकती है',\n",
              " ' यह DP लगा दो भाइयो यदि आप इन्हें वापस PM देखना चाहते हो तो और यह स्टेटस भी डाल देना वंदे मातरम',\n",
              " ' Isiliye uri hamla hua india me wo bhi itni security',\n",
              " ' कौन कहता है कि दिल सिर्फ सीने में होता हैतुमको लिखूँ तो मेरी उँगलियाँ भी धड़कती हैं',\n",
              " ' याद रखो मोदी कुछ भी मुफ्त नही देगालेकिन आपको इतना काबिल बनायेगा की आप खुद खरीद सकेग्राहक बनिए भिखारी नही',\n",
              " ' गधा का बच्चा गधा होता है उल्लू का बच्चा उल्लू होता है सिर्फ हिन्दू का बच्चा मुसलमान बन जाता है कट्टर हिन्दू कभी नहीं बन पाता है',\n",
              " ' डबरा का गौरव डबरा की आवाज़गौरव शर्मा का नया गाना Mirzayeजरूर सुनें और फैलाएं',\n",
              " ' गाय के लिए प्यार है तो वीडियो थोड़ा आगे फैलाओ',\n",
              " ' Chutiya',\n",
              " ' अप्रैल फूल तो खैर मजाक है पर कामलफूल भूल गए तो सारी जिंदगी अप्रैल फूल बन जाओगे',\n",
              " ' लाल आंतक ने छत्तीसगढ़ के शांति विकास को छीनने का काम किया हैअब किसी बेगुनाह की जान नही जाएगी Fight Back Bastar',\n",
              " ' कल रीवा सीधी दौरे पर रहे हैं मध्य प्रदेश के पूर्व मुख्यमंत्री शिवराज सिंह चौहान रीवा रेवांचल एक्सप्रेस से पहुंचेंगे रीवा',\n",
              " ' किस पाकिस्तान को खत्म करोगे JNU AMU PFI कांग्रेस CPI CPM RJD Aap TMC SP TDP हुर्रियत NF PDP छोटे_छोटे पाकिस्तान तो घर में पाले बैठे हो',\n",
              " ' मरे हुए लोगों पर राजनीति नही करनी चाहिए मरे हुए लोगों की नाक से अपनी नाक मिलाकर वोट मांग लेना चाहिए',\n",
              " ' देखों HansRaj Bagrecha ने आपके लिये क्या भेजा है',\n",
              " ' _BBC दिनभर_',\n",
              " ' हमें चिडिया नहीं केवल चिडिया की आँख दिखती है देश हित में सटीक निशाना कमल का फूल प्रत्याशी कोई भी हो',\n",
              " ' आपका एक गलत वोटआपके बच्चो का नुन्नू कटवा सकता है',\n",
              " ' बहुजन समाज के साथियों मार्च के लिए तैयार हो जाओइन सॉंग को सुनो',\n",
              " \" ना 16 का डोला ना 46 की छाती घर मे घुसकर मारूगाक्युकीहिन्दूमेरी जाती '' '' '' '' '' '' '' '' '' '' '' '' '' '' डरना मत हिन्दू हो तो आगे शेयर करना\",\n",
              " ' जब से कमलनाथ के 281 करोड़ पकड़े गए हैं तब से पप्पू काला धन की बात नहीं कर रहा है ठोको ताली',\n",
              " ' Ghnta janta hoga degree leke ac office me Beth calculation lga ra bas',\n",
              " ' BIG BREAKING-सपा सांसद तेजप्रताप यादव के 2019 चुनाव लड़ने पर अखिलेश यादव की धमाकेदार घोषणा किया सबसे बड़ा उलटफेर इस खबर से मचा हड़कंप',\n",
              " ' साला ऐसा प्रचार तो अपने यहां हुआ ही नहीं',\n",
              " ' Kon gandu baj yo',\n",
              " ' \\u200bभाजपा ने शिक्षा का स्तर कितना गिरा दिया है अंदाजा इसी से लग जाता है की 2014 मैं ग्रेजुएट स्मृति ईरानी भी अब 12वी पास रह गई\\u200b',\n",
              " ' धन्य है बंगाल BJP के कार्यकर्ताजिन्हें ये पता नहीं होतावो शाम को घर वापिस लोटेंगे या नहीं फिर भी मोदीजी के लिए प्रचार मे जुटे है',\n",
              " ' Jai Modi ji',\n",
              " ' फानूस बनके जिसकी हिफाजत तड़ीपार करेवो बैंक कैसे बचें जिन्हें खाली चोकीदार करे',\n",
              " ' Ok bhai me jodhpur se hu Bishnoi',\n",
              " ' कुछ लेडीज़ तो एक घंटा मेक-अप करने के बाद भी संतुष्ट नहीं होती और फिर गिला कपड़ा लेती हैं और काँच साफ़ करती हैं',\n",
              " ' Sab ko patha hai thum logo ka asliyat Jyada likhne ka jaroorath nahi',\n",
              " ' दुनिया की सबसे ख़ूबसूरतऔर हॉट मॉडल जिसकी अदाओ की दुनिया दीवानी है',\n",
              " ' तुम हरा झंडा लहराओ तो धार्मिक आजादीऔर हम भगवा लहराए तो हिन्दू आतंकवादी',\n",
              " ' कोई माई का लाल नही रोक सकता हमको क्योंकि हमारे पास है LIKE APP माँ फडाने गया TIK TOK',\n",
              " ' कोई बहकावे मे मत आना',\n",
              " ' Study related group nahi hai',\n",
              " ' ईस भाई की मेहनत बेकार नही जानी चाहिए',\n",
              " ' अपना अच्छा वक्त उनको ही दो जो बुरे वक्त में आपके साथ थे',\n",
              " ' हिन्दू समाज पार्टी WhatsApp समूह में नये सम्मिलित सज्जन साधक//देश भक्तों का हार्दिक स्वागत है जी ॥समूह एैडमिन हिन्दू समाज पार्टी',\n",
              " ' Purana ho gaya bhai',\n",
              " ' Aree wahhh',\n",
              " ' और बादल',\n",
              " ' Pic dekh bisdu',\n",
              " ' थाने में FIR दर्ज हो तो सरकारी नौकरी नही मिलती और यहां जमानत पर चल रहे परिवार को देश की गद्दी चाहिये',\n",
              " ' विरोधी अनेक मोदी एकवो भी सब से नेक Namo-Namo Modi Again2019',\n",
              " ' Phle pura suno',\n",
              " \" साल से कान तरस गए थे घोटाला '' शब्द सुनने को मध्यप्रदेश में कांग्रेस की सरकार बनते ही घोटाले शुरू घोटाला मुबारक कोंग्रेसीओ\",\n",
              " ' अगर चौकीदार चोर हैं तोकांग्रेसी कोर्ट में क्या बवासीर का इलाज कराने जाती हैं',\n",
              " ' भाई लोग group का नाम राजनीति का अखाड़ा रख दें तो कैसा रहेगा एडमिन ध्यान दे',\n",
              " ' जिस इंग्लैंड ने भारत पर 200 साल राज कियावो भारत से अंतरिक्ष में सेटेलाइट सेट करने की तकनीक खरीदेगामोदी है तो मुमकिन है ModiLaoDeshBanao',\n",
              " ' Or ha thoda pak army sath party warty tym se karna',\n",
              " ' कांग्रेस में ब्राह्मणों का खून है सुरजेवालाबिल्कुल होगा आखिर तीन लाख कश्मीरी_पंडितों का खून इन्होंने ही तो पिया था',\n",
              " ' अटल जी ने आठ दिन में पायलट छुड़वाया थामोदी दो दिन में छुड़वा रहे हैंयोगी तो कितने फास्ट काम करते हे ये पुरा दुनिया जानता है',\n",
              " ' एक उम्र है जो तेरे बगैर गुजारनी है और एक लम्हा है जो तेरे बगैर गुज़रता नहीं',\n",
              " ' बंगाल में चुनाव प्रक्रिया tmc द्वारा',\n",
              " ' नकली डुप्लीकेट पीछेखुद AC कार मे',\n",
              " ' कांग्रेस मे डॉ वकील IAS IPS और इंजीनियर हैं जबकि BJP मे चौकीदार के वेश में चोर और तड़ीपार हैं',\n",
              " ' रेलवे स्टेशनों में स्वचालित सीढियों में चढता व्यक्ति पूछता है मोदी ने क्या किया',\n",
              " ' बंगाल के एक BJP के विधायक का भाषण कोई कुछ भी कहे मजा गया',\n",
              " ' Ajayने आप के लिए कुछ भेजा है ओपन करने के बाद पिचकारी को टच करो geohindicom/ n=Ajay',\n",
              " ' भक्तो पड़ेंगे लात घूंसे तो निरहुआ भी आयेगा जद मेंबीजेपी मे सिर्फ पिटने के लिए मनोज तिवारी ही थोड़ी हैआजमगढ़ में',\n",
              " ' गली गली में शोर चोकीदार',\n",
              " ' देखिए मोदीजी ने क्या कहा शरद पवार के बारेमें जो आज इंडिया टिव्ही के इंटरव्यू में नहीं दिखाया शरद पवार कि बातों को जनताने समझना चाहिए',\n",
              " ' कृपया ज़्यादा से ज़्यादा शेयर करे',\n",
              " ' हमारे हिंदुस्तान में हेलमेट लगाने के लिए बोले तो आंदोलन करते है और इनको देखो',\n",
              " ' आज कोई भी पार्टी का नेता अगर ममता को support कर रहा है तो वह नेता भ्रष्ट है और इस बार उसे वोट में ठेंगा दिखाना होगा',\n",
              " \" लोकसभा में सबलोग शांतभाव से वन्देमातरम '' गा रहे हैं या सुन रहे हैंवहींपर एक 'भटकती आत्मा ताक-झांक कर रहा है\",\n",
              " ' एक व्यक्ति की तीन गोली मारकर की गई हत्या व्यक्ति बाराबंकी का निवासी बताया जा रहा है सूत्र',\n",
              " ' दिल्ली में कांग्रेस का भयंकर रोड शो देखकर मोदी के छुटे पसीने',\n",
              " ' ગુજલવ શાયરીગુજએટીટ્યુડ શાયરીગુજબેવફા શાયરીगुजरति लव शायरीगुजराति अतिटुडे शायरीगुजराति बेवफा शायरी',\n",
              " ' वह अकेला ही पुरी दुनिया मे मुर्दो की भस्म से नहाता है ऐसे ही नही वो कालो का काल महाकाल कहलाता है जय जय महाकाल',\n",
              " ' भाई लोगकांग्रेसी चैंनल NDTV का पोल क्या दिखा रहा हैअगर कम आंकड़ा दिखाता है तो 23 मई को किरकिरी होगीज्यादा दिखायेगा तो पैसा नही मिलेगा',\n",
              " ' इसकी ही कमी थी कांग्रेस आन्ध्र प्रदेश मे जिन्ना की फोटो को अपने पोस्टर मे लगा कर महिमा मंडित कर रही है जागों देशवासियों',\n",
              " ' कमलनाथ बैन्ड बजाना सिखाते ही रह गयेइधर आयकर विभाग उनके घर में बैन्ड बजा आई',\n",
              " ' विरासत के दौलतमंद क्या जाने मेहनत का नशाजिंदगी वो नहीं जो अपने पुरखो पे जी जाएँ',\n",
              " \" 'फानी तूफान से की मौत कोलकाता एयरपोर्ट भी बंदपढ़े पूरी खबर\",\n",
              " ' एजेंट बी नही मिला बूथ पर BJP को भोसडीके भक्त',\n",
              " ' स्टिंग में चुनाव आयोग पर्यवेक्षक का कबूलनामा 48 घंटे लगे वजह ढूंढने में कैसे खारिज करें तेज बहादुर यादव का पर्चा',\n",
              " ' घर में घुस कर मारा है और कब्र तुम्हारी खोदी हैइस देश की गद्दी पर बैठा ये बाप तुम्हारा मोदी है',\n",
              " ' Tab malum nhi tha ki chay wala din chokidar ban jayega or chori karega tabhi to aaj galley galley me sor he chokidar chor he',\n",
              " \" किस मुर्ख ने कहा कि संविधान खतरे में हैबंगाल देखकर लगता है कि पूरे देश के बेईमान '' खतरे मे हैं कहो_दिल_से_नमो_फिर_से\",\n",
              " ' अब ठंड भी उतनीं ही बची है जितनी कांग्रेस',\n",
              " ' पागल हो गया है',\n",
              " ' गुजर जाते है ये खूबसूरत लम्हे यूं ही मुसाफिरों कि तरहयादे बही खड़ी रह जाती है यूं ही रुके रास्तो की तरहGood Morning',\n",
              " ' बंगाल में हिन्दुओं ने किसी मुस्लिम को नही जलाया मूर्ख हिन्दु',\n",
              " ' Kuch log bs bjp ko badnaam krne aur beizzat krne aaye',\n",
              " ' वोट तो बीजेपी को ही देंगे क्योंकि धन गया तो और कमा लेंगे लेकिन धर्म गया तो अधर्मी जीने नहीं देंगेजय श्री राम',\n",
              " ' कोंग्रेस वालो की मोदी से ज्यादा मणिसंकर से पफटी है पता नही कहा छुपा रखा है बे',\n",
              " ' बस करो बुआ जी बहुत दिनों से यह वीडियो ढूंढ रहा था अब जा के मिला',\n",
              " ' चलो मांन लिया तुम सब चौकीदार हो भक्त भी चौकीदार है लेकिन 4-4 मोदी किसकी चौकीदारी में भागे चुतिया भक्तो के पास जवाब है',\n",
              " ' वादे के मुताबिक वो लाहौर तक घुसा तो थालेकिन बिरयानी का पत्तल चाट के वापस गया',\n",
              " ' कांग्रेस ने तो साफ़ मना कर दिया नहीं हटाएंगे फिर तू किस हैसियत से पूछ रहा',\n",
              " ' Urdu padni nagi nahi aati',\n",
              " ' पुलवामा शहीदों के परिवार को देखो हिंदी में',\n",
              " ' Aaj ek hi lauta hai waha Lekin mera daawa hai sabhi Laut jayenge',\n",
              " ' रॉबर्ट वाड्रा की वाईफ कांग्रेस महासचिव बनीलगे हाथ जीजाजी को कोषाध्यक्ष बना दीजिए',\n",
              " ' Aur hm ye bhi kh rhe',\n",
              " ' याद रखो मोदी कुछ भी मुफ़्त नही देगालेकिन आपको इतना काबिल बनाएगा की आप खुद खरीद सके ग्राहक बनिए भिखारी नही',\n",
              " ' जिसने अंग्रेज पुलिस को सूचना दी कि चंद्र शेखर आजाद एलफ्रेड पार्क में छिपे हैंक्या आप लोगो को पता है वो मुखबिर कौन था',\n",
              " ' Kitna black money vapas aaya',\n",
              " ' ये चुतीया केसे पैदा हुवा समझ के बाहर है कभी बोलता 12000 हर महीना कभी बोलता 72000 हर वर्ष कभी बोलता 72000 महीना',\n",
              " ' कानून बनाकर भगोड़ों की देश विदेश में चल अचल संपत्ति जब्त होने की खबरें न्यूज चैनलों पर देखता व्यक्ति पूछता है मोदी ने क्या किया',\n",
              " ' Bhai Tum wahi forword msging ka khel hi khelte raho Sahi mudde lao yar kahi se hoga to Aaram se charcha karenge',\n",
              " ' Aaya tu Bhakt',\n",
              " ' Ktantikari Jai Bhim',\n",
              " ' तेजस्वी की मनमानी से कांग्रेस नाराज बिहार में अकेले लड़ने पर मंथन हा-हा-हा सारे विपक्षी आपस मे ही लडेगे',\n",
              " ' 1554999664',\n",
              " \" भूतपूर्व नोटा '' वालो एमपी '' से खबर है ऐसी स्कीम लाऊंगाएक तरफ से बेरोजगार '' डालो दूसरी तरफ से चरवाहा '' निकलेगा\",\n",
              " ' दूब मरो भक्तों लानत है तुमपे ऐसी भक्ति करने मेंप्रेस कॉनफ्रेंस देखो सयाद कुछ अकल जाए ठिकाने पे',\n",
              " ' Patna में Rohith Vemula की माँ ने कहा BJP ने मारा है बेटे को Radhika Vemula Exclusive Interview',\n",
              " ' बिस्तरपर एक्ट्रेस ने शेयर कीऐसी तस्वीरेंचौंक जाएंगे आपदेखें बेहदSeXY PICTURES',\n",
              " ' Facebook worldwide dekh lo',\n",
              " \" 'व्यक्ति क्या है ये महत्वपूर्ण नहीं है परन्तु'व्यक्ति में क्या है ये बहुत महत्वपूर्ण है सुप्रभात\",\n",
              " ' भगतसिंह तो कांग्रेस को जानते थे अब के लोग नही शायद नही जानते कांग्रेस को क्या हाल है कांग्रेस का',\n",
              " ' गोवा मे नरेंद्र मोदी जी का भाषण सुनकर सभी पार्टी के सारे नेता घबराए मिनट का वीडियो है कृपया अवश्य देखें और पसंद आये तो आगे भी सेंड करिये',\n",
              " ' हमला भले ही पाकिस्तान में हुआ हो लेकिन घायल आपको भारत में भी मिल जाएंगे शायद उसी घायल को कांग्रेस चाटुकार गुलाम कहते हैं|',\n",
              " \" थोड़ी बहुत नाराज़गी तो घर वालों से भी होती हैयहा तो देश का सवाल है '' मोदी जी हमारे लिए प्रथम ओर अन्तिम विकल्प है '' नमो_अगेन\",\n",
              " ' अगर मनमोहन के कार्यकाल में लाख 70 हजार करोड का कोयला घोटाला होता तो 300 राफेल चुके होते इसलिये एक बार फिर मोदी सरकार',\n",
              " ' मोबलीचिंग के खिलाफ युवा फिरोज खान का क्रांतिकारी स्पीच शेयर जरूर करेंचैनल सब्सक्राइब भी करें',\n",
              " ' Wahi na madarchod Yaha Ka khate hai aur tarafdari Pakistan ki karte hai Mc bangali',\n",
              " ' तृणमूल छोड़ भाजपा में शामिल हुए खान ने की ममता की आलोचनाvia Dailyhuntडाउनलोड करें',\n",
              " \" पहले राफेल की जांच के लिए CBI चीफ को हटाया अब हेलीकॉप्टर जांच पर IAS अधिकारी को कुछ तो गोलमाल है साहब के साथ जांच होनी चाहिए ''\",\n",
              " ' प्रियंका जी आपको पति की सम्पति की जानकारी देनी ही होगी चुनाव आयोगमुझे कोई चुनाव नही लड़नी है प्रियंका वाड्रा',\n",
              " \" PM का बनारस का रोड़-शो देखकर हीविपक्षीयों का '' फटति फटत फटन्ति '' चालू हो गया\",\n",
              " \" मोदी से बोले देश के साधु-संत- 'पाकिस्तान को ठोक दो-राम मंदिर रोक दो'देख लो हिन्दू विरोधियो हमारे लिए पहले राष्ट्र फिर धर्म\",\n",
              " ' नाना जीप खा गये दादी देश अब्बा तोप खा गये अम्मी हैलीकाॅप्टर जीजा जमीन खा गये खुद हैराल्ड खा गया और बोलता है चौकीदार चोर है',\n",
              " ' ये cm के भिलवाड़ा आगमन पर भारी भीड़',\n",
              " ' यहाँ शादी की तारीख़ निकल आईपर विपक्ष के पास अभी तक दूल्हा ही नहीं है और चमसे बरातियों ने नाचना भी शुरू कर दिया',\n",
              " ' ममता के खाश राजीव कुमार को सुप्रीम कोर्ट से बड़ा झटका CBI पूछ तास कर सकती है7 दिन में जमानत भी लेना पड़ेगी नहीं तो चलो अन्दर',\n",
              " \" '' मस्जिदों दरगाहों और मजारों के आगे सिर झुकाने की आदत खत्म करें भ्रमित हिन्दू '' एक धर्म रक्षक की कलम से\",\n",
              " ' BJP नेता का राम मंदिर पर बड़ा बयान चौबे बक्सर में हुंकारे',\n",
              " ' Mujhe bhi admin bano',\n",
              " ' Teri ammi ki chut sale',\n",
              " ' Sarpanch Panna Sangha ने आपके लिए कुछ भेजा है ब्लू लाइन को टच करके देखो indian-styleco/ n=Sarpanch-Panna-Sangha-',\n",
              " ' बच्चों को जब भी स्कूल भेजें जूते चेक करके ही पहनाये भले देर ही क्यों ना हो',\n",
              " ' 84 लाख योनियों में भटकने के बाद वोट डालने का अधिकार मिलता है कृपया इसे राहुल गांधी को देकर व्यर्थ करें गीता में अभी अभी अपडेट हुआ है',\n",
              " ' मिराज से बोहनी हुई है अभी तो राफेल बाकी है',\n",
              " ' टोपियों का गठबंधन सड़को पर रौंदा जाएगा समय का इंतजार करो भगवा ही लहराएगाजय श्री राम',\n",
              " ' जरा सोचेजो पार्टी विपक्ष में रहते हुये भी देश विरोधी घोषणापत्र ला सकती है वो सत्ता में रहते हुए कितनी गद्दारी करती होगी',\n",
              " ' Tujh jaise pakistan mein paida honge abhinandan ne chod aaya hyhy teri didi ko jake le lena proof',\n",
              " ' Achi baat hai laenge',\n",
              " ' KAHA GHAR HAI AAPKA',\n",
              " ' पिछड़ों आदिवासी दलितों को यह विडियो अवश्य देखना चाहिए',\n",
              " ' इस बार चुनाव प्रचार में मोदी जी विदेशी बैंको में रखे काले धन के बारे में कुछ नही कह रहे है सब वापस गया क्या',\n",
              " ' पप्पू का नया अविष्कार 1दिन में 25 घंटे बना दिए',\n",
              " ' Aacha ji',\n",
              " ' सुनो ध्यान सेअंधभक्तो की ही पहचान गाली गलौज और गन्दी जबान',\n",
              " ' बुर्के से वोट जेहाद \\u200cफर्जी वोट',\n",
              " ' jaise rahul Gandhi madhrchod',\n",
              " ' Ham ji kya haal he',\n",
              " ' केवल मोदी जी के समर्थक ही अंधभक्त है बकि पार्टियों के समर्थक तो upsc के एग्ज़ाम देके सलेक्ट किये जाते है',\n",
              " ' भाजपा ने घोषणा पत्र में किया बड़ा ऐलान भारत को बनाएंगे दुनिया की तीसरी सबसे बड़ी अर्थव्यवस्था',\n",
              " ' जरूरी सूचना -आज कांग्रेस कार्यालय मे सूजी का हलवा बनेगासूजी का बंदोबस्त सुरजेवाला कि तरफ से होगा',\n",
              " ' कांग्रेस ICU में हैं और इधर सिद्धु और शत्रुघन सिन्हा बार-बार ऑक्सीजन पाइप पर पैर रख रहे हैं काफिर',\n",
              " ' जुड़वां बच्चों को अगवा कर हत्या मध्य प्रदेश में गिरफ्तार विस्तार से खबर पढ़ने के लिए निचे किलिक करे',\n",
              " ' आज भारत में bjp के लोगों की ये दशा है',\n",
              " ' आपके शीघ्र स्वस्थ होने की ईश्वर से कामना',\n",
              " ' बीजेपी और कांग्रेस में अंतर खुद ही देख लीजिए',\n",
              " ' अरे भाई साहब ये बन्दा नही सुनेगा इसको बाहर करवाओ इस ग्रुप से उसने इस ग्रुप की मर्यादा ही खत्म कर दी है',\n",
              " ' मैं इसी लिए किसी चमचे से हाथ नही मिलाता हूं',\n",
              " ' संत मोरारी बापू ने पुलवामा शहीदों के परिजनों के लिए 50 लाख की घोषणा कीvia Dailyhuntडाउनलोड करें',\n",
              " ' पं Swapnil Mishr ~~योगी राज में महिलाएँ कितनी सुरक्षित हैं इसका ताज़ा उदाहरण यह है किअब मायावती को मुलायम सिंह से डर नही लगता',\n",
              " ' Modi ji V/S BJP gurop hai congressi Cham cho Ka Nahi',\n",
              " ' अभी तक अपनी माँ चुदा रहे थे क्या',\n",
              " ' जय समाजवाद राजेश मौर्य इलाहाबाद',\n",
              " ' पोस्टमार्टम के अनुसारमारे गए 200 आतंकवादी मे से केवल 20 की मौत बम फटने से हुयी है बाकी 180 की मौत गांड फटने से',\n",
              " ' सत्ता परिवर्तन की सोचना भी मत क्योंकि बहादुर सेना तो मिल जायेगी किन्तु देशभक्त PM मिलेगा ही अजीत डोभाल जैसा राष्ट्रीय सुरक्षा सलाहकार',\n",
              " ' Kuch log group sirf isliye join karte hain taaki is tarah chain msg Chipka Saken',\n",
              " ' जागा आशाराम बापू का देशप्रेमकहा महबूबा मुफ्ती को गिरफ्तार करके मेरे पास भेजो भारत माता की जय बोलती हुई बाहर निकले तो कहना',\n",
              " \" आजकल कांग्रेसी होना भी गुप्तरोग '' से कम नहीं हैं साला बताने में भी शर्म आती हैं NAMO AGAIN\",\n",
              " ' App bjp ki kisi area se belong karte he',\n",
              " ' भाई अमेठी से भाग गया और बहन बनारस से भाग गईफिर भी कुछ खांग्रेसी बोलते हैं तांदलेश पाल्ती दिन्दाबाद',\n",
              " ' प्रियंका गांधी जी के लखनऊ पहुँचने से पहले ही सारे गप्पू फेंकू और फ़्रॉड मीडिया से ग़ायब हो गये संजय अजगल्लेजांजगीर चांपा लोक सभा',\n",
              " ' मुरादाबाद के महापौर बिनोद अग्रवाल शहीदों के कातिलों का पुतला फूंकने से पहले हसीं मनाते हुए बेशर्मी की इंतहा ही पार कर दी',\n",
              " ' 45 दिन नारायण साँईं के साथ सुरत जेल में रहने बाले रामा भाई भरवाड की हृदय की वेदना यह वीडियो लिंक में देखें',\n",
              " \" शेर '' गुफा में क्या गया गिदडो '' ने डफली '' बजाना शुरु कर दिया जैसे ही शेर '' बाहर आएगा जंगल '' में सन्नाटा '' छा जाना है\",\n",
              " ' अबकी बार 300 पार',\n",
              " ' ये गलत बात है',\n",
              " ' जैसे ही पप्पू ने कहा चौकीदार चोर है अमेठी की भीड़ भड़क गई और नारा लगामोदी तो फौलाद हैतू डांस बार की औलाद है',\n",
              " \" लड़की वाले कितना सह सकता है जीआपका लड़का घर वाले काँग्रेसी है जी दुनियाभर कीजिल्लत के बाद भी हँस लेता है '' Namo Again ''\",\n",
              " ' Nach na aaye aangan teda',\n",
              " ' जय बजरंग बली की',\n",
              " ' अरे भाई ये मुल्ला है 23 तारीख को साबित कर दूंगा',\n",
              " ' जय हो मोदी हर हर मोदी',\n",
              " ' फालतू के मैसेज दोबारा किया तो गूरूप से बाहर कर दूँगा',\n",
              " ' पप्पू ने लगभग सभी धर्म अपना लिए हे बस मासिकधर्म बाकी है',\n",
              " ' आज फिर तिरंगे ने मायूस होकर सियासत से पूछा ये क्या हो रहा है मेरा लहराने में कम और कफन में ज्यादा इस्तेमाल हो रहा है',\n",
              " ' याद रखना हिन्दुओं के मुहं परएक करारा चांटा था जब केरल में बीच सङक परगौमाता को काटा था',\n",
              " ' Bevkuf samjha hai kya pakistan ka code +92 start hota hai',\n",
              " ' जेश के स्थानों पर भारतीय विमानों का हमला सभी विमान वापिस सुरक्षित भारत आगये',\n",
              " ' Abhi zyada hasa mat joke mat maar',\n",
              " ...]"
            ]
          },
          "metadata": {
            "tags": []
          },
          "execution_count": 30
        }
      ]
    },
    {
      "cell_type": "markdown",
      "metadata": {
        "id": "Mb2nfGvhhmCV",
        "colab_type": "text"
      },
      "source": [
        "### Remove all the Hinglish words from the text"
      ]
    },
    {
      "cell_type": "code",
      "metadata": {
        "id": "U7AVh4UNhmCV",
        "colab_type": "code",
        "colab": {}
      },
      "source": [
        "text_data = []\n",
        "for line in clean_text:\n",
        "    v = ''\n",
        "    for word in line.split():\n",
        "        if (ord(word[0])>=65 and ord(word[0])<=90) or (ord(word[-1])>=97 and ord(word[-1])<=122):\n",
        "            continue\n",
        "        else:\n",
        "            v = v+' '+word\n",
        "    text_data.append(v)"
      ],
      "execution_count": 0,
      "outputs": []
    },
    {
      "cell_type": "code",
      "metadata": {
        "id": "gJXdRQH1hmCY",
        "colab_type": "code",
        "outputId": "8516d12b-9820-4fd6-b641-344859517894",
        "colab": {
          "base_uri": "https://localhost:8080/",
          "height": 221
        }
      },
      "source": [
        "print(\"DataSet after removing all the hinglish sentences from the dataset:\")\n",
        "print(\"==\"*30)\n",
        "text_data[0:10]"
      ],
      "execution_count": 0,
      "outputs": [
        {
          "output_type": "stream",
          "text": [
            "DataSet after removing all the hinglish sentences from the dataset:\n",
            "============================================================\n"
          ],
          "name": "stdout"
        },
        {
          "output_type": "execute_result",
          "data": {
            "text/plain": [
              "[' इस औरत के दिमाग के आगे तो लुटेरे भी फैल हो गये',\n",
              " '',\n",
              " ' के बाहर कीया सेक्स देखिए videosFADU',\n",
              " '',\n",
              " ' सूत्रों के मुताबिक भारतीय वायुसेना ने पहले करीब किलो टमाटर फेंके और जैसे ही कंगले बाहर टमाटर लूटने निकले बम मार दिए',\n",
              " ' कहाँ से इनको पकड़ा है भाई तुम लोगो ने',\n",
              " '',\n",
              " \" पुलवामा झड़प में पत्थरबाजों की मौत की हालत गंभीर 50 से ज्यादा घायल आतंकी भी '' करें\",\n",
              " ' कांग्रेस मे ऐसे महिलाओं को न्याय सम्मान और सुरक्षा मिलेगी',\n",
              " ' तुम जल जल के मर जाओगेजलजला हम रुकने देगेमोदी देश नही झुकने देगाहम मोदी को नही झुकने देगे']"
            ]
          },
          "metadata": {
            "tags": []
          },
          "execution_count": 32
        }
      ]
    },
    {
      "cell_type": "code",
      "metadata": {
        "id": "CO4A_0XShmCa",
        "colab_type": "code",
        "colab": {}
      },
      "source": [
        "final_text = []\n",
        "for line in text_data:\n",
        "    final_text.append(line.strip()) "
      ],
      "execution_count": 0,
      "outputs": []
    },
    {
      "cell_type": "markdown",
      "metadata": {
        "id": "6FZcFkJGhmCb",
        "colab_type": "text"
      },
      "source": [
        "### Store all the cleaned text into the file"
      ]
    },
    {
      "cell_type": "code",
      "metadata": {
        "id": "EcTvjq3khmCc",
        "colab_type": "code",
        "colab": {}
      },
      "source": [
        "data_hindi['Hindi'] = final_text"
      ],
      "execution_count": 0,
      "outputs": []
    },
    {
      "cell_type": "code",
      "metadata": {
        "id": "FSCV5RyBhmCd",
        "colab_type": "code",
        "outputId": "601d804f-ecfc-4299-edb7-c0e88aab572b",
        "colab": {
          "base_uri": "https://localhost:8080/",
          "height": 204
        }
      },
      "source": [
        "data_hindi.head()"
      ],
      "execution_count": 0,
      "outputs": [
        {
          "output_type": "execute_result",
          "data": {
            "text/html": [
              "<div>\n",
              "<style scoped>\n",
              "    .dataframe tbody tr th:only-of-type {\n",
              "        vertical-align: middle;\n",
              "    }\n",
              "\n",
              "    .dataframe tbody tr th {\n",
              "        vertical-align: top;\n",
              "    }\n",
              "\n",
              "    .dataframe thead th {\n",
              "        text-align: right;\n",
              "    }\n",
              "</style>\n",
              "<table border=\"1\" class=\"dataframe\">\n",
              "  <thead>\n",
              "    <tr style=\"text-align: right;\">\n",
              "      <th></th>\n",
              "      <th>favour</th>\n",
              "      <th>against</th>\n",
              "      <th>sentements</th>\n",
              "      <th>data</th>\n",
              "      <th>isPolitical</th>\n",
              "      <th>user</th>\n",
              "      <th>language</th>\n",
              "      <th>Hindi</th>\n",
              "    </tr>\n",
              "  </thead>\n",
              "  <tbody>\n",
              "    <tr>\n",
              "      <th>1</th>\n",
              "      <td>[]</td>\n",
              "      <td>[]</td>\n",
              "      <td>[\"Offensive\"]</td>\n",
              "      <td>इस औरत के दिमाग के आगे तो  लुटेरे भी फैल हो गये।</td>\n",
              "      <td>False</td>\n",
              "      <td>anshuman</td>\n",
              "      <td>Hindi</td>\n",
              "      <td>इस औरत के दिमाग के आगे तो लुटेरे भी फैल हो गये</td>\n",
              "    </tr>\n",
              "    <tr>\n",
              "      <th>2</th>\n",
              "      <td>[]</td>\n",
              "      <td>[]</td>\n",
              "      <td>[\"Offensive\"]</td>\n",
              "      <td>Bagaladesi aur ghuspaithi nhi chahiye</td>\n",
              "      <td>True</td>\n",
              "      <td>anshuman</td>\n",
              "      <td>Hindi</td>\n",
              "      <td></td>\n",
              "    </tr>\n",
              "    <tr>\n",
              "      <th>3</th>\n",
              "      <td>[]</td>\n",
              "      <td>[]</td>\n",
              "      <td>[\"Spam\",\"Offensive\"]</td>\n",
              "      <td>*O. M. G full HD sex*\\n \\n\\n*WATCH LIVE BOOBS*...</td>\n",
              "      <td>False</td>\n",
              "      <td>anshuman</td>\n",
              "      <td>Hindi</td>\n",
              "      <td>के बाहर कीया सेक्स देखिए videosFADU</td>\n",
              "    </tr>\n",
              "    <tr>\n",
              "      <th>4</th>\n",
              "      <td>[]</td>\n",
              "      <td>[]</td>\n",
              "      <td>[]</td>\n",
              "      <td>Democracy ka fayda ap bhi uthao</td>\n",
              "      <td>True</td>\n",
              "      <td>anshuman</td>\n",
              "      <td>Hindi</td>\n",
              "      <td></td>\n",
              "    </tr>\n",
              "    <tr>\n",
              "      <th>5</th>\n",
              "      <td>[]</td>\n",
              "      <td>[]</td>\n",
              "      <td>[\"Others\"]</td>\n",
              "      <td>सूत्रों के मुताबिक भारतीय वायुसेना ने पहले करी...</td>\n",
              "      <td>False</td>\n",
              "      <td>anshuman</td>\n",
              "      <td>Hindi</td>\n",
              "      <td>सूत्रों के मुताबिक भारतीय वायुसेना ने पहले करी...</td>\n",
              "    </tr>\n",
              "  </tbody>\n",
              "</table>\n",
              "</div>"
            ],
            "text/plain": [
              "  favour against  ... language                                              Hindi\n",
              "1     []      []  ...    Hindi     इस औरत के दिमाग के आगे तो लुटेरे भी फैल हो गये\n",
              "2     []      []  ...    Hindi                                                   \n",
              "3     []      []  ...    Hindi                के बाहर कीया सेक्स देखिए videosFADU\n",
              "4     []      []  ...    Hindi                                                   \n",
              "5     []      []  ...    Hindi  सूत्रों के मुताबिक भारतीय वायुसेना ने पहले करी...\n",
              "\n",
              "[5 rows x 8 columns]"
            ]
          },
          "metadata": {
            "tags": []
          },
          "execution_count": 35
        }
      ]
    },
    {
      "cell_type": "markdown",
      "metadata": {
        "id": "PlmiRAQ0hmCf",
        "colab_type": "text"
      },
      "source": [
        "### Prepare the dataset for modeling"
      ]
    },
    {
      "cell_type": "code",
      "metadata": {
        "id": "mhCQtjfNhmCf",
        "colab_type": "code",
        "outputId": "7157abd4-edd5-4ec5-f6ec-0eec516f0075",
        "colab": {
          "base_uri": "https://localhost:8080/",
          "height": 34
        }
      },
      "source": [
        "print(\"Total Size of the Dataset: \",data_hindi.shape)"
      ],
      "execution_count": 0,
      "outputs": [
        {
          "output_type": "stream",
          "text": [
            "Total Size of the Dataset:  (2068, 8)\n"
          ],
          "name": "stdout"
        }
      ]
    },
    {
      "cell_type": "code",
      "metadata": {
        "id": "eEs0JIjhhmCh",
        "colab_type": "code",
        "colab": {}
      },
      "source": [
        "df = data_hindi[data_hindi['Hindi']!=''] "
      ],
      "execution_count": 0,
      "outputs": []
    },
    {
      "cell_type": "code",
      "metadata": {
        "id": "WpmpQZnDhmCj",
        "colab_type": "code",
        "outputId": "7d3ead62-4c7d-46a4-bbd0-31965c1e120a",
        "colab": {
          "base_uri": "https://localhost:8080/",
          "height": 34
        }
      },
      "source": [
        "print(\"Number of rows with hindi sentences in the dataset :\",df.shape[0])"
      ],
      "execution_count": 0,
      "outputs": [
        {
          "output_type": "stream",
          "text": [
            "Number of rows with hindi sentences in the dataset : 1671\n"
          ],
          "name": "stdout"
        }
      ]
    },
    {
      "cell_type": "code",
      "metadata": {
        "id": "gNJDzmPThmCk",
        "colab_type": "code",
        "colab": {}
      },
      "source": [
        "y_val = df['isPolitical'].values"
      ],
      "execution_count": 0,
      "outputs": []
    },
    {
      "cell_type": "code",
      "metadata": {
        "id": "PTwmmCRShmCm",
        "colab_type": "code",
        "colab": {}
      },
      "source": [
        "y = []\n",
        "for val in y_val:\n",
        "    if val:\n",
        "        y.append(1)\n",
        "    else:\n",
        "        y.append(0)"
      ],
      "execution_count": 0,
      "outputs": []
    },
    {
      "cell_type": "code",
      "metadata": {
        "id": "QS0lBgJdhmCo",
        "colab_type": "code",
        "colab": {}
      },
      "source": [
        "df['Political'] = y"
      ],
      "execution_count": 0,
      "outputs": []
    },
    {
      "cell_type": "code",
      "metadata": {
        "id": "mfc5ckj6hmCq",
        "colab_type": "code",
        "outputId": "63d5d51e-09dd-4fb1-cbe1-31352974cede",
        "colab": {
          "base_uri": "https://localhost:8080/",
          "height": 51
        }
      },
      "source": [
        "print(\"Number of Non Political Messages : \",df[df['Political']==0].shape)\n",
        "print(\"Number of Political Messages : \",df[df['Political']==1].shape)"
      ],
      "execution_count": 0,
      "outputs": [
        {
          "output_type": "stream",
          "text": [
            "Number of Non Political Messages :  (644, 9)\n",
            "Number of Political Messages :  (1027, 9)\n"
          ],
          "name": "stdout"
        }
      ]
    },
    {
      "cell_type": "code",
      "metadata": {
        "id": "CMB5u1LYhmCs",
        "colab_type": "code",
        "outputId": "1a42ff14-9066-48ce-b2d5-2ab7dfb62a89",
        "colab": {
          "base_uri": "https://localhost:8080/",
          "height": 204
        }
      },
      "source": [
        "df.head()"
      ],
      "execution_count": 0,
      "outputs": [
        {
          "output_type": "execute_result",
          "data": {
            "text/html": [
              "<div>\n",
              "<style scoped>\n",
              "    .dataframe tbody tr th:only-of-type {\n",
              "        vertical-align: middle;\n",
              "    }\n",
              "\n",
              "    .dataframe tbody tr th {\n",
              "        vertical-align: top;\n",
              "    }\n",
              "\n",
              "    .dataframe thead th {\n",
              "        text-align: right;\n",
              "    }\n",
              "</style>\n",
              "<table border=\"1\" class=\"dataframe\">\n",
              "  <thead>\n",
              "    <tr style=\"text-align: right;\">\n",
              "      <th></th>\n",
              "      <th>favour</th>\n",
              "      <th>against</th>\n",
              "      <th>sentements</th>\n",
              "      <th>data</th>\n",
              "      <th>isPolitical</th>\n",
              "      <th>user</th>\n",
              "      <th>language</th>\n",
              "      <th>Hindi</th>\n",
              "      <th>Political</th>\n",
              "    </tr>\n",
              "  </thead>\n",
              "  <tbody>\n",
              "    <tr>\n",
              "      <th>1</th>\n",
              "      <td>[]</td>\n",
              "      <td>[]</td>\n",
              "      <td>[\"Offensive\"]</td>\n",
              "      <td>इस औरत के दिमाग के आगे तो  लुटेरे भी फैल हो गये।</td>\n",
              "      <td>False</td>\n",
              "      <td>anshuman</td>\n",
              "      <td>Hindi</td>\n",
              "      <td>इस औरत के दिमाग के आगे तो लुटेरे भी फैल हो गये</td>\n",
              "      <td>0</td>\n",
              "    </tr>\n",
              "    <tr>\n",
              "      <th>3</th>\n",
              "      <td>[]</td>\n",
              "      <td>[]</td>\n",
              "      <td>[\"Spam\",\"Offensive\"]</td>\n",
              "      <td>*O. M. G full HD sex*\\n \\n\\n*WATCH LIVE BOOBS*...</td>\n",
              "      <td>False</td>\n",
              "      <td>anshuman</td>\n",
              "      <td>Hindi</td>\n",
              "      <td>के बाहर कीया सेक्स देखिए videosFADU</td>\n",
              "      <td>0</td>\n",
              "    </tr>\n",
              "    <tr>\n",
              "      <th>5</th>\n",
              "      <td>[]</td>\n",
              "      <td>[]</td>\n",
              "      <td>[\"Others\"]</td>\n",
              "      <td>सूत्रों के मुताबिक भारतीय वायुसेना ने पहले करी...</td>\n",
              "      <td>False</td>\n",
              "      <td>anshuman</td>\n",
              "      <td>Hindi</td>\n",
              "      <td>सूत्रों के मुताबिक भारतीय वायुसेना ने पहले करी...</td>\n",
              "      <td>0</td>\n",
              "    </tr>\n",
              "    <tr>\n",
              "      <th>6</th>\n",
              "      <td>[]</td>\n",
              "      <td>[]</td>\n",
              "      <td>[\"Offensive\"]</td>\n",
              "      <td>कहाँ से इनको पकड़ा है भाई तुम लोगो ने</td>\n",
              "      <td>False</td>\n",
              "      <td>anshuman</td>\n",
              "      <td>Hindi</td>\n",
              "      <td>कहाँ से इनको पकड़ा है भाई तुम लोगो ने</td>\n",
              "      <td>0</td>\n",
              "    </tr>\n",
              "    <tr>\n",
              "      <th>8</th>\n",
              "      <td>[]</td>\n",
              "      <td>[]</td>\n",
              "      <td>[\"Others\"]</td>\n",
              "      <td>पुलवामा: झड़प में 8 पत्थरबाजों की मौत, 9 की हा...</td>\n",
              "      <td>True</td>\n",
              "      <td>anshuman</td>\n",
              "      <td>Hindi</td>\n",
              "      <td>पुलवामा झड़प में पत्थरबाजों की मौत की हालत गंभ...</td>\n",
              "      <td>1</td>\n",
              "    </tr>\n",
              "  </tbody>\n",
              "</table>\n",
              "</div>"
            ],
            "text/plain": [
              "  favour against  ...                                              Hindi Political\n",
              "1     []      []  ...     इस औरत के दिमाग के आगे तो लुटेरे भी फैल हो गये         0\n",
              "3     []      []  ...                के बाहर कीया सेक्स देखिए videosFADU         0\n",
              "5     []      []  ...  सूत्रों के मुताबिक भारतीय वायुसेना ने पहले करी...         0\n",
              "6     []      []  ...               कहाँ से इनको पकड़ा है भाई तुम लोगो ने         0\n",
              "8     []      []  ...  पुलवामा झड़प में पत्थरबाजों की मौत की हालत गंभ...         1\n",
              "\n",
              "[5 rows x 9 columns]"
            ]
          },
          "metadata": {
            "tags": []
          },
          "execution_count": 43
        }
      ]
    },
    {
      "cell_type": "code",
      "metadata": {
        "id": "ObTQe1VXhmCt",
        "colab_type": "code",
        "colab": {}
      },
      "source": [
        "## Saving the dataset in the system\n",
        "df.to_csv('drive/My Drive/Colab Notebooks/preprocessed.csv')"
      ],
      "execution_count": 0,
      "outputs": []
    },
    {
      "cell_type": "code",
      "metadata": {
        "id": "qZm66RUvhmCu",
        "colab_type": "code",
        "colab": {}
      },
      "source": [
        "X_train, X_test, y_train, y_test = train_test_split(df['Hindi'], df['Political'], test_size=0.20, random_state=42)"
      ],
      "execution_count": 0,
      "outputs": []
    },
    {
      "cell_type": "code",
      "metadata": {
        "id": "KmIsWhEuhmCv",
        "colab_type": "code",
        "outputId": "e0a3562c-da5b-40ff-a164-8645fb96d494",
        "colab": {
          "base_uri": "https://localhost:8080/",
          "height": 51
        }
      },
      "source": [
        "print(\"Number of data points in train set :\",X_train.shape[0])\n",
        "print(\"Number of data points in test set\",X_test.shape[0])"
      ],
      "execution_count": 0,
      "outputs": [
        {
          "output_type": "stream",
          "text": [
            "Number of data points in train set : 1336\n",
            "Number of data points in test set 335\n"
          ],
          "name": "stdout"
        }
      ]
    },
    {
      "cell_type": "code",
      "metadata": {
        "id": "jb8biQhPnNCs",
        "colab_type": "code",
        "colab": {}
      },
      "source": [
        ""
      ],
      "execution_count": 0,
      "outputs": []
    }
  ]
}