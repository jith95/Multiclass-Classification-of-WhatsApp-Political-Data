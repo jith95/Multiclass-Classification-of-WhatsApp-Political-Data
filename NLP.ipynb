{
  "nbformat": 4,
  "nbformat_minor": 0,
  "metadata": {
    "kernelspec": {
      "display_name": "Python 3",
      "language": "python",
      "name": "python3"
    },
    "language_info": {
      "codemirror_mode": {
        "name": "ipython",
        "version": 3
      },
      "file_extension": ".py",
      "mimetype": "text/x-python",
      "name": "python",
      "nbconvert_exporter": "python",
      "pygments_lexer": "ipython3",
      "version": "3.7.3"
    },
    "colab": {
      "name": "Create machine learning model.ipynb",
      "provenance": []
    }
  },
  "cells": [
    {
      "cell_type": "markdown",
      "metadata": {
        "id": "_I3gWEQ5FyHD",
        "colab_type": "text"
      },
      "source": [
        "> ### Import packages\n"
      ]
    },
    {
      "cell_type": "code",
      "metadata": {
        "id": "Qz2Bu_gXbLyw",
        "colab_type": "code",
        "outputId": "174f4d98-517d-4e9c-9bd4-4df8a27e8119",
        "colab": {
          "base_uri": "https://localhost:8080/",
          "height": 272
        }
      },
      "source": [
        "!pip install scikit-plot\n",
        "import warnings\n",
        "warnings.filterwarnings('ignore')\n",
        "import pandas as pd\n",
        "from bs4 import BeautifulSoup\n",
        "import re\n",
        "import pandas as pd\n",
        "import re\n",
        "import os\n",
        "import nltk\n",
        "from sklearn.linear_model import LogisticRegression\n",
        "from nltk.tokenize import word_tokenize\n",
        "from sklearn.model_selection import train_test_split\n",
        "from sklearn.feature_extraction.text import TfidfVectorizer\n",
        "from sklearn.naive_bayes import MultinomialNB as mnb\n",
        "from sklearn.metrics import confusion_matrix\n",
        "from sklearn.metrics import accuracy_score\n",
        "import scikitplot as skplt"
      ],
      "execution_count": 0,
      "outputs": [
        {
          "output_type": "stream",
          "text": [
            "Collecting scikit-plot\n",
            "  Downloading https://files.pythonhosted.org/packages/7c/47/32520e259340c140a4ad27c1b97050dd3254fdc517b1d59974d47037510e/scikit_plot-0.3.7-py3-none-any.whl\n",
            "Requirement already satisfied: joblib>=0.10 in /usr/local/lib/python3.6/dist-packages (from scikit-plot) (0.13.2)\n",
            "Requirement already satisfied: matplotlib>=1.4.0 in /usr/local/lib/python3.6/dist-packages (from scikit-plot) (3.0.3)\n",
            "Requirement already satisfied: scikit-learn>=0.18 in /usr/local/lib/python3.6/dist-packages (from scikit-plot) (0.21.3)\n",
            "Requirement already satisfied: scipy>=0.9 in /usr/local/lib/python3.6/dist-packages (from scikit-plot) (1.3.1)\n",
            "Requirement already satisfied: python-dateutil>=2.1 in /usr/local/lib/python3.6/dist-packages (from matplotlib>=1.4.0->scikit-plot) (2.5.3)\n",
            "Requirement already satisfied: kiwisolver>=1.0.1 in /usr/local/lib/python3.6/dist-packages (from matplotlib>=1.4.0->scikit-plot) (1.1.0)\n",
            "Requirement already satisfied: pyparsing!=2.0.4,!=2.1.2,!=2.1.6,>=2.0.1 in /usr/local/lib/python3.6/dist-packages (from matplotlib>=1.4.0->scikit-plot) (2.4.2)\n",
            "Requirement already satisfied: numpy>=1.10.0 in /usr/local/lib/python3.6/dist-packages (from matplotlib>=1.4.0->scikit-plot) (1.16.5)\n",
            "Requirement already satisfied: cycler>=0.10 in /usr/local/lib/python3.6/dist-packages (from matplotlib>=1.4.0->scikit-plot) (0.10.0)\n",
            "Requirement already satisfied: six>=1.5 in /usr/local/lib/python3.6/dist-packages (from python-dateutil>=2.1->matplotlib>=1.4.0->scikit-plot) (1.12.0)\n",
            "Requirement already satisfied: setuptools in /usr/local/lib/python3.6/dist-packages (from kiwisolver>=1.0.1->matplotlib>=1.4.0->scikit-plot) (41.2.0)\n",
            "Installing collected packages: scikit-plot\n",
            "Successfully installed scikit-plot-0.3.7\n"
          ],
          "name": "stdout"
        }
      ]
    },
    {
      "cell_type": "code",
      "metadata": {
        "id": "tx0HHXWboVS7",
        "colab_type": "code",
        "outputId": "06a9a174-2254-4467-e047-ff77f53873cf",
        "colab": {
          "base_uri": "https://localhost:8080/",
          "height": 122
        }
      },
      "source": [
        "import pandas as pd\n",
        "\n",
        "from google.colab import drive\n",
        "drive.mount(\"/content/drive\")"
      ],
      "execution_count": 0,
      "outputs": [
        {
          "output_type": "stream",
          "text": [
            "Go to this URL in a browser: https://accounts.google.com/o/oauth2/auth?client_id=947318989803-6bn6qk8qdgf4n4g3pfee6491hc0brc4i.apps.googleusercontent.com&redirect_uri=urn%3Aietf%3Awg%3Aoauth%3A2.0%3Aoob&scope=email%20https%3A%2F%2Fwww.googleapis.com%2Fauth%2Fdocs.test%20https%3A%2F%2Fwww.googleapis.com%2Fauth%2Fdrive%20https%3A%2F%2Fwww.googleapis.com%2Fauth%2Fdrive.photos.readonly%20https%3A%2F%2Fwww.googleapis.com%2Fauth%2Fpeopleapi.readonly&response_type=code\n",
            "\n",
            "Enter your authorization code:\n",
            "··········\n",
            "Mounted at /content/drive\n"
          ],
          "name": "stdout"
        }
      ]
    },
    {
      "cell_type": "markdown",
      "metadata": {
        "id": "jgug3MK6GKjS",
        "colab_type": "text"
      },
      "source": [
        "> ### Read the preprocessed data"
      ]
    },
    {
      "cell_type": "code",
      "metadata": {
        "id": "qJbIDuUFbLyz",
        "colab_type": "code",
        "colab": {}
      },
      "source": [
        "data = pd.read_csv('drive/My Drive/Colab Notebooks/preprocessed.csv')"
      ],
      "execution_count": 0,
      "outputs": []
    },
    {
      "cell_type": "markdown",
      "metadata": {
        "id": "dBWx6-6BGVe3",
        "colab_type": "text"
      },
      "source": [
        "> ### Preprocess data has mixed language such as Hindi and English"
      ]
    },
    {
      "cell_type": "code",
      "metadata": {
        "id": "KsT6ePXLbLy1",
        "colab_type": "code",
        "outputId": "06c37a48-f732-4b25-93fc-77fe4e93efa9",
        "colab": {
          "base_uri": "https://localhost:8080/",
          "height": 204
        }
      },
      "source": [
        "data.head()"
      ],
      "execution_count": 0,
      "outputs": [
        {
          "output_type": "execute_result",
          "data": {
            "text/html": [
              "<div>\n",
              "<style scoped>\n",
              "    .dataframe tbody tr th:only-of-type {\n",
              "        vertical-align: middle;\n",
              "    }\n",
              "\n",
              "    .dataframe tbody tr th {\n",
              "        vertical-align: top;\n",
              "    }\n",
              "\n",
              "    .dataframe thead th {\n",
              "        text-align: right;\n",
              "    }\n",
              "</style>\n",
              "<table border=\"1\" class=\"dataframe\">\n",
              "  <thead>\n",
              "    <tr style=\"text-align: right;\">\n",
              "      <th></th>\n",
              "      <th>Unnamed: 0</th>\n",
              "      <th>favour</th>\n",
              "      <th>against</th>\n",
              "      <th>sentements</th>\n",
              "      <th>data</th>\n",
              "      <th>isPolitical</th>\n",
              "      <th>user</th>\n",
              "      <th>language</th>\n",
              "      <th>Hindi</th>\n",
              "      <th>Political</th>\n",
              "    </tr>\n",
              "  </thead>\n",
              "  <tbody>\n",
              "    <tr>\n",
              "      <th>0</th>\n",
              "      <td>1</td>\n",
              "      <td>[]</td>\n",
              "      <td>[]</td>\n",
              "      <td>[\"Offensive\"]</td>\n",
              "      <td>इस औरत के दिमाग के आगे तो  लुटेरे भी फैल हो गये।</td>\n",
              "      <td>False</td>\n",
              "      <td>anshuman</td>\n",
              "      <td>Hindi</td>\n",
              "      <td>इस औरत के दिमाग के आगे तो लुटेरे भी फैल हो गये</td>\n",
              "      <td>0</td>\n",
              "    </tr>\n",
              "    <tr>\n",
              "      <th>1</th>\n",
              "      <td>3</td>\n",
              "      <td>[]</td>\n",
              "      <td>[]</td>\n",
              "      <td>[\"Spam\",\"Offensive\"]</td>\n",
              "      <td>*O. M. G full HD sex*\\n \\n\\n*WATCH LIVE BOOBS*...</td>\n",
              "      <td>False</td>\n",
              "      <td>anshuman</td>\n",
              "      <td>Hindi</td>\n",
              "      <td>के बाहर कीया सेक्स देखिए videosFADU</td>\n",
              "      <td>0</td>\n",
              "    </tr>\n",
              "    <tr>\n",
              "      <th>2</th>\n",
              "      <td>5</td>\n",
              "      <td>[]</td>\n",
              "      <td>[]</td>\n",
              "      <td>[\"Others\"]</td>\n",
              "      <td>सूत्रों के मुताबिक भारतीय वायुसेना ने पहले करी...</td>\n",
              "      <td>False</td>\n",
              "      <td>anshuman</td>\n",
              "      <td>Hindi</td>\n",
              "      <td>सूत्रों के मुताबिक भारतीय वायुसेना ने पहले करी...</td>\n",
              "      <td>0</td>\n",
              "    </tr>\n",
              "    <tr>\n",
              "      <th>3</th>\n",
              "      <td>6</td>\n",
              "      <td>[]</td>\n",
              "      <td>[]</td>\n",
              "      <td>[\"Offensive\"]</td>\n",
              "      <td>कहाँ से इनको पकड़ा है भाई तुम लोगो ने</td>\n",
              "      <td>False</td>\n",
              "      <td>anshuman</td>\n",
              "      <td>Hindi</td>\n",
              "      <td>कहाँ से इनको पकड़ा है भाई तुम लोगो ने</td>\n",
              "      <td>0</td>\n",
              "    </tr>\n",
              "    <tr>\n",
              "      <th>4</th>\n",
              "      <td>8</td>\n",
              "      <td>[]</td>\n",
              "      <td>[]</td>\n",
              "      <td>[\"Others\"]</td>\n",
              "      <td>पुलवामा: झड़प में 8 पत्थरबाजों की मौत, 9 की हा...</td>\n",
              "      <td>True</td>\n",
              "      <td>anshuman</td>\n",
              "      <td>Hindi</td>\n",
              "      <td>पुलवामा झड़प में पत्थरबाजों की मौत की हालत गंभ...</td>\n",
              "      <td>1</td>\n",
              "    </tr>\n",
              "  </tbody>\n",
              "</table>\n",
              "</div>"
            ],
            "text/plain": [
              "   Unnamed: 0  ... Political\n",
              "0           1  ...         0\n",
              "1           3  ...         0\n",
              "2           5  ...         0\n",
              "3           6  ...         0\n",
              "4           8  ...         1\n",
              "\n",
              "[5 rows x 10 columns]"
            ]
          },
          "metadata": {
            "tags": []
          },
          "execution_count": 4
        }
      ]
    },
    {
      "cell_type": "code",
      "metadata": {
        "id": "1YJfw62CbLy4",
        "colab_type": "code",
        "outputId": "e2665072-0c77-4a6c-e89e-6e416b659615",
        "colab": {
          "base_uri": "https://localhost:8080/",
          "height": 34
        }
      },
      "source": [
        "data['Hindi'].values[0]"
      ],
      "execution_count": 0,
      "outputs": [
        {
          "output_type": "execute_result",
          "data": {
            "text/plain": [
              "'इस औरत के दिमाग के आगे तो लुटेरे भी फैल हो गये'"
            ]
          },
          "metadata": {
            "tags": []
          },
          "execution_count": 5
        }
      ]
    },
    {
      "cell_type": "markdown",
      "metadata": {
        "id": "G8E6v_k4GoPp",
        "colab_type": "text"
      },
      "source": [
        "> ### Split the data into train and test in the 80:20 ratio "
      ]
    },
    {
      "cell_type": "code",
      "metadata": {
        "id": "2BmCr0I2bLy5",
        "colab_type": "code",
        "colab": {}
      },
      "source": [
        "X_train, X_test, y_train, y_test = train_test_split(data['Hindi'], data['Political'], test_size=0.20, random_state=42)"
      ],
      "execution_count": 0,
      "outputs": []
    },
    {
      "cell_type": "code",
      "metadata": {
        "id": "08dcghEUbLy7",
        "colab_type": "code",
        "colab": {}
      },
      "source": [
        "tfidf1 = TfidfVectorizer(max_features = 675)  ## we experimented with different features\n",
        "X_train1 = tfidf1.fit_transform(X_train)\n",
        "X_test1 = tfidf1.transform(X_test)"
      ],
      "execution_count": 0,
      "outputs": []
    },
    {
      "cell_type": "markdown",
      "metadata": {
        "id": "2NFZMUwMG7Sv",
        "colab_type": "text"
      },
      "source": [
        "> ### Fine tune alpha value for two classes (Political, non-political )"
      ]
    },
    {
      "cell_type": "code",
      "metadata": {
        "id": "oWKmeASlbLy9",
        "colab_type": "code",
        "outputId": "b5120cd2-edd1-4f27-8302-ac32066c6cd2",
        "colab": {
          "base_uri": "https://localhost:8080/",
          "height": 153
        }
      },
      "source": [
        "for i in [.0001,.001,.01,.1,1,10,100,1000]:\n",
        "    gnb = mnb(alpha = i)\n",
        "    gnb.fit(X_train1,y_train)\n",
        "    y_pre = gnb.predict(X_test1)\n",
        "    print(i,\"Accuracy of the model :\",accuracy_score(y_test,y_pre))"
      ],
      "execution_count": 0,
      "outputs": [
        {
          "output_type": "stream",
          "text": [
            "0.0001 Accuracy of the model : 0.6507462686567164\n",
            "0.001 Accuracy of the model : 0.6507462686567164\n",
            "0.01 Accuracy of the model : 0.6537313432835821\n",
            "0.1 Accuracy of the model : 0.6537313432835821\n",
            "1 Accuracy of the model : 0.6507462686567164\n",
            "10 Accuracy of the model : 0.6059701492537314\n",
            "100 Accuracy of the model : 0.591044776119403\n",
            "1000 Accuracy of the model : 0.591044776119403\n"
          ],
          "name": "stdout"
        }
      ]
    },
    {
      "cell_type": "markdown",
      "metadata": {
        "id": "7oDRnMeJHx4_",
        "colab_type": "text"
      },
      "source": [
        "> ### Confusion metrix  0 means political, 1 means non-political"
      ]
    },
    {
      "cell_type": "code",
      "metadata": {
        "id": "rAmMnXBmbLy-",
        "colab_type": "code",
        "outputId": "6abfcd97-9e2f-46c2-fde1-8cccd019aa44",
        "colab": {
          "base_uri": "https://localhost:8080/",
          "height": 590
        }
      },
      "source": [
        "gnb = mnb(alpha=.1)\n",
        "gnb.fit(X_train1,y_train)\n",
        "y_pre1 = gnb.predict(X_train1)\n",
        "y_pre = gnb.predict(X_test1)\n",
        "skplt.metrics.plot_confusion_matrix(y_train,y_pre1)\n",
        "skplt.metrics.plot_confusion_matrix(y_test,y_pre)"
      ],
      "execution_count": 0,
      "outputs": [
        {
          "output_type": "execute_result",
          "data": {
            "text/plain": [
              "<matplotlib.axes._subplots.AxesSubplot at 0x7f3c7d590320>"
            ]
          },
          "metadata": {
            "tags": []
          },
          "execution_count": 11
        },
        {
          "output_type": "display_data",
          "data": {
            "image/png": "[encoded data removed]",
            "text/plain": [
              "<Figure size 432x288 with 2 Axes>"
            ]
          },
          "metadata": {
            "tags": []
          }
        },
        {
          "output_type": "display_data",
          "data": {
            "image/png": "[encoded data removed]",
            "text/plain": [
              "<Figure size 432x288 with 2 Axes>"
            ]
          },
          "metadata": {
            "tags": []
          }
        }
      ]
    },
    {
      "cell_type": "code",
      "metadata": {
        "id": "HJqsbBC9bLzA",
        "colab_type": "code",
        "outputId": "4d0b6516-06fa-42d3-a46c-229fb4064f23",
        "colab": {
          "base_uri": "https://localhost:8080/",
          "height": 51
        }
      },
      "source": [
        "print(\"Accuracy of the model on test data:\",accuracy_score(y_test,y_pre))\n",
        "print(\"Accuracy of the model on training data :\",accuracy_score(y_train,y_pre1))"
      ],
      "execution_count": 0,
      "outputs": [
        {
          "output_type": "stream",
          "text": [
            "Accuracy of the model on test data: 0.6537313432835821\n",
            "Accuracy of the model on training data : 0.8166167664670658\n"
          ],
          "name": "stdout"
        }
      ]
    },
    {
      "cell_type": "markdown",
      "metadata": {
        "id": "W-um4h3qbLzC",
        "colab_type": "text"
      },
      "source": [
        "> ### Changing the decsion surface by changing the probability values"
      ]
    },
    {
      "cell_type": "code",
      "metadata": {
        "id": "vzbNE9PBbLzC",
        "colab_type": "code",
        "colab": {}
      },
      "source": [
        "gnb = mnb(alpha=.1)\n",
        "gnb.fit(X_train1,y_train)\n",
        "y_pre1 = gnb.predict_proba(X_train1)\n",
        "y_pre = gnb.predict_proba(X_test1)"
      ],
      "execution_count": 0,
      "outputs": []
    },
    {
      "cell_type": "code",
      "metadata": {
        "id": "r0BPTWRzpAMM",
        "colab_type": "code",
        "colab": {}
      },
      "source": [
        "def cal_acc(test,k):\n",
        "    predict_val = []\n",
        "   # print(test)\n",
        "    for d in test:\n",
        "            if d[0]>k:\n",
        "                predict_val.append(0)\n",
        "            else:\n",
        "                predict_val.append(1)\n",
        "    return predict_val             "
      ],
      "execution_count": 0,
      "outputs": []
    },
    {
      "cell_type": "code",
      "metadata": {
        "id": "GweXm-dWbLzE",
        "colab_type": "code",
        "outputId": "d3b018bf-2bd0-404a-d4c3-360b3f3b8b5b",
        "colab": {
          "base_uri": "https://localhost:8080/",
          "height": 629
        }
      },
      "source": [
        "for k in [.025,.05,.1,.2,.3,.4,.5,.6,.7,.8,.9,.99]:\n",
        "    predict1 = cal_acc(y_pre,k)\n",
        "    predict2 = cal_acc(y_pre1,k)\n",
        "    print(\"===\"*15)\n",
        "    print(k,\"Test Accuracy score of the model :\",accuracy_score(y_test,predict1))\n",
        "    print(\"Train Accuracy score of the model :\",accuracy_score(y_train,predict2))"
      ],
      "execution_count": 0,
      "outputs": [
        {
          "output_type": "stream",
          "text": [
            "=============================================\n",
            "0.025 Test Accuracy score of the model : 0.41492537313432837\n",
            "Train Accuracy score of the model : 0.39221556886227543\n",
            "=============================================\n",
            "0.05 Test Accuracy score of the model : 0.4208955223880597\n",
            "Train Accuracy score of the model : 0.4341317365269461\n",
            "=============================================\n",
            "0.1 Test Accuracy score of the model : 0.4746268656716418\n",
            "Train Accuracy score of the model : 0.5202095808383234\n",
            "=============================================\n",
            "0.2 Test Accuracy score of the model : 0.5701492537313433\n",
            "Train Accuracy score of the model : 0.6721556886227545\n",
            "=============================================\n",
            "0.3 Test Accuracy score of the model : 0.6388059701492538\n",
            "Train Accuracy score of the model : 0.7776946107784432\n",
            "=============================================\n",
            "0.4 Test Accuracy score of the model : 0.6477611940298508\n",
            "Train Accuracy score of the model : 0.813622754491018\n",
            "=============================================\n",
            "0.5 Test Accuracy score of the model : 0.6537313432835821\n",
            "Train Accuracy score of the model : 0.8166167664670658\n",
            "=============================================\n",
            "0.6 Test Accuracy score of the model : 0.6477611940298508\n",
            "Train Accuracy score of the model : 0.7732035928143712\n",
            "=============================================\n",
            "0.7 Test Accuracy score of the model : 0.6388059701492538\n",
            "Train Accuracy score of the model : 0.7163173652694611\n",
            "=============================================\n",
            "0.8 Test Accuracy score of the model : 0.6208955223880597\n",
            "Train Accuracy score of the model : 0.6751497005988024\n",
            "=============================================\n",
            "0.9 Test Accuracy score of the model : 0.6119402985074627\n",
            "Train Accuracy score of the model : 0.6444610778443114\n",
            "=============================================\n",
            "0.99 Test Accuracy score of the model : 0.591044776119403\n",
            "Train Accuracy score of the model : 0.6212574850299402\n"
          ],
          "name": "stdout"
        }
      ]
    },
    {
      "cell_type": "code",
      "metadata": {
        "id": "h455ohAHbLzG",
        "colab_type": "code",
        "colab": {}
      },
      "source": [
        "pos_class_prob_sorted = gnb.feature_log_prob_[1, :].argsort()\n",
        "feature = tfidf1.get_feature_names()"
      ],
      "execution_count": 0,
      "outputs": []
    },
    {
      "cell_type": "code",
      "metadata": {
        "id": "MXp5nWNqbLzK",
        "colab_type": "code",
        "outputId": "630205ae-f999-4715-9b5a-e85fa0b7b815",
        "colab": {
          "base_uri": "https://localhost:8080/",
          "height": 34
        }
      },
      "source": [
        "feat_count = gnb.feature_count_\n",
        "feat_count.shape"
      ],
      "execution_count": 0,
      "outputs": [
        {
          "output_type": "execute_result",
          "data": {
            "text/plain": [
              "(2, 675)"
            ]
          },
          "metadata": {
            "tags": []
          },
          "execution_count": 18
        }
      ]
    },
    {
      "cell_type": "code",
      "metadata": {
        "id": "Dn7S0V8YbLzM",
        "colab_type": "code",
        "outputId": "4abb7290-56bc-48e7-bfae-4a39a0d69db5",
        "colab": {
          "base_uri": "https://localhost:8080/",
          "height": 34
        }
      },
      "source": [
        "log_prob = gnb.feature_log_prob_\n",
        "feature_prob = pd.DataFrame(log_prob, columns = feature)\n",
        "feature_prob_tr = feature_prob.T\n",
        "feature_prob_tr.shape"
      ],
      "execution_count": 0,
      "outputs": [
        {
          "output_type": "execute_result",
          "data": {
            "text/plain": [
              "(675, 2)"
            ]
          },
          "metadata": {
            "tags": []
          },
          "execution_count": 19
        }
      ]
    },
    {
      "cell_type": "code",
      "metadata": {
        "id": "vOS4eVHMbLzN",
        "colab_type": "code",
        "outputId": "e45fb406-64e4-4de8-8988-01d24f395e3d",
        "colab": {
          "base_uri": "https://localhost:8080/",
          "height": 255
        }
      },
      "source": [
        "print(\"\\n\\n Top 10 Positive Features from Political Class:-\\n\",feature_prob_tr[1].sort_values(ascending = False)[0:10])"
      ],
      "execution_count": 0,
      "outputs": [
        {
          "output_type": "stream",
          "text": [
            "\n",
            "\n",
            " Top 10 Positive Features from Political Class:-\n",
            " कर   -3.912480\n",
            "नह   -4.036505\n",
            "रह   -4.091825\n",
            "पर   -4.249819\n",
            "और   -4.288621\n",
            "एक   -4.574319\n",
            "बन   -4.581853\n",
            "रत   -4.624207\n",
            "कह   -4.633193\n",
            "हम   -4.769047\n",
            "Name: 1, dtype: float64\n"
          ],
          "name": "stdout"
        }
      ]
    },
    {
      "cell_type": "code",
      "metadata": {
        "id": "MRJDD2-lbLzQ",
        "colab_type": "code",
        "outputId": "f7594bd7-fb5d-4804-ff9f-564ae96c692b",
        "colab": {
          "base_uri": "https://localhost:8080/",
          "height": 221
        }
      },
      "source": [
        "print(\"Top 10 Negative Features From the Non-Political Class:-\\n\",feature_prob_tr[0].sort_values(ascending = False)[0:10])"
      ],
      "execution_count": 0,
      "outputs": [
        {
          "output_type": "stream",
          "text": [
            "Top 10 Negative Features From the Non-Political Class:-\n",
            " कर    -3.707110\n",
            "नह    -4.059005\n",
            "पर    -4.182728\n",
            "और    -4.206801\n",
            "जय    -4.212360\n",
            "रह    -4.241120\n",
            "रत    -4.260654\n",
            "इस    -4.288910\n",
            "आपक   -4.527497\n",
            "जर    -4.634624\n",
            "Name: 0, dtype: float64\n"
          ],
          "name": "stdout"
        }
      ]
    },
    {
      "cell_type": "markdown",
      "metadata": {
        "id": "i39XDg99bLzS",
        "colab_type": "text"
      },
      "source": [
        "### Applying logistic Regression"
      ]
    },
    {
      "cell_type": "markdown",
      "metadata": {
        "id": "jXFoyP0MbLzS",
        "colab_type": "text"
      },
      "source": [
        "> ### When all the classes are not balanced"
      ]
    },
    {
      "cell_type": "code",
      "metadata": {
        "id": "g8xzekBvbLzT",
        "colab_type": "code",
        "outputId": "b1be8234-6d84-456a-ba72-038e1c677f9d",
        "colab": {
          "base_uri": "https://localhost:8080/",
          "height": 187
        }
      },
      "source": [
        "for i in [.000001,.00001,.0001,.001,.01,.1,1,10,100,1000]:\n",
        "    gnb = LogisticRegression(penalty='l2',C = i)\n",
        "    gnb.fit(X_train1,y_train)\n",
        "    y_pre = gnb.predict(X_test1)\n",
        "    print(i,\"Accuracy of the model :\",accuracy_score(y_test,y_pre))"
      ],
      "execution_count": 0,
      "outputs": [
        {
          "output_type": "stream",
          "text": [
            "1e-06 Accuracy of the model : 0.591044776119403\n",
            "1e-05 Accuracy of the model : 0.591044776119403\n",
            "0.0001 Accuracy of the model : 0.591044776119403\n",
            "0.001 Accuracy of the model : 0.591044776119403\n",
            "0.01 Accuracy of the model : 0.591044776119403\n",
            "0.1 Accuracy of the model : 0.591044776119403\n",
            "1 Accuracy of the model : 0.6716417910447762\n",
            "10 Accuracy of the model : 0.6626865671641791\n",
            "100 Accuracy of the model : 0.6208955223880597\n",
            "1000 Accuracy of the model : 0.6298507462686567\n"
          ],
          "name": "stdout"
        }
      ]
    },
    {
      "cell_type": "markdown",
      "metadata": {
        "id": "Csgo6qM_bLzU",
        "colab_type": "text"
      },
      "source": [
        "> ### When all the classes are balanced"
      ]
    },
    {
      "cell_type": "code",
      "metadata": {
        "id": "zLornTjjbLzV",
        "colab_type": "code",
        "outputId": "1645f5f7-7417-448a-90e9-4c0272a4d036",
        "colab": {
          "base_uri": "https://localhost:8080/",
          "height": 187
        }
      },
      "source": [
        "for i in [.000001,.00001,.0001,.001,.01,.1,1,10,100,1000]:\n",
        "    gnb = LogisticRegression(penalty='l2',C = i,class_weight ='balanced')\n",
        "    gnb.fit(X_train1,y_train)\n",
        "    y_pre = gnb.predict(X_test1)\n",
        "    print(i,\"Accuracy of the model :\",accuracy_score(y_test,y_pre))"
      ],
      "execution_count": 0,
      "outputs": [
        {
          "output_type": "stream",
          "text": [
            "1e-06 Accuracy of the model : 0.6925373134328359\n",
            "1e-05 Accuracy of the model : 0.6925373134328359\n",
            "0.0001 Accuracy of the model : 0.6985074626865672\n",
            "0.001 Accuracy of the model : 0.6895522388059702\n",
            "0.01 Accuracy of the model : 0.6985074626865672\n",
            "0.1 Accuracy of the model : 0.6925373134328359\n",
            "1 Accuracy of the model : 0.6805970149253732\n",
            "10 Accuracy of the model : 0.6597014925373135\n",
            "100 Accuracy of the model : 0.6059701492537314\n",
            "1000 Accuracy of the model : 0.6119402985074627\n"
          ],
          "name": "stdout"
        }
      ]
    },
    {
      "cell_type": "code",
      "metadata": {
        "id": "OjHhiwOlbLzW",
        "colab_type": "code",
        "outputId": "9c17a466-47c4-497f-a8a2-d75d4a5b2c85",
        "colab": {
          "base_uri": "https://localhost:8080/",
          "height": 51
        }
      },
      "source": [
        "gnb = LogisticRegression(penalty='l2',C = .0001,class_weight ='balanced')\n",
        "gnb.fit(X_train1,y_train)\n",
        "y_pre = gnb.predict(X_test1)\n",
        "y_pre1 = gnb.predict(X_train1)\n",
        "print(\"Accuracy of the model on test data :\",accuracy_score(y_test,y_pre))\n",
        "print(\"Accuracy of the model on train data :\",accuracy_score(y_train,y_pre1))"
      ],
      "execution_count": 0,
      "outputs": [
        {
          "output_type": "stream",
          "text": [
            "Accuracy of the model on test data : 0.6985074626865672\n",
            "Accuracy of the model on train data : 0.7462574850299402\n"
          ],
          "name": "stdout"
        }
      ]
    },
    {
      "cell_type": "code",
      "metadata": {
        "id": "34h0G3KMbLzZ",
        "colab_type": "code",
        "outputId": "2a731272-910c-4133-eee7-ff5e7a3f072d",
        "colab": {
          "base_uri": "https://localhost:8080/",
          "height": 624
        }
      },
      "source": [
        "print(\"Confusion matrix for training data: \")\n",
        "skplt.metrics.plot_confusion_matrix(y_train,y_pre1)\n",
        "print(\"Confusion matrix for test data :\")\n",
        "skplt.metrics.plot_confusion_matrix(y_test,y_pre)\n"
      ],
      "execution_count": 0,
      "outputs": [
        {
          "output_type": "stream",
          "text": [
            "Confusion matrix for training data: \n",
            "Confusion matrix for test data :\n"
          ],
          "name": "stdout"
        },
        {
          "output_type": "execute_result",
          "data": {
            "text/plain": [
              "<matplotlib.axes._subplots.AxesSubplot at 0x7f3c7ac616a0>"
            ]
          },
          "metadata": {
            "tags": []
          },
          "execution_count": 25
        },
        {
          "output_type": "display_data",
          "data": {
            "image/png": "[encoded data removed]",
            "text/plain": [
              "<Figure size 432x288 with 2 Axes>"
            ]
          },
          "metadata": {
            "tags": []
          }
        },
        {
          "output_type": "display_data",
          "data": {
            "image/png": "[encoded data removed]",
            "text/plain": [
              "<Figure size 432x288 with 2 Axes>"
            ]
          },
          "metadata": {
            "tags": []
          }
        }
      ]
    },
    {
      "cell_type": "code",
      "metadata": {
        "id": "m7l9BafPbLzc",
        "colab_type": "code",
        "outputId": "0efbc4cb-486d-466d-f6e7-144be6e852e6",
        "colab": {
          "base_uri": "https://localhost:8080/",
          "height": 357
        }
      },
      "source": [
        "\n",
        "feature_names=tfidf1.get_feature_names()\n",
        "w=gnb.coef_\n",
        "top_f=zip(w[0],feature_names)\n",
        "top_new=list(top_f)\n",
        "top_new.sort(reverse=True,key=lambda x:x[0])\n",
        "print('Weight\\t\\tTop Positive Feature')\n",
        "for i in range (1,20):\n",
        "    print(\"%.2f\\t\\t\"%top_new[i][0],top_new[i][1])"
      ],
      "execution_count": 0,
      "outputs": [
        {
          "output_type": "stream",
          "text": [
            "Weight\t\tTop Positive Feature\n",
            "0.00\t\t सरक\n",
            "0.00\t\t तक\n",
            "0.00\t\t पप\n",
            "0.00\t\t रह\n",
            "0.00\t\t धन\n",
            "0.00\t\t एक\n",
            "0.00\t\t सम\n",
            "0.00\t\t नर\n",
            "0.00\t\t कहत\n",
            "0.00\t\t कम\n",
            "0.00\t\t नम\n",
            "0.00\t\t जन\n",
            "0.00\t\t अब\n",
            "0.00\t\t बन\n",
            "0.00\t\t पत\n",
            "0.00\t\t गठब\n",
            "0.00\t\t कह\n",
            "0.00\t\t एम\n",
            "0.00\t\t चल\n"
          ],
          "name": "stdout"
        }
      ]
    },
    {
      "cell_type": "markdown",
      "metadata": {
        "id": "ljAr9MW0bLze",
        "colab_type": "text"
      },
      "source": [
        "## Changing the probability values for the decision"
      ]
    },
    {
      "cell_type": "code",
      "metadata": {
        "id": "CDTyE6ArbLzf",
        "colab_type": "code",
        "colab": {}
      },
      "source": [
        "gnb = LogisticRegression(penalty='l2',C = .0001,class_weight ='balanced')\n",
        "gnb.fit(X_train1,y_train)\n",
        "y_pre = gnb.predict_proba(X_test1)\n",
        "y_pre1 = gnb.predict_proba(X_train1)"
      ],
      "execution_count": 0,
      "outputs": []
    },
    {
      "cell_type": "code",
      "metadata": {
        "id": "nKSKWnQBbLzh",
        "colab_type": "code",
        "outputId": "ed6ffe75-e2e6-4ffa-ded3-14047aacfe85",
        "colab": {
          "base_uri": "https://localhost:8080/",
          "height": 629
        }
      },
      "source": [
        "for k in [.025,.05,.1,.2,.3,.4,.5,.6,.7,.8,.9,.99]:\n",
        "    predict1 = cal_acc(y_pre,k)\n",
        "    predict2 = cal_acc(y_pre1,k)\n",
        "    print(\"===\"*15)\n",
        "    print(k,\"Test Accuracy score of the model :\",accuracy_score(y_test,predict1))\n",
        "    print(\"Train Accuracy score of the model :\",accuracy_score(y_train,predict2))"
      ],
      "execution_count": 0,
      "outputs": [
        {
          "output_type": "stream",
          "text": [
            "=============================================\n",
            "0.025 Test Accuracy score of the model : 0.408955223880597\n",
            "Train Accuracy score of the model : 0.37949101796407186\n",
            "=============================================\n",
            "0.05 Test Accuracy score of the model : 0.408955223880597\n",
            "Train Accuracy score of the model : 0.37949101796407186\n",
            "=============================================\n",
            "0.1 Test Accuracy score of the model : 0.408955223880597\n",
            "Train Accuracy score of the model : 0.37949101796407186\n",
            "=============================================\n",
            "0.2 Test Accuracy score of the model : 0.408955223880597\n",
            "Train Accuracy score of the model : 0.37949101796407186\n",
            "=============================================\n",
            "0.3 Test Accuracy score of the model : 0.408955223880597\n",
            "Train Accuracy score of the model : 0.37949101796407186\n",
            "=============================================\n",
            "0.4 Test Accuracy score of the model : 0.408955223880597\n",
            "Train Accuracy score of the model : 0.37949101796407186\n",
            "=============================================\n",
            "0.5 Test Accuracy score of the model : 0.6985074626865672\n",
            "Train Accuracy score of the model : 0.7462574850299402\n",
            "=============================================\n",
            "0.6 Test Accuracy score of the model : 0.591044776119403\n",
            "Train Accuracy score of the model : 0.6205089820359282\n",
            "=============================================\n",
            "0.7 Test Accuracy score of the model : 0.591044776119403\n",
            "Train Accuracy score of the model : 0.6205089820359282\n",
            "=============================================\n",
            "0.8 Test Accuracy score of the model : 0.591044776119403\n",
            "Train Accuracy score of the model : 0.6205089820359282\n",
            "=============================================\n",
            "0.9 Test Accuracy score of the model : 0.591044776119403\n",
            "Train Accuracy score of the model : 0.6205089820359282\n",
            "=============================================\n",
            "0.99 Test Accuracy score of the model : 0.591044776119403\n",
            "Train Accuracy score of the model : 0.6205089820359282\n"
          ],
          "name": "stdout"
        }
      ]
    }
  ]
}
